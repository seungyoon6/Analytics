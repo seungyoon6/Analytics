{
 "cells": [
  {
   "cell_type": "code",
   "execution_count": 0,
   "metadata": {
    "colab": {},
    "colab_type": "code",
    "id": "PlHaW52x8Ycg"
   },
   "outputs": [],
   "source": [
    "# Recall function\n",
    "import tensorflow as tf\n",
    "from tensorflow.keras.layers import Input, LSTM, GRU, SimpleRNN, Dense, GlobalMaxPool1D, Dropout\n",
    "from tensorflow.keras.models import Model\n",
    "from tensorflow.keras.optimizers import SGD, Adam\n",
    "\n",
    "from sklearn.linear_model import LinearRegression\n",
    "from sklearn.svm import SVR\n",
    "from sklearn.model_selection import train_test_split\n",
    "from datetime import date\n",
    "import numpy as np\n",
    "import pandas as pd\n",
    "import matplotlib.pyplot as plt\n",
    "from sklearn.preprocessing import StandardScaler\n",
    "import random\n",
    "import matplotlib.pyplot as plt\n",
    "%matplotlib inline"
   ]
  },
  {
   "cell_type": "code",
   "execution_count": 0,
   "metadata": {
    "colab": {},
    "colab_type": "code",
    "id": "jIpj3cCjtqe1"
   },
   "outputs": [],
   "source": [
    "# MAPE Metric Function\n",
    "def MAPE(y_predict,y_target):\n",
    "    return ((np.abs(y_predict-y_target)/(y_target)).sum())/n_predict"
   ]
  },
  {
   "cell_type": "code",
   "execution_count": 0,
   "metadata": {
    "colab": {},
    "colab_type": "code",
    "id": "ltMpsUl5IXY3"
   },
   "outputs": [],
   "source": [
    "# R Metric Function\n",
    "def R(y_predict):\n",
    "    x_forecast = np.array(GM.drop(['Prediction'],1))[-n_predict:].reshape(-1,1)\n",
    "    y_predict = np.array(y_predict).reshape(-1,1)\n",
    "    mean_x_forecast = np.mean(x_forecast)\n",
    "    mean_y_predict = np.mean(y_predict)\n",
    "    mean_x_forecast = np.array(mean_x_forecast).reshape(-1,1)\n",
    "    mean_y_predict = np.array(mean_y_predict).reshape(-1,1)\n",
    "    nominator = sum((x_forecast-mean_x_forecast)*(y_predict-mean_y_predict))\n",
    "    denominator = np.multiply(np.sqrt(sum(np.power(x_forecast-mean_x_forecast,2))),np.sqrt(sum(np.power(y_predict-mean_y_predict,2))))   \n",
    "    return(nominator/denominator)"
   ]
  },
  {
   "cell_type": "code",
   "execution_count": 5,
   "metadata": {
    "colab": {
     "base_uri": "https://localhost:8080/",
     "height": 74,
     "resources": {
      "http://localhost:8080/nbextensions/google.colab/files.js": {
       "data": "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",
       "headers": [
        [
         "content-type",
         "application/javascript"
        ]
       ],
       "ok": true,
       "status": 200,
       "status_text": ""
      }
     }
    },
    "colab_type": "code",
    "id": "WMiPdYgN84ge",
    "outputId": "5daf5bfa-753d-4666-f391-8a9bd4036f20"
   },
   "outputs": [
    {
     "data": {
      "text/html": [
       "\n",
       "     <input type=\"file\" id=\"files-70d61a84-36a6-4f86-ae21-0a6cbb777011\" name=\"files[]\" multiple disabled />\n",
       "     <output id=\"result-70d61a84-36a6-4f86-ae21-0a6cbb777011\">\n",
       "      Upload widget is only available when the cell has been executed in the\n",
       "      current browser session. Please rerun this cell to enable.\n",
       "      </output>\n",
       "      <script src=\"/nbextensions/google.colab/files.js\"></script> "
      ],
      "text/plain": [
       "<IPython.core.display.HTML object>"
      ]
     },
     "metadata": {
      "tags": []
     },
     "output_type": "display_data"
    },
    {
     "name": "stdout",
     "output_type": "stream",
     "text": [
      "Saving GM_data.csv to GM_data.csv\n"
     ]
    }
   ],
   "source": [
    "from google.colab import files\n",
    "uploaded = files.upload()"
   ]
  },
  {
   "cell_type": "code",
   "execution_count": 0,
   "metadata": {
    "colab": {},
    "colab_type": "code",
    "id": "2DAStkcA9Qnh"
   },
   "outputs": [],
   "source": [
    "# Data Preprocessing\n",
    "GM = pd.read_csv('GM_data.csv',error_bad_lines=False)"
   ]
  },
  {
   "cell_type": "code",
   "execution_count": 7,
   "metadata": {
    "colab": {
     "base_uri": "https://localhost:8080/",
     "height": 204
    },
    "colab_type": "code",
    "id": "pmNJIqyl9aQa",
    "outputId": "78a1f4eb-c591-4203-9d05-c75ac7b8cd8f"
   },
   "outputs": [
    {
     "data": {
      "text/html": [
       "<div>\n",
       "<style scoped>\n",
       "    .dataframe tbody tr th:only-of-type {\n",
       "        vertical-align: middle;\n",
       "    }\n",
       "\n",
       "    .dataframe tbody tr th {\n",
       "        vertical-align: top;\n",
       "    }\n",
       "\n",
       "    .dataframe thead th {\n",
       "        text-align: right;\n",
       "    }\n",
       "</style>\n",
       "<table border=\"1\" class=\"dataframe\">\n",
       "  <thead>\n",
       "    <tr style=\"text-align: right;\">\n",
       "      <th></th>\n",
       "      <th>date</th>\n",
       "      <th>open</th>\n",
       "      <th>high</th>\n",
       "      <th>low</th>\n",
       "      <th>close</th>\n",
       "      <th>volume</th>\n",
       "      <th>Name</th>\n",
       "    </tr>\n",
       "  </thead>\n",
       "  <tbody>\n",
       "    <tr>\n",
       "      <th>0</th>\n",
       "      <td>2013-02-08</td>\n",
       "      <td>28.54</td>\n",
       "      <td>28.73</td>\n",
       "      <td>28.50</td>\n",
       "      <td>28.57</td>\n",
       "      <td>6316645</td>\n",
       "      <td>GM</td>\n",
       "    </tr>\n",
       "    <tr>\n",
       "      <th>1</th>\n",
       "      <td>2013-02-11</td>\n",
       "      <td>28.51</td>\n",
       "      <td>28.65</td>\n",
       "      <td>28.35</td>\n",
       "      <td>28.53</td>\n",
       "      <td>5589830</td>\n",
       "      <td>GM</td>\n",
       "    </tr>\n",
       "    <tr>\n",
       "      <th>2</th>\n",
       "      <td>2013-02-12</td>\n",
       "      <td>28.43</td>\n",
       "      <td>28.75</td>\n",
       "      <td>28.24</td>\n",
       "      <td>28.55</td>\n",
       "      <td>7175443</td>\n",
       "      <td>GM</td>\n",
       "    </tr>\n",
       "    <tr>\n",
       "      <th>3</th>\n",
       "      <td>2013-02-13</td>\n",
       "      <td>28.75</td>\n",
       "      <td>28.87</td>\n",
       "      <td>28.44</td>\n",
       "      <td>28.67</td>\n",
       "      <td>9281737</td>\n",
       "      <td>GM</td>\n",
       "    </tr>\n",
       "    <tr>\n",
       "      <th>4</th>\n",
       "      <td>2013-02-14</td>\n",
       "      <td>28.74</td>\n",
       "      <td>29.36</td>\n",
       "      <td>27.67</td>\n",
       "      <td>27.75</td>\n",
       "      <td>19226730</td>\n",
       "      <td>GM</td>\n",
       "    </tr>\n",
       "  </tbody>\n",
       "</table>\n",
       "</div>"
      ],
      "text/plain": [
       "         date   open   high    low  close    volume Name\n",
       "0  2013-02-08  28.54  28.73  28.50  28.57   6316645   GM\n",
       "1  2013-02-11  28.51  28.65  28.35  28.53   5589830   GM\n",
       "2  2013-02-12  28.43  28.75  28.24  28.55   7175443   GM\n",
       "3  2013-02-13  28.75  28.87  28.44  28.67   9281737   GM\n",
       "4  2013-02-14  28.74  29.36  27.67  27.75  19226730   GM"
      ]
     },
     "execution_count": 7,
     "metadata": {
      "tags": []
     },
     "output_type": "execute_result"
    }
   ],
   "source": [
    "GM.head()"
   ]
  },
  {
   "cell_type": "code",
   "execution_count": 8,
   "metadata": {
    "colab": {
     "base_uri": "https://localhost:8080/",
     "height": 204
    },
    "colab_type": "code",
    "id": "oP2EnpGq9quj",
    "outputId": "5f8280df-eb3c-4767-b255-7c3b29df82fe"
   },
   "outputs": [
    {
     "data": {
      "text/html": [
       "<div>\n",
       "<style scoped>\n",
       "    .dataframe tbody tr th:only-of-type {\n",
       "        vertical-align: middle;\n",
       "    }\n",
       "\n",
       "    .dataframe tbody tr th {\n",
       "        vertical-align: top;\n",
       "    }\n",
       "\n",
       "    .dataframe thead th {\n",
       "        text-align: right;\n",
       "    }\n",
       "</style>\n",
       "<table border=\"1\" class=\"dataframe\">\n",
       "  <thead>\n",
       "    <tr style=\"text-align: right;\">\n",
       "      <th></th>\n",
       "      <th>date</th>\n",
       "      <th>open</th>\n",
       "      <th>high</th>\n",
       "      <th>low</th>\n",
       "      <th>close</th>\n",
       "      <th>volume</th>\n",
       "      <th>Name</th>\n",
       "    </tr>\n",
       "  </thead>\n",
       "  <tbody>\n",
       "    <tr>\n",
       "      <th>1254</th>\n",
       "      <td>2018-02-01</td>\n",
       "      <td>42.12</td>\n",
       "      <td>42.60</td>\n",
       "      <td>41.95</td>\n",
       "      <td>42.43</td>\n",
       "      <td>9629833</td>\n",
       "      <td>GM</td>\n",
       "    </tr>\n",
       "    <tr>\n",
       "      <th>1255</th>\n",
       "      <td>2018-02-02</td>\n",
       "      <td>42.22</td>\n",
       "      <td>42.27</td>\n",
       "      <td>40.85</td>\n",
       "      <td>41.00</td>\n",
       "      <td>13982144</td>\n",
       "      <td>GM</td>\n",
       "    </tr>\n",
       "    <tr>\n",
       "      <th>1256</th>\n",
       "      <td>2018-02-05</td>\n",
       "      <td>40.98</td>\n",
       "      <td>41.67</td>\n",
       "      <td>39.51</td>\n",
       "      <td>39.54</td>\n",
       "      <td>19660620</td>\n",
       "      <td>GM</td>\n",
       "    </tr>\n",
       "    <tr>\n",
       "      <th>1257</th>\n",
       "      <td>2018-02-06</td>\n",
       "      <td>40.06</td>\n",
       "      <td>42.23</td>\n",
       "      <td>40.00</td>\n",
       "      <td>41.86</td>\n",
       "      <td>26988259</td>\n",
       "      <td>GM</td>\n",
       "    </tr>\n",
       "    <tr>\n",
       "      <th>1258</th>\n",
       "      <td>2018-02-07</td>\n",
       "      <td>41.80</td>\n",
       "      <td>43.56</td>\n",
       "      <td>41.65</td>\n",
       "      <td>42.39</td>\n",
       "      <td>19402866</td>\n",
       "      <td>GM</td>\n",
       "    </tr>\n",
       "  </tbody>\n",
       "</table>\n",
       "</div>"
      ],
      "text/plain": [
       "            date   open   high    low  close    volume Name\n",
       "1254  2018-02-01  42.12  42.60  41.95  42.43   9629833   GM\n",
       "1255  2018-02-02  42.22  42.27  40.85  41.00  13982144   GM\n",
       "1256  2018-02-05  40.98  41.67  39.51  39.54  19660620   GM\n",
       "1257  2018-02-06  40.06  42.23  40.00  41.86  26988259   GM\n",
       "1258  2018-02-07  41.80  43.56  41.65  42.39  19402866   GM"
      ]
     },
     "execution_count": 8,
     "metadata": {
      "tags": []
     },
     "output_type": "execute_result"
    }
   ],
   "source": [
    "GM.tail()"
   ]
  },
  {
   "cell_type": "code",
   "execution_count": 9,
   "metadata": {
    "colab": {
     "base_uri": "https://localhost:8080/",
     "height": 530
    },
    "colab_type": "code",
    "id": "pnQ0NePEwloz",
    "outputId": "3d33fa92-6c4d-442a-a32d-1a90dd03e9e0"
   },
   "outputs": [
    {
     "data": {
      "text/plain": [
       "Text(0.5, 1.0, 'GM Stock')"
      ]
     },
     "execution_count": 9,
     "metadata": {
      "tags": []
     },
     "output_type": "execute_result"
    },
    {
     "data": {
      "image/png": "[encoded data removed]",
      "text/plain": [
       "<Figure size 1440x576 with 1 Axes>"
      ]
     },
     "metadata": {
      "needs_background": "light",
      "tags": []
     },
     "output_type": "display_data"
    }
   ],
   "source": [
    "plt.figure(figsize=(20,8))\n",
    "plt.plot('date','close',data=GM)\n",
    "plt.xlabel('Date')\n",
    "plt.ylabel('Close Price')\n",
    "plt.title('GM Stock')"
   ]
  },
  {
   "cell_type": "markdown",
   "metadata": {
    "colab_type": "text",
    "id": "kSI997lD2Olp"
   },
   "source": [
    "# **LSTM METHOD**\n"
   ]
  },
  {
   "cell_type": "code",
   "execution_count": 0,
   "metadata": {
    "colab": {},
    "colab_type": "code",
    "id": "K2p2Osxl5qF1"
   },
   "outputs": [],
   "source": [
    "series = GM['close'].values.reshape(-1,1)"
   ]
  },
  {
   "cell_type": "code",
   "execution_count": 0,
   "metadata": {
    "colab": {},
    "colab_type": "code",
    "id": "OanwBwAI-JXi"
   },
   "outputs": [],
   "source": [
    "# Normalize the data\n",
    "scaler = StandardScaler() \n",
    "scaler.fit(series[:len(series)//2])\n",
    "series = scaler.transform(series).flatten()"
   ]
  },
  {
   "cell_type": "code",
   "execution_count": 12,
   "metadata": {
    "colab": {
     "base_uri": "https://localhost:8080/",
     "height": 285
    },
    "colab_type": "code",
    "id": "XawXdOpNGkzJ",
    "outputId": "28bb5426-2778-4f2c-c2f7-caae0e92c56d"
   },
   "outputs": [
    {
     "data": {
      "text/plain": [
       "<matplotlib.axes._subplots.AxesSubplot at 0x7f3fce9b57b8>"
      ]
     },
     "execution_count": 12,
     "metadata": {
      "tags": []
     },
     "output_type": "execute_result"
    },
    {
     "data": {
      "image/png": "[encoded data removed]",
      "text/plain": [
       "<Figure size 432x288 with 1 Axes>"
      ]
     },
     "metadata": {
      "needs_background": "light",
      "tags": []
     },
     "output_type": "display_data"
    }
   ],
   "source": [
    "GM['close'].hist()"
   ]
  },
  {
   "cell_type": "markdown",
   "metadata": {
    "colab_type": "text",
    "id": "aGINQ1O87V29"
   },
   "source": [
    "LSTM setting\n"
   ]
  },
  {
   "cell_type": "code",
   "execution_count": 43,
   "metadata": {
    "colab": {
     "base_uri": "https://localhost:8080/",
     "height": 34
    },
    "colab_type": "code",
    "id": "yOnq73HlHC0g",
    "outputId": "cdae8203-b34c-4ada-a035-6b63d167d68e"
   },
   "outputs": [
    {
     "name": "stdout",
     "output_type": "stream",
     "text": [
      "X_train.shape (1159, 100, 1) X_test.shape (30, 100, 1) Y_train.shape (1129,) Y_test.shape (30,)\n"
     ]
    }
   ],
   "source": [
    "# Build the data set\n",
    "T = 100   # Time sequence window size\n",
    "D = 1\n",
    "X = []\n",
    "Y = []\n",
    "n_predict = 30\n",
    "\n",
    "for t in range(len(series)-T):\n",
    "  x = series[t:t+T]\n",
    "  X.append(x)\n",
    "  y = series[t+T]\n",
    "  Y.append(y)\n",
    "\n",
    "X = np.array(X).reshape(-1, T, 1)\n",
    "Y = np.array(Y)\n",
    "N = len(X)\n",
    "\n",
    "X_train = X[:-n_predict]\n",
    "Y_train = Y[:-n_predict]\n",
    "X_test = X[-n_predict:]\n",
    "Y_test = Y[-n_predict:]\n",
    "\n",
    "print(\"X_train.shape\",X.shape, \"X_test.shape\",X_test.shape, \"Y_train.shape\",Y_train.shape, \"Y_test.shape\",Y_test.shape)"
   ]
  },
  {
   "cell_type": "code",
   "execution_count": 0,
   "metadata": {
    "colab": {},
    "colab_type": "code",
    "id": "m-2zR68L6ljE"
   },
   "outputs": [],
   "source": [
    "# Initialize Hyper-parameters for LSTM\n",
    "batch_size = 64       # fix\n",
    "lstm = 50             # PSO search\n",
    "dropout = 0.2         # PSO search\n",
    "learning_rate = 0.01  # PSO search"
   ]
  },
  {
   "cell_type": "code",
   "execution_count": 45,
   "metadata": {
    "colab": {
     "base_uri": "https://localhost:8080/",
     "height": 1000
    },
    "colab_type": "code",
    "id": "OAetIrRuHRUA",
    "outputId": "48b525ad-5074-4f7d-d0da-c7420ea152f5"
   },
   "outputs": [
    {
     "name": "stdout",
     "output_type": "stream",
     "text": [
      "Epoch 1/50\n",
      "18/18 [==============================] - 1s 51ms/step - loss: 0.1130 - val_loss: 0.2828\n",
      "Epoch 2/50\n",
      "18/18 [==============================] - 1s 35ms/step - loss: 0.0629 - val_loss: 0.1301\n",
      "Epoch 3/50\n",
      "18/18 [==============================] - 1s 34ms/step - loss: 0.0560 - val_loss: 0.1018\n",
      "Epoch 4/50\n",
      "18/18 [==============================] - 1s 35ms/step - loss: 0.0506 - val_loss: 0.0930\n",
      "Epoch 5/50\n",
      "18/18 [==============================] - 1s 35ms/step - loss: 0.0485 - val_loss: 0.2531\n",
      "Epoch 6/50\n",
      "18/18 [==============================] - 1s 35ms/step - loss: 0.0493 - val_loss: 0.1069\n",
      "Epoch 7/50\n",
      "18/18 [==============================] - 1s 35ms/step - loss: 0.0496 - val_loss: 0.1654\n",
      "Epoch 8/50\n",
      "18/18 [==============================] - 1s 35ms/step - loss: 0.0455 - val_loss: 0.2055\n",
      "Epoch 9/50\n",
      "18/18 [==============================] - 1s 36ms/step - loss: 0.0539 - val_loss: 0.0790\n",
      "Epoch 10/50\n",
      "18/18 [==============================] - 1s 36ms/step - loss: 0.0457 - val_loss: 0.1020\n",
      "Epoch 11/50\n",
      "18/18 [==============================] - 1s 39ms/step - loss: 0.0414 - val_loss: 0.0760\n",
      "Epoch 12/50\n",
      "18/18 [==============================] - 1s 35ms/step - loss: 0.0423 - val_loss: 0.0760\n",
      "Epoch 13/50\n",
      "18/18 [==============================] - 1s 37ms/step - loss: 0.0424 - val_loss: 0.0803\n",
      "Epoch 14/50\n",
      "18/18 [==============================] - 1s 36ms/step - loss: 0.0490 - val_loss: 0.1049\n",
      "Epoch 15/50\n",
      "18/18 [==============================] - 1s 36ms/step - loss: 0.0422 - val_loss: 0.0712\n",
      "Epoch 16/50\n",
      "18/18 [==============================] - 1s 37ms/step - loss: 0.0386 - val_loss: 0.0883\n",
      "Epoch 17/50\n",
      "18/18 [==============================] - 1s 36ms/step - loss: 0.0392 - val_loss: 0.0930\n",
      "Epoch 18/50\n",
      "18/18 [==============================] - 1s 37ms/step - loss: 0.0397 - val_loss: 0.0705\n",
      "Epoch 19/50\n",
      "18/18 [==============================] - 1s 38ms/step - loss: 0.0415 - val_loss: 0.0751\n",
      "Epoch 20/50\n",
      "18/18 [==============================] - 1s 35ms/step - loss: 0.0408 - val_loss: 0.0746\n",
      "Epoch 21/50\n",
      "18/18 [==============================] - 1s 35ms/step - loss: 0.0387 - val_loss: 0.0773\n",
      "Epoch 22/50\n",
      "18/18 [==============================] - 1s 38ms/step - loss: 0.0388 - val_loss: 0.0943\n",
      "Epoch 23/50\n",
      "18/18 [==============================] - 1s 36ms/step - loss: 0.0432 - val_loss: 0.1194\n",
      "Epoch 24/50\n",
      "18/18 [==============================] - 1s 37ms/step - loss: 0.0428 - val_loss: 0.0709\n",
      "Epoch 25/50\n",
      "18/18 [==============================] - 1s 36ms/step - loss: 0.0384 - val_loss: 0.0924\n",
      "Epoch 26/50\n",
      "18/18 [==============================] - 1s 36ms/step - loss: 0.0393 - val_loss: 0.0714\n",
      "Epoch 27/50\n",
      "18/18 [==============================] - 1s 37ms/step - loss: 0.0432 - val_loss: 0.0855\n",
      "Epoch 28/50\n",
      "18/18 [==============================] - 1s 36ms/step - loss: 0.0421 - val_loss: 0.0836\n",
      "Epoch 29/50\n",
      "18/18 [==============================] - 1s 36ms/step - loss: 0.0399 - val_loss: 0.0843\n",
      "Epoch 30/50\n",
      "18/18 [==============================] - 1s 37ms/step - loss: 0.0417 - val_loss: 0.0797\n",
      "Epoch 31/50\n",
      "18/18 [==============================] - 1s 39ms/step - loss: 0.0384 - val_loss: 0.0860\n",
      "Epoch 32/50\n",
      "18/18 [==============================] - 1s 40ms/step - loss: 0.0406 - val_loss: 0.0707\n",
      "Epoch 33/50\n",
      "18/18 [==============================] - 1s 40ms/step - loss: 0.0391 - val_loss: 0.0692\n",
      "Epoch 34/50\n",
      "18/18 [==============================] - 1s 40ms/step - loss: 0.0372 - val_loss: 0.0696\n",
      "Epoch 35/50\n",
      "18/18 [==============================] - 1s 37ms/step - loss: 0.0441 - val_loss: 0.0694\n",
      "Epoch 36/50\n",
      "18/18 [==============================] - 1s 37ms/step - loss: 0.0407 - val_loss: 0.1025\n",
      "Epoch 37/50\n",
      "18/18 [==============================] - 1s 36ms/step - loss: 0.0394 - val_loss: 0.1745\n",
      "Epoch 38/50\n",
      "18/18 [==============================] - 1s 36ms/step - loss: 0.0406 - val_loss: 0.0739\n",
      "Epoch 39/50\n",
      "18/18 [==============================] - 1s 37ms/step - loss: 0.0396 - val_loss: 0.0755\n",
      "Epoch 40/50\n",
      "18/18 [==============================] - 1s 36ms/step - loss: 0.0368 - val_loss: 0.0829\n",
      "Epoch 41/50\n",
      "18/18 [==============================] - 1s 36ms/step - loss: 0.0385 - val_loss: 0.1122\n",
      "Epoch 42/50\n",
      "18/18 [==============================] - 1s 36ms/step - loss: 0.0366 - val_loss: 0.0769\n",
      "Epoch 43/50\n",
      "18/18 [==============================] - 1s 38ms/step - loss: 0.0376 - val_loss: 0.0806\n",
      "Epoch 44/50\n",
      "18/18 [==============================] - 1s 39ms/step - loss: 0.0345 - val_loss: 0.0743\n",
      "Epoch 45/50\n",
      "18/18 [==============================] - 1s 35ms/step - loss: 0.0382 - val_loss: 0.0750\n",
      "Epoch 46/50\n",
      "18/18 [==============================] - 1s 37ms/step - loss: 0.0400 - val_loss: 0.0723\n",
      "Epoch 47/50\n",
      "18/18 [==============================] - 1s 39ms/step - loss: 0.0429 - val_loss: 0.0833\n",
      "Epoch 48/50\n",
      "18/18 [==============================] - 1s 35ms/step - loss: 0.0379 - val_loss: 0.0897\n",
      "Epoch 49/50\n",
      "18/18 [==============================] - 1s 36ms/step - loss: 0.0385 - val_loss: 0.0765\n",
      "Epoch 50/50\n",
      "18/18 [==============================] - 1s 37ms/step - loss: 0.0373 - val_loss: 0.0809\n"
     ]
    }
   ],
   "source": [
    "## try autoregressive RNN model (LSTM = 50, Dropout = 0.2, Learning_rate = 0.01, epochs = 50)\n",
    "i = Input(shape=(T,1))\n",
    "x = LSTM(lstm)(i)\n",
    "x = Dropout(dropout)(x)\n",
    "x = Dense(1)(x)\n",
    "model = Model(i, x)\n",
    "model.compile(\n",
    "    loss='mse',\n",
    "    optimizer=Adam(lr=learning_rate),\n",
    ")\n",
    "\n",
    "#train the RNN\n",
    "r = model.fit(\n",
    "    X_train,Y_train,\n",
    "    batch_size=batch_size,\n",
    "    epochs=50,\n",
    "    validation_data=(X_test, Y_test),\n",
    ")"
   ]
  },
  {
   "cell_type": "code",
   "execution_count": 46,
   "metadata": {
    "colab": {
     "base_uri": "https://localhost:8080/",
     "height": 282
    },
    "colab_type": "code",
    "id": "-TQgI9IVHuAo",
    "outputId": "97d477bb-63a0-4654-ac64-47a97f2ca11d"
   },
   "outputs": [
    {
     "data": {
      "text/plain": [
       "<matplotlib.legend.Legend at 0x7f3fc26434a8>"
      ]
     },
     "execution_count": 46,
     "metadata": {
      "tags": []
     },
     "output_type": "execute_result"
    },
    {
     "data": {
      "image/png": "[encoded data removed]",
      "text/plain": [
       "<Figure size 432x288 with 1 Axes>"
      ]
     },
     "metadata": {
      "needs_background": "light",
      "tags": []
     },
     "output_type": "display_data"
    }
   ],
   "source": [
    "plt.plot(r.history['loss'],label='loss')\n",
    "plt.plot(r.history['val_loss'],label='val_loss')\n",
    "plt.legend()"
   ]
  },
  {
   "cell_type": "code",
   "execution_count": 47,
   "metadata": {
    "colab": {
     "base_uri": "https://localhost:8080/",
     "height": 282
    },
    "colab_type": "code",
    "id": "zVSfe6S1H8ff",
    "outputId": "321eed3a-cdd4-4e3d-ded7-72d07931d1f7"
   },
   "outputs": [
    {
     "name": "stdout",
     "output_type": "stream",
     "text": [
      "(30, 1)\n"
     ]
    },
    {
     "data": {
      "image/png": "[encoded data removed]",
      "text/plain": [
       "<Figure size 432x288 with 1 Axes>"
      ]
     },
     "metadata": {
      "needs_background": "light",
      "tags": []
     },
     "output_type": "display_data"
    }
   ],
   "source": [
    "# One-step forecast using true targets\n",
    "outputs = model.predict(X_test)\n",
    "print(outputs.shape)\n",
    "predictions = outputs[:,0]\n",
    "\n",
    "plt.plot(Y_test, label='targets')\n",
    "plt.plot(predictions, label='predictions')\n",
    "plt.legend()\n",
    "plt.show()"
   ]
  },
  {
   "cell_type": "code",
   "execution_count": 48,
   "metadata": {
    "colab": {
     "base_uri": "https://localhost:8080/",
     "height": 34
    },
    "colab_type": "code",
    "id": "AxHoOaiJut_c",
    "outputId": "9e050b1f-61e4-4c05-89fa-6b63fb8999d8"
   },
   "outputs": [
    {
     "data": {
      "text/plain": [
       "0.09080862071163925"
      ]
     },
     "execution_count": 48,
     "metadata": {
      "tags": []
     },
     "output_type": "execute_result"
    }
   ],
   "source": [
    "MAPE(predictions,Y_test)"
   ]
  },
  {
   "cell_type": "code",
   "execution_count": 49,
   "metadata": {
    "colab": {
     "base_uri": "https://localhost:8080/",
     "height": 34
    },
    "colab_type": "code",
    "id": "8Oo3LdvPCTQp",
    "outputId": "36d70d49-80eb-43a8-a967-d40ae4ddd901"
   },
   "outputs": [
    {
     "data": {
      "text/plain": [
       "array([0.7707103])"
      ]
     },
     "execution_count": 49,
     "metadata": {
      "tags": []
     },
     "output_type": "execute_result"
    }
   ],
   "source": [
    "R(predictions)"
   ]
  },
  {
   "cell_type": "code",
   "execution_count": 50,
   "metadata": {
    "colab": {
     "base_uri": "https://localhost:8080/",
     "height": 282
    },
    "colab_type": "code",
    "id": "c_z2mmhnIKlh",
    "outputId": "9e03558e-ea13-4f99-b103-6856bb0e99c4"
   },
   "outputs": [
    {
     "data": {
      "text/plain": [
       "<matplotlib.legend.Legend at 0x7f3fced3d518>"
      ]
     },
     "execution_count": 50,
     "metadata": {
      "tags": []
     },
     "output_type": "execute_result"
    },
    {
     "data": {
      "image/png": "[encoded data removed]",
      "text/plain": [
       "<Figure size 432x288 with 1 Axes>"
      ]
     },
     "metadata": {
      "needs_background": "light",
      "tags": []
     },
     "output_type": "display_data"
    }
   ],
   "source": [
    "# Multi-step forecast\n",
    "validation_target = Y_test\n",
    "validation_predictions = []\n",
    "\n",
    "# last train input\n",
    "last_x = X[-n_predict]\n",
    "\n",
    "while len(validation_predictions) < len(validation_target):\n",
    "  p = model.predict(last_x.reshape(1,T,1))[0,0]\n",
    "  validation_predictions.append(p)\n",
    "  last_x = np.roll(last_x,-1)\n",
    "  last_x[-1] = p\n",
    "\n",
    "plt.plot(validation_target, label='forecast target')\n",
    "plt.plot(validation_predictions, label=\"forecast predictions\")\n",
    "plt.legend()"
   ]
  },
  {
   "cell_type": "code",
   "execution_count": 51,
   "metadata": {
    "colab": {
     "base_uri": "https://localhost:8080/",
     "height": 34
    },
    "colab_type": "code",
    "id": "P2gcnKiKyLJa",
    "outputId": "fa7b0020-6b2c-43d4-ade5-9220c627f785"
   },
   "outputs": [
    {
     "data": {
      "text/plain": [
       "0.3392967496203299"
      ]
     },
     "execution_count": 51,
     "metadata": {
      "tags": []
     },
     "output_type": "execute_result"
    }
   ],
   "source": [
    "MAPE(validation_predictions,Y[-n_predict:])"
   ]
  },
  {
   "cell_type": "code",
   "execution_count": 52,
   "metadata": {
    "colab": {
     "base_uri": "https://localhost:8080/",
     "height": 34
    },
    "colab_type": "code",
    "id": "eXBGZPymCMnq",
    "outputId": "9b3d76eb-6710-499f-d3a8-92a4e8f75ae3"
   },
   "outputs": [
    {
     "data": {
      "text/plain": [
       "array([0.08755319])"
      ]
     },
     "execution_count": 52,
     "metadata": {
      "tags": []
     },
     "output_type": "execute_result"
    }
   ],
   "source": [
    "R(validation_predictions)"
   ]
  },
  {
   "cell_type": "code",
   "execution_count": 0,
   "metadata": {
    "colab": {},
    "colab_type": "code",
    "id": "feQ5TWHpyzke"
   },
   "outputs": [],
   "source": [
    "# Output -> validation loss\n",
    "def LSTM_fit(lstm,dropout,learning_rate):\n",
    "  ## try autoregressive RNN model\n",
    "    i = Input(shape=(T,1))\n",
    "    x = LSTM(lstm)(i)\n",
    "    x = Dropout(dropout)(x)\n",
    "    x = Dense(1)(x)\n",
    "    model = Model(i, x)\n",
    "    model.compile(\n",
    "        loss='mse',\n",
    "        optimizer=Adam(lr=learning_rate),\n",
    "    )\n",
    "\n",
    "    #train the RNN\n",
    "    r = model.fit(\n",
    "        X[:-n_predict],Y[:-n_predict],\n",
    "        epochs=50,\n",
    "        validation_data=(X[-n_predict:], Y[-n_predict:]),\n",
    "        verbose=0,\n",
    "    )\n",
    "\n",
    "    return min(r.history['val_loss'])\n"
   ]
  },
  {
   "cell_type": "code",
   "execution_count": 0,
   "metadata": {
    "colab": {},
    "colab_type": "code",
    "id": "zIH7xSjhhw9b"
   },
   "outputs": [],
   "source": [
    "# output -> multi-forecast prediction\n",
    "def LSTM_multi_forecast_function(lstm,dropout,learning_rate):\n",
    "  ## try autoregressive RNN model\n",
    "    i = Input(shape=(T,1))\n",
    "    x = LSTM(lstm)(i)\n",
    "    x = Dropout(dropout)(x)\n",
    "    x = Dense(1)(x)\n",
    "    model = Model(i, x)\n",
    "    model.compile(\n",
    "        loss='mse',\n",
    "        optimizer=Adam(lr=learning_rate),\n",
    "    )\n",
    "\n",
    "    #train the RNN\n",
    "    r = model.fit(\n",
    "        X_train,Y_train,\n",
    "        epochs=50,\n",
    "        validation_data=(X_test, Y_test),\n",
    "        verbose=0,\n",
    "    )\n",
    "\n",
    "    # Multi-step forecast\n",
    "    validation_target = Y_test\n",
    "    validation_predictions = []\n",
    "\n",
    "    # last train input\n",
    "    last_x = X[-n_predict]\n",
    "\n",
    "    while len(validation_predictions) < len(validation_target):\n",
    "      p = model.predict(last_x.reshape(1,T,1))[0,0]\n",
    "      validation_predictions.append(p)\n",
    "      last_x = np.roll(last_x,-1)\n",
    "      last_x[-1] = p\n",
    "\n",
    "    plt.plot(validation_target, label='forecast target')\n",
    "    plt.plot(validation_predictions, label=\"forecast predictions\")\n",
    "    plt.legend()\n",
    "\n",
    "    return validation_predictions\n"
   ]
  },
  {
   "cell_type": "code",
   "execution_count": 0,
   "metadata": {
    "colab": {},
    "colab_type": "code",
    "id": "hPjCBXw10Gru"
   },
   "outputs": [],
   "source": [
    "# output -> one-step-forecast prediction\n",
    "def LSTM_one_forecast_function(lstm,dropout,learning_rate):\n",
    "  ## try autoregressive RNN model\n",
    "    i = Input(shape=(T,1))\n",
    "    x = LSTM(lstm)(i)\n",
    "    x = Dropout(dropout)(x)\n",
    "    x = Dense(1)(x)\n",
    "    model = Model(i, x)\n",
    "    model.compile(\n",
    "        loss='mse',\n",
    "        optimizer=Adam(lr=learning_rate),\n",
    "    )\n",
    "\n",
    "    #train the RNN\n",
    "    r = model.fit(\n",
    "        X_train,Y_train,\n",
    "        epochs=50,\n",
    "        validation_data=(X_test, Y_test),\n",
    "        verbose=0,\n",
    "    )\n",
    "\n",
    "    # One-step forecast using true targets\n",
    "    outputs = model.predict(X_test)\n",
    "    print(outputs.shape)\n",
    "    predictions = outputs[:,0]\n",
    "\n",
    "    plt.plot(Y_test, label='targets')\n",
    "    plt.plot(predictions, label='predictions')\n",
    "    plt.legend()\n",
    "    plt.show()\n",
    "\n",
    "    return predictions\n"
   ]
  },
  {
   "cell_type": "markdown",
   "metadata": {
    "colab_type": "text",
    "id": "D4S9MrcA7N_b"
   },
   "source": [
    "Particle Swarm Optimization setting"
   ]
  },
  {
   "cell_type": "code",
   "execution_count": 0,
   "metadata": {
    "colab": {},
    "colab_type": "code",
    "id": "Ug5rerTFSc6Y"
   },
   "outputs": [],
   "source": [
    "# Parameters for Particle Swarm Optimization\n",
    "W = 0.1\n",
    "c1 = 2\n",
    "c2 = 2\n",
    "n_iterations = 3\n",
    "target_error = 0.03\n",
    "n_particles = 15  #typical range"
   ]
  },
  {
   "cell_type": "code",
   "execution_count": 0,
   "metadata": {
    "colab": {},
    "colab_type": "code",
    "id": "Su1Z9HHxSdCe"
   },
   "outputs": [],
   "source": [
    "class Particle():\n",
    "    def __init__(self):\n",
    "        self.position = np.array([int(1**(bool(random.getrandbits(1))) * random.random()*100), 1**(bool(random.getrandbits(1))) * random.random()*0.2, 1**(bool(random.getrandbits(1))) * random.random()*0.1])\n",
    "        self.pbest_position = self.position\n",
    "        self.pbest_value = float('inf')\n",
    "        self.velocity = np.array([0,0,0])\n",
    "\n",
    "    def __str__(self):\n",
    "        print(\"A particle is at \", self.position, \" meu pbest is \", self.pbest_position)\n",
    "    \n",
    "    def move(self):\n",
    "        self.position[0] = int(self.position[0]) + int(self.velocity[0])\n",
    "        self.position[1] = self.position[1] + self.velocity[1]\n",
    "        self.position[2] = self.position[2] + self.velocity[2]\n",
    "        if((self.position < 0).any()):\n",
    "            self.position = abs(self.position)"
   ]
  },
  {
   "cell_type": "code",
   "execution_count": 0,
   "metadata": {
    "colab": {},
    "colab_type": "code",
    "id": "TJK8uokcSdwl"
   },
   "outputs": [],
   "source": [
    "class Space():\n",
    "    def __init__(self, target_error, n_particles):\n",
    "        self.target_error = target_error\n",
    "        self.n_particles = n_particles\n",
    "        self.particles = []\n",
    "        self.gbest_value = float('inf')\n",
    "        self.gbest_position = np.array([random.random()*50, random.random()*50, random.random()*50])\n",
    "\n",
    "    def print_particles(self):\n",
    "        for particle in self.particles:\n",
    "            particle.__str__()\n",
    "   \n",
    "    def fitness(self, particle):\n",
    "        return LSTM_fit(int(particle.position[0]), particle.position[1], particle.position[2]) \n",
    "\n",
    "    def set_pbest(self):\n",
    "        for particle in self.particles:\n",
    "            fitness_cadidate = self.fitness(particle)\n",
    "            if(particle.pbest_value > fitness_cadidate):\n",
    "                particle.pbest_value = fitness_cadidate\n",
    "                particle.pbest_position = particle.position\n",
    "            \n",
    "\n",
    "    def set_gbest(self):\n",
    "        for particle in self.particles:\n",
    "            best_fitness_cadidate = self.fitness(particle)\n",
    "            if(self.gbest_value > best_fitness_cadidate):\n",
    "                self.gbest_value = best_fitness_cadidate\n",
    "                self.gbest_position = particle.position\n",
    "\n",
    "    def move_particles(self):\n",
    "        for particle in self.particles:\n",
    "            global W\n",
    "            new_velocity = (W*particle.velocity) + (c1*random.random()) * (particle.pbest_position - particle.position) + (random.random()*c2) * (self.gbest_position - particle.position)\n",
    "            particle.velocity = new_velocity\n",
    "            particle.move()"
   ]
  },
  {
   "cell_type": "code",
   "execution_count": 59,
   "metadata": {
    "colab": {
     "base_uri": "https://localhost:8080/",
     "height": 646
    },
    "colab_type": "code",
    "id": "hhgi7NHxSgVO",
    "outputId": "10c21ac1-513b-4213-e199-b7782126a523"
   },
   "outputs": [
    {
     "name": "stdout",
     "output_type": "stream",
     "text": [
      "A particle is at  [8.70000000e+01 2.57478927e-02 7.87353396e-02]  meu pbest is  [8.70000000e+01 2.57478927e-02 7.87353396e-02]\n",
      "A particle is at  [8.50000000e+01 1.32648636e-01 7.63970431e-02]  meu pbest is  [8.50000000e+01 1.32648636e-01 7.63970431e-02]\n",
      "A particle is at  [9.80000000e+01 1.78360357e-01 4.01562419e-02]  meu pbest is  [9.80000000e+01 1.78360357e-01 4.01562419e-02]\n",
      "A particle is at  [39.          0.07431436  0.07077364]  meu pbest is  [39.          0.07431436  0.07077364]\n",
      "A particle is at  [8.20000000e+01 1.50453922e-01 2.76170169e-03]  meu pbest is  [8.20000000e+01 1.50453922e-01 2.76170169e-03]\n",
      "A particle is at  [1.50000000e+01 2.40975183e-03 7.54203176e-02]  meu pbest is  [1.50000000e+01 2.40975183e-03 7.54203176e-02]\n",
      "A particle is at  [19.          0.04790297  0.03052084]  meu pbest is  [19.          0.04790297  0.03052084]\n",
      "A particle is at  [4.60000000e+01 7.88460585e-02 2.76614410e-02]  meu pbest is  [4.60000000e+01 7.88460585e-02 2.76614410e-02]\n",
      "A particle is at  [9.10000000e+01 1.41182455e-01 8.62858258e-03]  meu pbest is  [9.10000000e+01 1.41182455e-01 8.62858258e-03]\n",
      "A particle is at  [4.         0.0790388  0.08963966]  meu pbest is  [4.         0.0790388  0.08963966]\n",
      "A particle is at  [44.          0.06824002  0.0580879 ]  meu pbest is  [44.          0.06824002  0.0580879 ]\n",
      "A particle is at  [21.          0.17922015  0.09790626]  meu pbest is  [21.          0.17922015  0.09790626]\n",
      "A particle is at  [1.50000000e+01 1.39546599e-01 3.30418244e-03]  meu pbest is  [1.50000000e+01 1.39546599e-01 3.30418244e-03]\n",
      "A particle is at  [6.10000000e+01 1.43778714e-01 1.52735803e-02]  meu pbest is  [6.10000000e+01 1.43778714e-01 1.52735803e-02]\n",
      "A particle is at  [7.70000000e+01 5.16074140e-03 6.22564305e-03]  meu pbest is  [7.70000000e+01 5.16074140e-03 6.22564305e-03]\n",
      "0.06063491478562355\n"
     ]
    },
    {
     "ename": "KeyboardInterrupt",
     "evalue": "ignored",
     "output_type": "error",
     "traceback": [
      "\u001b[0;31m---------------------------------------------------------------------------\u001b[0m",
      "\u001b[0;31mKeyboardInterrupt\u001b[0m                         Traceback (most recent call last)",
      "\u001b[0;32m<ipython-input-59-afd1b1583342>\u001b[0m in \u001b[0;36m<module>\u001b[0;34m()\u001b[0m\n\u001b[1;32m      6\u001b[0m \u001b[0miteration\u001b[0m \u001b[0;34m=\u001b[0m \u001b[0;36m0\u001b[0m\u001b[0;34m\u001b[0m\u001b[0;34m\u001b[0m\u001b[0m\n\u001b[1;32m      7\u001b[0m \u001b[0;32mwhile\u001b[0m\u001b[0;34m(\u001b[0m\u001b[0miteration\u001b[0m \u001b[0;34m<\u001b[0m \u001b[0mn_iterations\u001b[0m\u001b[0;34m)\u001b[0m\u001b[0;34m:\u001b[0m\u001b[0;34m\u001b[0m\u001b[0;34m\u001b[0m\u001b[0m\n\u001b[0;32m----> 8\u001b[0;31m     \u001b[0msearch_space\u001b[0m\u001b[0;34m.\u001b[0m\u001b[0mset_pbest\u001b[0m\u001b[0;34m(\u001b[0m\u001b[0;34m)\u001b[0m\u001b[0;34m\u001b[0m\u001b[0;34m\u001b[0m\u001b[0m\n\u001b[0m\u001b[1;32m      9\u001b[0m     \u001b[0msearch_space\u001b[0m\u001b[0;34m.\u001b[0m\u001b[0mset_gbest\u001b[0m\u001b[0;34m(\u001b[0m\u001b[0;34m)\u001b[0m\u001b[0;34m\u001b[0m\u001b[0;34m\u001b[0m\u001b[0m\n\u001b[1;32m     10\u001b[0m     \u001b[0mprint\u001b[0m\u001b[0;34m(\u001b[0m\u001b[0mabs\u001b[0m\u001b[0;34m(\u001b[0m\u001b[0msearch_space\u001b[0m\u001b[0;34m.\u001b[0m\u001b[0mgbest_value\u001b[0m\u001b[0;34m)\u001b[0m\u001b[0;34m)\u001b[0m\u001b[0;34m\u001b[0m\u001b[0;34m\u001b[0m\u001b[0m\n",
      "\u001b[0;32m<ipython-input-58-afd32432bc8d>\u001b[0m in \u001b[0;36mset_pbest\u001b[0;34m(self)\u001b[0m\n\u001b[1;32m     16\u001b[0m     \u001b[0;32mdef\u001b[0m \u001b[0mset_pbest\u001b[0m\u001b[0;34m(\u001b[0m\u001b[0mself\u001b[0m\u001b[0;34m)\u001b[0m\u001b[0;34m:\u001b[0m\u001b[0;34m\u001b[0m\u001b[0;34m\u001b[0m\u001b[0m\n\u001b[1;32m     17\u001b[0m         \u001b[0;32mfor\u001b[0m \u001b[0mparticle\u001b[0m \u001b[0;32min\u001b[0m \u001b[0mself\u001b[0m\u001b[0;34m.\u001b[0m\u001b[0mparticles\u001b[0m\u001b[0;34m:\u001b[0m\u001b[0;34m\u001b[0m\u001b[0;34m\u001b[0m\u001b[0m\n\u001b[0;32m---> 18\u001b[0;31m             \u001b[0mfitness_cadidate\u001b[0m \u001b[0;34m=\u001b[0m \u001b[0mself\u001b[0m\u001b[0;34m.\u001b[0m\u001b[0mfitness\u001b[0m\u001b[0;34m(\u001b[0m\u001b[0mparticle\u001b[0m\u001b[0;34m)\u001b[0m\u001b[0;34m\u001b[0m\u001b[0;34m\u001b[0m\u001b[0m\n\u001b[0m\u001b[1;32m     19\u001b[0m             \u001b[0;32mif\u001b[0m\u001b[0;34m(\u001b[0m\u001b[0mparticle\u001b[0m\u001b[0;34m.\u001b[0m\u001b[0mpbest_value\u001b[0m \u001b[0;34m>\u001b[0m \u001b[0mfitness_cadidate\u001b[0m\u001b[0;34m)\u001b[0m\u001b[0;34m:\u001b[0m\u001b[0;34m\u001b[0m\u001b[0;34m\u001b[0m\u001b[0m\n\u001b[1;32m     20\u001b[0m                 \u001b[0mparticle\u001b[0m\u001b[0;34m.\u001b[0m\u001b[0mpbest_value\u001b[0m \u001b[0;34m=\u001b[0m \u001b[0mfitness_cadidate\u001b[0m\u001b[0;34m\u001b[0m\u001b[0;34m\u001b[0m\u001b[0m\n",
      "\u001b[0;32m<ipython-input-58-afd32432bc8d>\u001b[0m in \u001b[0;36mfitness\u001b[0;34m(self, particle)\u001b[0m\n\u001b[1;32m     12\u001b[0m \u001b[0;34m\u001b[0m\u001b[0m\n\u001b[1;32m     13\u001b[0m     \u001b[0;32mdef\u001b[0m \u001b[0mfitness\u001b[0m\u001b[0;34m(\u001b[0m\u001b[0mself\u001b[0m\u001b[0;34m,\u001b[0m \u001b[0mparticle\u001b[0m\u001b[0;34m)\u001b[0m\u001b[0;34m:\u001b[0m\u001b[0;34m\u001b[0m\u001b[0;34m\u001b[0m\u001b[0m\n\u001b[0;32m---> 14\u001b[0;31m         \u001b[0;32mreturn\u001b[0m \u001b[0mLSTM_fit\u001b[0m\u001b[0;34m(\u001b[0m\u001b[0mint\u001b[0m\u001b[0;34m(\u001b[0m\u001b[0mparticle\u001b[0m\u001b[0;34m.\u001b[0m\u001b[0mposition\u001b[0m\u001b[0;34m[\u001b[0m\u001b[0;36m0\u001b[0m\u001b[0;34m]\u001b[0m\u001b[0;34m)\u001b[0m\u001b[0;34m,\u001b[0m \u001b[0mparticle\u001b[0m\u001b[0;34m.\u001b[0m\u001b[0mposition\u001b[0m\u001b[0;34m[\u001b[0m\u001b[0;36m1\u001b[0m\u001b[0;34m]\u001b[0m\u001b[0;34m,\u001b[0m \u001b[0mparticle\u001b[0m\u001b[0;34m.\u001b[0m\u001b[0mposition\u001b[0m\u001b[0;34m[\u001b[0m\u001b[0;36m2\u001b[0m\u001b[0;34m]\u001b[0m\u001b[0;34m)\u001b[0m\u001b[0;34m\u001b[0m\u001b[0;34m\u001b[0m\u001b[0m\n\u001b[0m\u001b[1;32m     15\u001b[0m \u001b[0;34m\u001b[0m\u001b[0m\n\u001b[1;32m     16\u001b[0m     \u001b[0;32mdef\u001b[0m \u001b[0mset_pbest\u001b[0m\u001b[0;34m(\u001b[0m\u001b[0mself\u001b[0m\u001b[0;34m)\u001b[0m\u001b[0;34m:\u001b[0m\u001b[0;34m\u001b[0m\u001b[0;34m\u001b[0m\u001b[0m\n",
      "\u001b[0;32m<ipython-input-53-c2e43c71923a>\u001b[0m in \u001b[0;36mLSTM_fit\u001b[0;34m(lstm, dropout, learning_rate)\u001b[0m\n\u001b[1;32m     16\u001b[0m         \u001b[0mepochs\u001b[0m\u001b[0;34m=\u001b[0m\u001b[0;36m50\u001b[0m\u001b[0;34m,\u001b[0m\u001b[0;34m\u001b[0m\u001b[0;34m\u001b[0m\u001b[0m\n\u001b[1;32m     17\u001b[0m         \u001b[0mvalidation_data\u001b[0m\u001b[0;34m=\u001b[0m\u001b[0;34m(\u001b[0m\u001b[0mX\u001b[0m\u001b[0;34m[\u001b[0m\u001b[0;34m-\u001b[0m\u001b[0mn_predict\u001b[0m\u001b[0;34m:\u001b[0m\u001b[0;34m]\u001b[0m\u001b[0;34m,\u001b[0m \u001b[0mY\u001b[0m\u001b[0;34m[\u001b[0m\u001b[0;34m-\u001b[0m\u001b[0mn_predict\u001b[0m\u001b[0;34m:\u001b[0m\u001b[0;34m]\u001b[0m\u001b[0;34m)\u001b[0m\u001b[0;34m,\u001b[0m\u001b[0;34m\u001b[0m\u001b[0;34m\u001b[0m\u001b[0m\n\u001b[0;32m---> 18\u001b[0;31m         \u001b[0mverbose\u001b[0m\u001b[0;34m=\u001b[0m\u001b[0;36m0\u001b[0m\u001b[0;34m,\u001b[0m\u001b[0;34m\u001b[0m\u001b[0;34m\u001b[0m\u001b[0m\n\u001b[0m\u001b[1;32m     19\u001b[0m     )\n\u001b[1;32m     20\u001b[0m \u001b[0;34m\u001b[0m\u001b[0m\n",
      "\u001b[0;32m/usr/local/lib/python3.6/dist-packages/tensorflow/python/keras/engine/training.py\u001b[0m in \u001b[0;36m_method_wrapper\u001b[0;34m(self, *args, **kwargs)\u001b[0m\n\u001b[1;32m     64\u001b[0m   \u001b[0;32mdef\u001b[0m \u001b[0m_method_wrapper\u001b[0m\u001b[0;34m(\u001b[0m\u001b[0mself\u001b[0m\u001b[0;34m,\u001b[0m \u001b[0;34m*\u001b[0m\u001b[0margs\u001b[0m\u001b[0;34m,\u001b[0m \u001b[0;34m**\u001b[0m\u001b[0mkwargs\u001b[0m\u001b[0;34m)\u001b[0m\u001b[0;34m:\u001b[0m\u001b[0;34m\u001b[0m\u001b[0;34m\u001b[0m\u001b[0m\n\u001b[1;32m     65\u001b[0m     \u001b[0;32mif\u001b[0m \u001b[0;32mnot\u001b[0m \u001b[0mself\u001b[0m\u001b[0;34m.\u001b[0m\u001b[0m_in_multi_worker_mode\u001b[0m\u001b[0;34m(\u001b[0m\u001b[0;34m)\u001b[0m\u001b[0;34m:\u001b[0m  \u001b[0;31m# pylint: disable=protected-access\u001b[0m\u001b[0;34m\u001b[0m\u001b[0;34m\u001b[0m\u001b[0m\n\u001b[0;32m---> 66\u001b[0;31m       \u001b[0;32mreturn\u001b[0m \u001b[0mmethod\u001b[0m\u001b[0;34m(\u001b[0m\u001b[0mself\u001b[0m\u001b[0;34m,\u001b[0m \u001b[0;34m*\u001b[0m\u001b[0margs\u001b[0m\u001b[0;34m,\u001b[0m \u001b[0;34m**\u001b[0m\u001b[0mkwargs\u001b[0m\u001b[0;34m)\u001b[0m\u001b[0;34m\u001b[0m\u001b[0;34m\u001b[0m\u001b[0m\n\u001b[0m\u001b[1;32m     67\u001b[0m \u001b[0;34m\u001b[0m\u001b[0m\n\u001b[1;32m     68\u001b[0m     \u001b[0;31m# Running inside `run_distribute_coordinator` already.\u001b[0m\u001b[0;34m\u001b[0m\u001b[0;34m\u001b[0m\u001b[0;34m\u001b[0m\u001b[0m\n",
      "\u001b[0;32m/usr/local/lib/python3.6/dist-packages/tensorflow/python/keras/engine/training.py\u001b[0m in \u001b[0;36mfit\u001b[0;34m(self, x, y, batch_size, epochs, verbose, callbacks, validation_split, validation_data, shuffle, class_weight, sample_weight, initial_epoch, steps_per_epoch, validation_steps, validation_batch_size, validation_freq, max_queue_size, workers, use_multiprocessing, **kwargs)\u001b[0m\n\u001b[1;32m    849\u001b[0m                 batch_size=batch_size):\n\u001b[1;32m    850\u001b[0m               \u001b[0mcallbacks\u001b[0m\u001b[0;34m.\u001b[0m\u001b[0mon_train_batch_begin\u001b[0m\u001b[0;34m(\u001b[0m\u001b[0mstep\u001b[0m\u001b[0;34m)\u001b[0m\u001b[0;34m\u001b[0m\u001b[0;34m\u001b[0m\u001b[0m\n\u001b[0;32m--> 851\u001b[0;31m               \u001b[0mtmp_logs\u001b[0m \u001b[0;34m=\u001b[0m \u001b[0mtrain_function\u001b[0m\u001b[0;34m(\u001b[0m\u001b[0miterator\u001b[0m\u001b[0;34m)\u001b[0m\u001b[0;34m\u001b[0m\u001b[0;34m\u001b[0m\u001b[0m\n\u001b[0m\u001b[1;32m    852\u001b[0m               \u001b[0;31m# Catch OutOfRangeError for Datasets of unknown size.\u001b[0m\u001b[0;34m\u001b[0m\u001b[0;34m\u001b[0m\u001b[0;34m\u001b[0m\u001b[0m\n\u001b[1;32m    853\u001b[0m               \u001b[0;31m# This blocks until the batch has finished executing.\u001b[0m\u001b[0;34m\u001b[0m\u001b[0;34m\u001b[0m\u001b[0;34m\u001b[0m\u001b[0m\n",
      "\u001b[0;32m/usr/local/lib/python3.6/dist-packages/tensorflow/python/eager/def_function.py\u001b[0m in \u001b[0;36m__call__\u001b[0;34m(self, *args, **kwds)\u001b[0m\n\u001b[1;32m    578\u001b[0m         \u001b[0mxla_context\u001b[0m\u001b[0;34m.\u001b[0m\u001b[0mExit\u001b[0m\u001b[0;34m(\u001b[0m\u001b[0;34m)\u001b[0m\u001b[0;34m\u001b[0m\u001b[0;34m\u001b[0m\u001b[0m\n\u001b[1;32m    579\u001b[0m     \u001b[0;32melse\u001b[0m\u001b[0;34m:\u001b[0m\u001b[0;34m\u001b[0m\u001b[0;34m\u001b[0m\u001b[0m\n\u001b[0;32m--> 580\u001b[0;31m       \u001b[0mresult\u001b[0m \u001b[0;34m=\u001b[0m \u001b[0mself\u001b[0m\u001b[0;34m.\u001b[0m\u001b[0m_call\u001b[0m\u001b[0;34m(\u001b[0m\u001b[0;34m*\u001b[0m\u001b[0margs\u001b[0m\u001b[0;34m,\u001b[0m \u001b[0;34m**\u001b[0m\u001b[0mkwds\u001b[0m\u001b[0;34m)\u001b[0m\u001b[0;34m\u001b[0m\u001b[0;34m\u001b[0m\u001b[0m\n\u001b[0m\u001b[1;32m    581\u001b[0m \u001b[0;34m\u001b[0m\u001b[0m\n\u001b[1;32m    582\u001b[0m     \u001b[0;32mif\u001b[0m \u001b[0mtracing_count\u001b[0m \u001b[0;34m==\u001b[0m \u001b[0mself\u001b[0m\u001b[0;34m.\u001b[0m\u001b[0m_get_tracing_count\u001b[0m\u001b[0;34m(\u001b[0m\u001b[0;34m)\u001b[0m\u001b[0;34m:\u001b[0m\u001b[0;34m\u001b[0m\u001b[0;34m\u001b[0m\u001b[0m\n",
      "\u001b[0;32m/usr/local/lib/python3.6/dist-packages/tensorflow/python/eager/def_function.py\u001b[0m in \u001b[0;36m_call\u001b[0;34m(self, *args, **kwds)\u001b[0m\n\u001b[1;32m    609\u001b[0m       \u001b[0;31m# In this case we have created variables on the first call, so we run the\u001b[0m\u001b[0;34m\u001b[0m\u001b[0;34m\u001b[0m\u001b[0;34m\u001b[0m\u001b[0m\n\u001b[1;32m    610\u001b[0m       \u001b[0;31m# defunned version which is guaranteed to never create variables.\u001b[0m\u001b[0;34m\u001b[0m\u001b[0;34m\u001b[0m\u001b[0;34m\u001b[0m\u001b[0m\n\u001b[0;32m--> 611\u001b[0;31m       \u001b[0;32mreturn\u001b[0m \u001b[0mself\u001b[0m\u001b[0;34m.\u001b[0m\u001b[0m_stateless_fn\u001b[0m\u001b[0;34m(\u001b[0m\u001b[0;34m*\u001b[0m\u001b[0margs\u001b[0m\u001b[0;34m,\u001b[0m \u001b[0;34m**\u001b[0m\u001b[0mkwds\u001b[0m\u001b[0;34m)\u001b[0m  \u001b[0;31m# pylint: disable=not-callable\u001b[0m\u001b[0;34m\u001b[0m\u001b[0;34m\u001b[0m\u001b[0m\n\u001b[0m\u001b[1;32m    612\u001b[0m     \u001b[0;32melif\u001b[0m \u001b[0mself\u001b[0m\u001b[0;34m.\u001b[0m\u001b[0m_stateful_fn\u001b[0m \u001b[0;32mis\u001b[0m \u001b[0;32mnot\u001b[0m \u001b[0;32mNone\u001b[0m\u001b[0;34m:\u001b[0m\u001b[0;34m\u001b[0m\u001b[0;34m\u001b[0m\u001b[0m\n\u001b[1;32m    613\u001b[0m       \u001b[0;31m# Release the lock early so that multiple threads can perform the call\u001b[0m\u001b[0;34m\u001b[0m\u001b[0;34m\u001b[0m\u001b[0;34m\u001b[0m\u001b[0m\n",
      "\u001b[0;32m/usr/local/lib/python3.6/dist-packages/tensorflow/python/eager/function.py\u001b[0m in \u001b[0;36m__call__\u001b[0;34m(self, *args, **kwargs)\u001b[0m\n\u001b[1;32m   2418\u001b[0m     \u001b[0;32mwith\u001b[0m \u001b[0mself\u001b[0m\u001b[0;34m.\u001b[0m\u001b[0m_lock\u001b[0m\u001b[0;34m:\u001b[0m\u001b[0;34m\u001b[0m\u001b[0;34m\u001b[0m\u001b[0m\n\u001b[1;32m   2419\u001b[0m       \u001b[0mgraph_function\u001b[0m\u001b[0;34m,\u001b[0m \u001b[0margs\u001b[0m\u001b[0;34m,\u001b[0m \u001b[0mkwargs\u001b[0m \u001b[0;34m=\u001b[0m \u001b[0mself\u001b[0m\u001b[0;34m.\u001b[0m\u001b[0m_maybe_define_function\u001b[0m\u001b[0;34m(\u001b[0m\u001b[0margs\u001b[0m\u001b[0;34m,\u001b[0m \u001b[0mkwargs\u001b[0m\u001b[0;34m)\u001b[0m\u001b[0;34m\u001b[0m\u001b[0;34m\u001b[0m\u001b[0m\n\u001b[0;32m-> 2420\u001b[0;31m     \u001b[0;32mreturn\u001b[0m \u001b[0mgraph_function\u001b[0m\u001b[0;34m.\u001b[0m\u001b[0m_filtered_call\u001b[0m\u001b[0;34m(\u001b[0m\u001b[0margs\u001b[0m\u001b[0;34m,\u001b[0m \u001b[0mkwargs\u001b[0m\u001b[0;34m)\u001b[0m  \u001b[0;31m# pylint: disable=protected-access\u001b[0m\u001b[0;34m\u001b[0m\u001b[0;34m\u001b[0m\u001b[0m\n\u001b[0m\u001b[1;32m   2421\u001b[0m \u001b[0;34m\u001b[0m\u001b[0m\n\u001b[1;32m   2422\u001b[0m   \u001b[0;34m@\u001b[0m\u001b[0mproperty\u001b[0m\u001b[0;34m\u001b[0m\u001b[0;34m\u001b[0m\u001b[0m\n",
      "\u001b[0;32m/usr/local/lib/python3.6/dist-packages/tensorflow/python/eager/function.py\u001b[0m in \u001b[0;36m_filtered_call\u001b[0;34m(self, args, kwargs)\u001b[0m\n\u001b[1;32m   1663\u001b[0m          if isinstance(t, (ops.Tensor,\n\u001b[1;32m   1664\u001b[0m                            resource_variable_ops.BaseResourceVariable))),\n\u001b[0;32m-> 1665\u001b[0;31m         self.captured_inputs)\n\u001b[0m\u001b[1;32m   1666\u001b[0m \u001b[0;34m\u001b[0m\u001b[0m\n\u001b[1;32m   1667\u001b[0m   \u001b[0;32mdef\u001b[0m \u001b[0m_call_flat\u001b[0m\u001b[0;34m(\u001b[0m\u001b[0mself\u001b[0m\u001b[0;34m,\u001b[0m \u001b[0margs\u001b[0m\u001b[0;34m,\u001b[0m \u001b[0mcaptured_inputs\u001b[0m\u001b[0;34m,\u001b[0m \u001b[0mcancellation_manager\u001b[0m\u001b[0;34m=\u001b[0m\u001b[0;32mNone\u001b[0m\u001b[0;34m)\u001b[0m\u001b[0;34m:\u001b[0m\u001b[0;34m\u001b[0m\u001b[0;34m\u001b[0m\u001b[0m\n",
      "\u001b[0;32m/usr/local/lib/python3.6/dist-packages/tensorflow/python/eager/function.py\u001b[0m in \u001b[0;36m_call_flat\u001b[0;34m(self, args, captured_inputs, cancellation_manager)\u001b[0m\n\u001b[1;32m   1744\u001b[0m       \u001b[0;31m# No tape is watching; skip to running the function.\u001b[0m\u001b[0;34m\u001b[0m\u001b[0;34m\u001b[0m\u001b[0;34m\u001b[0m\u001b[0m\n\u001b[1;32m   1745\u001b[0m       return self._build_call_outputs(self._inference_function.call(\n\u001b[0;32m-> 1746\u001b[0;31m           ctx, args, cancellation_manager=cancellation_manager))\n\u001b[0m\u001b[1;32m   1747\u001b[0m     forward_backward = self._select_forward_and_backward_functions(\n\u001b[1;32m   1748\u001b[0m         \u001b[0margs\u001b[0m\u001b[0;34m,\u001b[0m\u001b[0;34m\u001b[0m\u001b[0;34m\u001b[0m\u001b[0m\n",
      "\u001b[0;32m/usr/local/lib/python3.6/dist-packages/tensorflow/python/eager/function.py\u001b[0m in \u001b[0;36mcall\u001b[0;34m(self, ctx, args, cancellation_manager)\u001b[0m\n\u001b[1;32m    596\u001b[0m               \u001b[0minputs\u001b[0m\u001b[0;34m=\u001b[0m\u001b[0margs\u001b[0m\u001b[0;34m,\u001b[0m\u001b[0;34m\u001b[0m\u001b[0;34m\u001b[0m\u001b[0m\n\u001b[1;32m    597\u001b[0m               \u001b[0mattrs\u001b[0m\u001b[0;34m=\u001b[0m\u001b[0mattrs\u001b[0m\u001b[0;34m,\u001b[0m\u001b[0;34m\u001b[0m\u001b[0;34m\u001b[0m\u001b[0m\n\u001b[0;32m--> 598\u001b[0;31m               ctx=ctx)\n\u001b[0m\u001b[1;32m    599\u001b[0m         \u001b[0;32melse\u001b[0m\u001b[0;34m:\u001b[0m\u001b[0;34m\u001b[0m\u001b[0;34m\u001b[0m\u001b[0m\n\u001b[1;32m    600\u001b[0m           outputs = execute.execute_with_cancellation(\n",
      "\u001b[0;32m/usr/local/lib/python3.6/dist-packages/tensorflow/python/eager/execute.py\u001b[0m in \u001b[0;36mquick_execute\u001b[0;34m(op_name, num_outputs, inputs, attrs, ctx, name)\u001b[0m\n\u001b[1;32m     58\u001b[0m     \u001b[0mctx\u001b[0m\u001b[0;34m.\u001b[0m\u001b[0mensure_initialized\u001b[0m\u001b[0;34m(\u001b[0m\u001b[0;34m)\u001b[0m\u001b[0;34m\u001b[0m\u001b[0;34m\u001b[0m\u001b[0m\n\u001b[1;32m     59\u001b[0m     tensors = pywrap_tfe.TFE_Py_Execute(ctx._handle, device_name, op_name,\n\u001b[0;32m---> 60\u001b[0;31m                                         inputs, attrs, num_outputs)\n\u001b[0m\u001b[1;32m     61\u001b[0m   \u001b[0;32mexcept\u001b[0m \u001b[0mcore\u001b[0m\u001b[0;34m.\u001b[0m\u001b[0m_NotOkStatusException\u001b[0m \u001b[0;32mas\u001b[0m \u001b[0me\u001b[0m\u001b[0;34m:\u001b[0m\u001b[0;34m\u001b[0m\u001b[0;34m\u001b[0m\u001b[0m\n\u001b[1;32m     62\u001b[0m     \u001b[0;32mif\u001b[0m \u001b[0mname\u001b[0m \u001b[0;32mis\u001b[0m \u001b[0;32mnot\u001b[0m \u001b[0;32mNone\u001b[0m\u001b[0;34m:\u001b[0m\u001b[0;34m\u001b[0m\u001b[0;34m\u001b[0m\u001b[0m\n",
      "\u001b[0;31mKeyboardInterrupt\u001b[0m: "
     ]
    }
   ],
   "source": [
    "# Run the PSO to find hyper-parmateres (LSTM = ?, Dropout = ?, Learning_rate = ?)\n",
    "search_space = Space(target_error, n_particles)\n",
    "particles_vector = [Particle() for _ in range(search_space.n_particles)]\n",
    "search_space.particles = particles_vector\n",
    "search_space.print_particles()\n",
    "\n",
    "iteration = 0\n",
    "while(iteration < n_iterations):\n",
    "    search_space.set_pbest()    \n",
    "    search_space.set_gbest()\n",
    "    print(abs(search_space.gbest_value))\n",
    "    if(abs(search_space.gbest_value) <= search_space.target_error):\n",
    "        break\n",
    "\n",
    "    search_space.move_particles()\n",
    "    iteration += 1\n",
    "    \n",
    "print(\"The best solution is: \", search_space.gbest_position, \" in n_iterations: \", iteration)"
   ]
  },
  {
   "cell_type": "code",
   "execution_count": 1,
   "metadata": {
    "colab": {
     "base_uri": "https://localhost:8080/",
     "height": 34
    },
    "colab_type": "code",
    "id": "Ho1cOIecNXR5",
    "outputId": "097a8566-a014-48b0-81cc-6a3adf7ea796"
   },
   "outputs": [],
   "source": [
    "# result is (42, 3.43309769e-04, 9.81054455e-02)"
   ]
  },
  {
   "cell_type": "code",
   "execution_count": 61,
   "metadata": {
    "colab": {
     "base_uri": "https://localhost:8080/",
     "height": 34
    },
    "colab_type": "code",
    "id": "x9lpB5HlTdPI",
    "outputId": "3dc5b132-9568-43d3-dd82-643ea9328219"
   },
   "outputs": [
    {
     "data": {
      "text/plain": [
       "0.0690256655216217"
      ]
     },
     "execution_count": 61,
     "metadata": {
      "tags": []
     },
     "output_type": "execute_result"
    }
   ],
   "source": [
    "LSTM_fit(42, 3.43309769e-04, 9.81054455e-02)"
   ]
  },
  {
   "cell_type": "code",
   "execution_count": 67,
   "metadata": {
    "colab": {
     "base_uri": "https://localhost:8080/",
     "height": 265
    },
    "colab_type": "code",
    "id": "KRMZQ8H7hIRY",
    "outputId": "581d2041-8f7f-4e7d-884e-c15200d9323d"
   },
   "outputs": [
    {
     "data": {
      "image/png": "[encoded data removed]",
      "text/plain": [
       "<Figure size 432x288 with 1 Axes>"
      ]
     },
     "metadata": {
      "needs_background": "light",
      "tags": []
     },
     "output_type": "display_data"
    }
   ],
   "source": [
    "LSTM_Multi_Prediction = LSTM_multi_forecast_function(42, 3.43309769e-04, 9.81054455e-02)"
   ]
  },
  {
   "cell_type": "code",
   "execution_count": 68,
   "metadata": {
    "colab": {
     "base_uri": "https://localhost:8080/",
     "height": 34
    },
    "colab_type": "code",
    "id": "WBFgOgEnFGDX",
    "outputId": "ba50ea0f-ed21-4d61-80b0-3ba8a38d7a06"
   },
   "outputs": [
    {
     "data": {
      "text/plain": [
       "0.13914591487775615"
      ]
     },
     "execution_count": 68,
     "metadata": {
      "tags": []
     },
     "output_type": "execute_result"
    }
   ],
   "source": [
    "MAPE(LSTM_Multi_Prediction,Y_test)"
   ]
  },
  {
   "cell_type": "code",
   "execution_count": 69,
   "metadata": {
    "colab": {
     "base_uri": "https://localhost:8080/",
     "height": 34
    },
    "colab_type": "code",
    "id": "xvkmWwF04ilV",
    "outputId": "518db5c9-695c-4049-914a-63ad47e2f959"
   },
   "outputs": [
    {
     "data": {
      "text/plain": [
       "array([-0.15429497])"
      ]
     },
     "execution_count": 69,
     "metadata": {
      "tags": []
     },
     "output_type": "execute_result"
    }
   ],
   "source": [
    "R(LSTM_Multi_Prediction)"
   ]
  },
  {
   "cell_type": "code",
   "execution_count": 70,
   "metadata": {
    "colab": {
     "base_uri": "https://localhost:8080/",
     "height": 282
    },
    "colab_type": "code",
    "id": "QuGhM5YSheaw",
    "outputId": "17c3bca7-4af1-4a9e-ea29-bc8d8d3ff0c1"
   },
   "outputs": [
    {
     "name": "stdout",
     "output_type": "stream",
     "text": [
      "(30, 1)\n"
     ]
    },
    {
     "data": {
      "image/png": "[encoded data removed]",
      "text/plain": [
       "<Figure size 432x288 with 1 Axes>"
      ]
     },
     "metadata": {
      "needs_background": "light",
      "tags": []
     },
     "output_type": "display_data"
    }
   ],
   "source": [
    "LSTM_One_Prediction = LSTM_one_forecast_function(42, 3.43309769e-04, 9.81054455e-02)"
   ]
  },
  {
   "cell_type": "code",
   "execution_count": 71,
   "metadata": {
    "colab": {
     "base_uri": "https://localhost:8080/",
     "height": 34
    },
    "colab_type": "code",
    "id": "URNcnAY0GT5U",
    "outputId": "8ad6ebba-c82a-432e-c631-bb5a055c34aa"
   },
   "outputs": [
    {
     "data": {
      "text/plain": [
       "0.07966311351022734"
      ]
     },
     "execution_count": 71,
     "metadata": {
      "tags": []
     },
     "output_type": "execute_result"
    }
   ],
   "source": [
    "MAPE(LSTM_One_Prediction,Y_test)"
   ]
  },
  {
   "cell_type": "code",
   "execution_count": 72,
   "metadata": {
    "colab": {
     "base_uri": "https://localhost:8080/",
     "height": 34
    },
    "colab_type": "code",
    "id": "h0zT_vrc4fEN",
    "outputId": "a41f56fc-1278-45a4-8e66-bb3df4a37e3e"
   },
   "outputs": [
    {
     "data": {
      "text/plain": [
       "array([0.78008715])"
      ]
     },
     "execution_count": 72,
     "metadata": {
      "tags": []
     },
     "output_type": "execute_result"
    }
   ],
   "source": [
    "R(LSTM_One_Prediction)"
   ]
  },
  {
   "cell_type": "code",
   "execution_count": 0,
   "metadata": {
    "colab": {},
    "colab_type": "code",
    "id": "_QMG6263Dbix"
   },
   "outputs": [],
   "source": []
  },
  {
   "cell_type": "markdown",
   "metadata": {
    "colab_type": "text",
    "id": "Ef5639Ew9f8_"
   },
   "source": [
    "## SVR METHOD"
   ]
  },
  {
   "cell_type": "code",
   "execution_count": 0,
   "metadata": {
    "colab": {},
    "colab_type": "code",
    "id": "klLZtZttIAks"
   },
   "outputs": [],
   "source": [
    "GM = GM[['close']]\n",
    "n_train = len(GM['close']) - 30\n",
    "n_predict = 30\n",
    "GM['Prediction'] = GM[['close']].shift(-n_predict)"
   ]
  },
  {
   "cell_type": "code",
   "execution_count": 0,
   "metadata": {
    "colab": {},
    "colab_type": "code",
    "id": "MNSxx8UUIBOt"
   },
   "outputs": [],
   "source": [
    "X = np.array(GM.drop(['Prediction'],1))\n",
    "y = np.array(GM['Prediction'])\n",
    "#split data\n",
    "X = X[:-n_predict]\n",
    "y = y[:-n_predict]"
   ]
  },
  {
   "cell_type": "code",
   "execution_count": 0,
   "metadata": {
    "colab": {},
    "colab_type": "code",
    "id": "oBWYYGh-IIwW"
   },
   "outputs": [],
   "source": [
    "X_train, X_test, y_train, y_test = train_test_split(X, y, test_size=0.3)"
   ]
  },
  {
   "cell_type": "code",
   "execution_count": 0,
   "metadata": {
    "colab": {},
    "colab_type": "code",
    "id": "dvCKIV_tIKsF"
   },
   "outputs": [],
   "source": [
    "y_target = y[-n_predict:]"
   ]
  },
  {
   "cell_type": "code",
   "execution_count": 0,
   "metadata": {
    "colab": {},
    "colab_type": "code",
    "id": "06AwDii0IOIH"
   },
   "outputs": [],
   "source": [
    "#Parameters setting for SVR\n",
    "C=1e3\n",
    "gamma=0.1\n",
    "epsilon=0.1"
   ]
  },
  {
   "cell_type": "code",
   "execution_count": 0,
   "metadata": {
    "colab": {},
    "colab_type": "code",
    "id": "JO-CZcP-IQON"
   },
   "outputs": [],
   "source": [
    "def svr(C,gamma,epsilon):\n",
    "    svr_rbf = SVR(kernel='rbf', C=C, gamma=gamma,epsilon=epsilon) \n",
    "    svr_rbf.fit(X_train, y_train)\n",
    "    svm_confidence = svr_rbf.score(X_test, y_test)\n",
    "    #print(\"SVR confidence: \", svm_confidence)\n",
    "    x_forecast = np.array(GM.drop(['Prediction'],1))[-n_predict:]\n",
    "    y_predict = svr_rbf.predict(x_forecast)\n",
    "    #MAPE\n",
    "    return ((np.abs(y_predict-y_target)/(y_target)).sum())/n_predict"
   ]
  },
  {
   "cell_type": "code",
   "execution_count": 0,
   "metadata": {
    "colab": {},
    "colab_type": "code",
    "id": "u7E77iaUIiiM"
   },
   "outputs": [],
   "source": [
    "def predicted_svr(C,gamma,epsilon):\n",
    "    svr_rbf = SVR(kernel='rbf', C=C, gamma=gamma,epsilon=epsilon) \n",
    "    svr_rbf.fit(X_train, y_train)\n",
    "    svm_confidence = svr_rbf.score(X_test, y_test)\n",
    "    x_forecast = np.array(GM.drop(['Prediction'],1))[-n_predict:]\n",
    "    y_predict = svr_rbf.predict(x_forecast)\n",
    "    return(y_predict)"
   ]
  },
  {
   "cell_type": "code",
   "execution_count": 34,
   "metadata": {
    "colab": {
     "base_uri": "https://localhost:8080/",
     "height": 34
    },
    "colab_type": "code",
    "id": "2_o9hNpMImRM",
    "outputId": "9d976e4f-e941-4ec1-a7f6-16f652b46623"
   },
   "outputs": [
    {
     "data": {
      "text/plain": [
       "0.03751218593635817"
      ]
     },
     "execution_count": 34,
     "metadata": {
      "tags": []
     },
     "output_type": "execute_result"
    }
   ],
   "source": [
    "svr(C,gamma,epsilon)"
   ]
  },
  {
   "cell_type": "code",
   "execution_count": 0,
   "metadata": {
    "colab": {},
    "colab_type": "code",
    "id": "LXsbr2PlIpwM"
   },
   "outputs": [],
   "source": [
    "# Parameter for PSO\n",
    "W = 0.1\n",
    "c1 = 2\n",
    "c2 = 2\n",
    "\n",
    "n_iterations = 100\n",
    "target_error = 0.01\n",
    "n_particles = 10"
   ]
  },
  {
   "cell_type": "code",
   "execution_count": 0,
   "metadata": {
    "colab": {},
    "colab_type": "code",
    "id": "IFS8AZi-Jezt"
   },
   "outputs": [],
   "source": [
    "class Particle():\n",
    "    def __init__(self):\n",
    "        self.position = np.array([1**(bool(random.getrandbits(1))) * random.random()*1000, 1**(bool(random.getrandbits(1))) * random.random()*0.2, 1**(bool(random.getrandbits(1))) * random.random()*0.2])\n",
    "        self.pbest_position = self.position\n",
    "        self.pbest_value = float('inf')\n",
    "        self.velocity = np.array([0,0,0])\n",
    "\n",
    "    def __str__(self):\n",
    "        print(\"I am at \", self.position, \" meu pbest is \", self.pbest_position)\n",
    "    \n",
    "    def move(self):\n",
    "        self.position = self.position + self.velocity\n",
    "        if((self.position < 0).any()):\n",
    "            self.position = abs(self.position)"
   ]
  },
  {
   "cell_type": "code",
   "execution_count": 0,
   "metadata": {
    "colab": {},
    "colab_type": "code",
    "id": "yHwCk179JhVC"
   },
   "outputs": [],
   "source": [
    "class Space():\n",
    "\n",
    "    def __init__(self, target_error, n_particles):\n",
    "        self.target_error = target_error\n",
    "        self.n_particles = n_particles\n",
    "        self.particles = []\n",
    "        self.gbest_value = float('inf')\n",
    "        self.gbest_position = np.array([random.random()*50, random.random()*50, random.random()*50])\n",
    "\n",
    "    def print_particles(self):\n",
    "        for particle in self.particles:\n",
    "            particle.__str__()\n",
    "   \n",
    "    def fitness(self, particle):\n",
    "        return svr(particle.position[0], particle.position[1], particle.position[2]) \n",
    "\n",
    "    def set_pbest(self):\n",
    "        for particle in self.particles:\n",
    "            fitness_cadidate = self.fitness(particle)\n",
    "            if(particle.pbest_value > fitness_cadidate):\n",
    "                particle.pbest_value = fitness_cadidate\n",
    "                particle.pbest_position = particle.position\n",
    "            \n",
    "\n",
    "    def set_gbest(self):\n",
    "        for particle in self.particles:\n",
    "            best_fitness_cadidate = self.fitness(particle)\n",
    "            if(self.gbest_value > best_fitness_cadidate):\n",
    "                self.gbest_value = best_fitness_cadidate\n",
    "                self.gbest_position = particle.position\n",
    "\n",
    "    def move_particles(self):\n",
    "        for particle in self.particles:\n",
    "            global W\n",
    "            new_velocity = (W*particle.velocity) + (c1*random.random()) * (particle.pbest_position - particle.position) + \\\n",
    "                            (random.random()*c2) * (self.gbest_position - particle.position)\n",
    "            particle.velocity = new_velocity\n",
    "            particle.move()\n",
    "            \n"
   ]
  },
  {
   "cell_type": "code",
   "execution_count": 38,
   "metadata": {
    "colab": {
     "base_uri": "https://localhost:8080/",
     "height": 187
    },
    "colab_type": "code",
    "id": "yX0rwhirJjgd",
    "outputId": "ded71664-b657-4408-cafd-ab493f3f93dc"
   },
   "outputs": [
    {
     "name": "stdout",
     "output_type": "stream",
     "text": [
      "I am at  [7.63244119e+02 1.80296966e-01 1.88754344e-01]  meu pbest is  [7.63244119e+02 1.80296966e-01 1.88754344e-01]\n",
      "I am at  [2.38539196e+02 4.34575487e-02 5.52359222e-02]  meu pbest is  [2.38539196e+02 4.34575487e-02 5.52359222e-02]\n",
      "I am at  [7.40358377e+02 9.43804037e-02 6.04039806e-02]  meu pbest is  [7.40358377e+02 9.43804037e-02 6.04039806e-02]\n",
      "I am at  [3.49243020e+02 1.25229495e-01 1.29756987e-02]  meu pbest is  [3.49243020e+02 1.25229495e-01 1.29756987e-02]\n",
      "I am at  [8.93404301e+02 5.40379211e-02 1.64145197e-02]  meu pbest is  [8.93404301e+02 5.40379211e-02 1.64145197e-02]\n",
      "I am at  [2.71848806e+02 1.05629586e-01 1.49974564e-01]  meu pbest is  [2.71848806e+02 1.05629586e-01 1.49974564e-01]\n",
      "I am at  [8.16693169e+02 6.67517442e-02 1.22415541e-01]  meu pbest is  [8.16693169e+02 6.67517442e-02 1.22415541e-01]\n",
      "I am at  [4.01322284e+02 1.32788240e-01 7.05136938e-03]  meu pbest is  [4.01322284e+02 1.32788240e-01 7.05136938e-03]\n",
      "I am at  [7.57268060e+02 1.18491605e-01 6.81523306e-02]  meu pbest is  [7.57268060e+02 1.18491605e-01 6.81523306e-02]\n",
      "I am at  [5.58653551e+02 1.53398224e-01 1.85059429e-01]  meu pbest is  [5.58653551e+02 1.53398224e-01 1.85059429e-01]\n"
     ]
    }
   ],
   "source": [
    "search_space = Space(target_error, n_particles)\n",
    "particles_vector = [Particle() for _ in range(search_space.n_particles)]\n",
    "search_space.particles = particles_vector\n",
    "search_space.print_particles()\n",
    "\n",
    "#print(search_space.set_gbest())\n",
    "#print(MAPE(search_space.gbest_value,y_target))"
   ]
  },
  {
   "cell_type": "code",
   "execution_count": 0,
   "metadata": {
    "colab": {},
    "colab_type": "code",
    "id": "1Q_K5GzdJlLo"
   },
   "outputs": [],
   "source": [
    "iteration = 0\n",
    "while(iteration < n_iterations):\n",
    "    search_space.set_pbest()    \n",
    "    search_space.set_gbest()\n",
    "    print(abs(search_space.gbest_value))\n",
    "    if(abs(search_space.gbest_value) <= search_space.target_error):\n",
    "        break\n",
    "\n",
    "    search_space.move_particles()\n",
    "\n",
    "    iteration += 1\n",
    "    \n",
    "print(\"The best solution is: \", search_space.gbest_position, \" in n_iterations: \", iteration)"
   ]
  },
  {
   "cell_type": "code",
   "execution_count": 0,
   "metadata": {
    "colab": {},
    "colab_type": "code",
    "id": "Bhus7i0fJonE"
   },
   "outputs": [],
   "source": [
    "SVR_Prediction = predicted_svr(3.35386593e+02,5.98620078e-02,2.10892384e-02)"
   ]
  },
  {
   "cell_type": "code",
   "execution_count": 0,
   "metadata": {
    "colab": {
     "base_uri": "https://localhost:8080/",
     "height": 34
    },
    "colab_type": "code",
    "id": "vgyP5dcMJqiB",
    "outputId": "a17f84fa-a77d-44a6-ff53-0172e475ee29"
   },
   "outputs": [
    {
     "data": {
      "text/plain": [
       "array([0.98701823])"
      ]
     },
     "execution_count": 297,
     "metadata": {
      "tags": []
     },
     "output_type": "execute_result"
    }
   ],
   "source": [
    "R(SVR_Prediction)"
   ]
  },
  {
   "cell_type": "code",
   "execution_count": 0,
   "metadata": {
    "colab": {
     "base_uri": "https://localhost:8080/",
     "height": 34
    },
    "colab_type": "code",
    "id": "suCmfH3FJ-b0",
    "outputId": "79777585-2cae-4ed2-b6af-596d3b9c5138"
   },
   "outputs": [
    {
     "data": {
      "text/plain": [
       "0.023059732767587517"
      ]
     },
     "execution_count": 306,
     "metadata": {
      "tags": []
     },
     "output_type": "execute_result"
    }
   ],
   "source": [
    "MAPE(SVR_Prediction,y_target)"
   ]
  }
 ],
 "metadata": {
  "accelerator": "TPU",
  "colab": {
   "name": "LEE_Stock Analysis.ipynb",
   "provenance": []
  },
  "kernelspec": {
   "display_name": "Python 3",
   "language": "python",
   "name": "python3"
  },
  "language_info": {
   "codemirror_mode": {
    "name": "ipython",
    "version": 3
   },
   "file_extension": ".py",
   "mimetype": "text/x-python",
   "name": "python",
   "nbconvert_exporter": "python",
   "pygments_lexer": "ipython3",
   "version": "3.7.4"
  }
 },
 "nbformat": 4,
 "nbformat_minor": 1
}
