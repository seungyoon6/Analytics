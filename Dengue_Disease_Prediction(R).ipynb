{
 "cells": [
  {
   "cell_type": "code",
   "execution_count": 1,
   "metadata": {},
   "outputs": [
    {
     "name": "stderr",
     "output_type": "stream",
     "text": [
      "Loading required package: tidyverse\n",
      "\n",
      "Warning message:\n",
      "\"package 'tidyverse' was built under R version 3.6.3\"\n",
      "-- \u001b[1mAttaching packages\u001b[22m --------------------------------------- tidyverse 1.3.0 --\n",
      "\n",
      "\u001b[32mv\u001b[39m \u001b[34mggplot2\u001b[39m 3.2.1     \u001b[32mv\u001b[39m \u001b[34mpurrr  \u001b[39m 0.3.3\n",
      "\u001b[32mv\u001b[39m \u001b[34mtibble \u001b[39m 2.1.3     \u001b[32mv\u001b[39m \u001b[34mdplyr  \u001b[39m 0.8.3\n",
      "\u001b[32mv\u001b[39m \u001b[34mtidyr  \u001b[39m 1.0.0     \u001b[32mv\u001b[39m \u001b[34mstringr\u001b[39m 1.4.0\n",
      "\u001b[32mv\u001b[39m \u001b[34mreadr  \u001b[39m 1.3.1     \u001b[32mv\u001b[39m \u001b[34mforcats\u001b[39m 0.5.0\n",
      "\n",
      "Warning message:\n",
      "\"package 'forcats' was built under R version 3.6.3\"\n",
      "-- \u001b[1mConflicts\u001b[22m ------------------------------------------ tidyverse_conflicts() --\n",
      "\u001b[31mx\u001b[39m \u001b[34mdplyr\u001b[39m::\u001b[32mfilter()\u001b[39m masks \u001b[34mstats\u001b[39m::filter()\n",
      "\u001b[31mx\u001b[39m \u001b[34mdplyr\u001b[39m::\u001b[32mlag()\u001b[39m    masks \u001b[34mstats\u001b[39m::lag()\n",
      "\n",
      "Loading required package: rpart\n",
      "\n",
      "Loading required package: glmnet\n",
      "\n",
      "Loading required package: Matrix\n",
      "\n",
      "\n",
      "Attaching package: 'Matrix'\n",
      "\n",
      "\n",
      "The following objects are masked from 'package:tidyr':\n",
      "\n",
      "    expand, pack, unpack\n",
      "\n",
      "\n",
      "Loaded glmnet 3.0-2\n",
      "\n",
      "\n",
      "Loading required package: zoo\n",
      "\n",
      "\n",
      "Attaching package: 'zoo'\n",
      "\n",
      "\n",
      "The following objects are masked from 'package:base':\n",
      "\n",
      "    as.Date, as.Date.numeric\n",
      "\n",
      "\n",
      "Warning message:\n",
      "\"package 'corrplot' was built under R version 3.6.3\"\n",
      "corrplot 0.84 loaded\n",
      "\n",
      "Loading required package: randomForest\n",
      "\n",
      "randomForest 4.6-14\n",
      "\n",
      "Type rfNews() to see new features/changes/bug fixes.\n",
      "\n",
      "\n",
      "Attaching package: 'randomForest'\n",
      "\n",
      "\n",
      "The following object is masked from 'package:dplyr':\n",
      "\n",
      "    combine\n",
      "\n",
      "\n",
      "The following object is masked from 'package:ggplot2':\n",
      "\n",
      "    margin\n",
      "\n",
      "\n",
      "Loading required package: partykit\n",
      "\n",
      "Loading required package: grid\n",
      "\n",
      "Loading required package: libcoin\n",
      "\n",
      "Loading required package: mvtnorm\n",
      "\n",
      "Loading required package: pROC\n",
      "\n",
      "Type 'citation(\"pROC\")' for a citation.\n",
      "\n",
      "\n",
      "Attaching package: 'pROC'\n",
      "\n",
      "\n",
      "The following objects are masked from 'package:stats':\n",
      "\n",
      "    cov, smooth, var\n",
      "\n",
      "\n"
     ]
    }
   ],
   "source": [
    "require(tidyverse)\n",
    "require(rpart)\n",
    "require(glmnet)\n",
    "require(zoo)\n",
    "library(corrplot)\n",
    "require(rpart)\n",
    "require(randomForest)\n",
    "require(partykit)\n",
    "require(pROC)"
   ]
  },
  {
   "cell_type": "markdown",
   "metadata": {},
   "source": [
    "# DATA IMPORT"
   ]
  },
  {
   "cell_type": "code",
   "execution_count": 2,
   "metadata": {},
   "outputs": [],
   "source": [
    "data <- read.csv(\"dengue_features_train.csv\")\n",
    "target <- read.csv(\"dengue_labels_train.csv\")\n",
    "test <- read.csv(\"dengue_features_test.csv\")\n",
    "submission <- test[,c(1,2,3)]"
   ]
  },
  {
   "cell_type": "markdown",
   "metadata": {},
   "source": [
    "# Exploratory Data Analysis"
   ]
  },
  {
   "cell_type": "code",
   "execution_count": 3,
   "metadata": {
    "scrolled": true
   },
   "outputs": [
    {
     "data": {
      "text/html": [
       "<table>\n",
       "<caption>A tibble: 2 × 3</caption>\n",
       "<thead>\n",
       "\t<tr><th scope=col>city</th><th scope=col>count</th><th scope=col>cases_percity</th></tr>\n",
       "\t<tr><th scope=col>&lt;fct&gt;</th><th scope=col>&lt;int&gt;</th><th scope=col>&lt;int&gt;</th></tr>\n",
       "</thead>\n",
       "<tbody>\n",
       "\t<tr><td>iq</td><td>520</td><td> 3934</td></tr>\n",
       "\t<tr><td>sj</td><td>936</td><td>31993</td></tr>\n",
       "</tbody>\n",
       "</table>\n"
      ],
      "text/latex": [
       "A tibble: 2 × 3\n",
       "\\begin{tabular}{lll}\n",
       " city & count & cases\\_percity\\\\\n",
       " <fct> & <int> & <int>\\\\\n",
       "\\hline\n",
       "\t iq & 520 &  3934\\\\\n",
       "\t sj & 936 & 31993\\\\\n",
       "\\end{tabular}\n"
      ],
      "text/markdown": [
       "\n",
       "A tibble: 2 × 3\n",
       "\n",
       "| city &lt;fct&gt; | count &lt;int&gt; | cases_percity &lt;int&gt; |\n",
       "|---|---|---|\n",
       "| iq | 520 |  3934 |\n",
       "| sj | 936 | 31993 |\n",
       "\n"
      ],
      "text/plain": [
       "  city count cases_percity\n",
       "1 iq   520    3934        \n",
       "2 sj   936   31993        "
      ]
     },
     "metadata": {},
     "output_type": "display_data"
    }
   ],
   "source": [
    "S <- arrange(target,desc(total_cases))\n",
    "T <- group_by(S,city)\n",
    "arrange(summarise(T,count = n(),cases_percity = sum(total_cases)),cases_percity)"
   ]
  },
  {
   "cell_type": "code",
   "execution_count": 4,
   "metadata": {
    "scrolled": true
   },
   "outputs": [
    {
     "data": {
      "text/html": [
       "<table>\n",
       "<caption>A tibble: 21 × 2</caption>\n",
       "<thead>\n",
       "\t<tr><th scope=col>year</th><th scope=col>cases_peryear</th></tr>\n",
       "\t<tr><th scope=col>&lt;int&gt;</th><th scope=col>&lt;int&gt;</th></tr>\n",
       "</thead>\n",
       "<tbody>\n",
       "\t<tr><td>1994</td><td>6533</td></tr>\n",
       "\t<tr><td>1998</td><td>4595</td></tr>\n",
       "\t<tr><td>1991</td><td>2801</td></tr>\n",
       "\t<tr><td>1992</td><td>2371</td></tr>\n",
       "\t<tr><td>2007</td><td>2334</td></tr>\n",
       "\t<tr><td>2005</td><td>2116</td></tr>\n",
       "\t<tr><td>1999</td><td>1633</td></tr>\n",
       "\t<tr><td>2001</td><td>1477</td></tr>\n",
       "\t<tr><td>1997</td><td>1454</td></tr>\n",
       "\t<tr><td>1995</td><td>1333</td></tr>\n",
       "\t<tr><td>2004</td><td>1248</td></tr>\n",
       "\t<tr><td>1993</td><td>1156</td></tr>\n",
       "\t<tr><td>2002</td><td>1156</td></tr>\n",
       "\t<tr><td>2003</td><td>1063</td></tr>\n",
       "\t<tr><td>2006</td><td> 986</td></tr>\n",
       "\t<tr><td>2008</td><td> 907</td></tr>\n",
       "\t<tr><td>1990</td><td> 866</td></tr>\n",
       "\t<tr><td>1996</td><td> 855</td></tr>\n",
       "\t<tr><td>2000</td><td> 496</td></tr>\n",
       "\t<tr><td>2009</td><td> 324</td></tr>\n",
       "\t<tr><td>2010</td><td> 223</td></tr>\n",
       "</tbody>\n",
       "</table>\n"
      ],
      "text/latex": [
       "A tibble: 21 × 2\n",
       "\\begin{tabular}{ll}\n",
       " year & cases\\_peryear\\\\\n",
       " <int> & <int>\\\\\n",
       "\\hline\n",
       "\t 1994 & 6533\\\\\n",
       "\t 1998 & 4595\\\\\n",
       "\t 1991 & 2801\\\\\n",
       "\t 1992 & 2371\\\\\n",
       "\t 2007 & 2334\\\\\n",
       "\t 2005 & 2116\\\\\n",
       "\t 1999 & 1633\\\\\n",
       "\t 2001 & 1477\\\\\n",
       "\t 1997 & 1454\\\\\n",
       "\t 1995 & 1333\\\\\n",
       "\t 2004 & 1248\\\\\n",
       "\t 1993 & 1156\\\\\n",
       "\t 2002 & 1156\\\\\n",
       "\t 2003 & 1063\\\\\n",
       "\t 2006 &  986\\\\\n",
       "\t 2008 &  907\\\\\n",
       "\t 1990 &  866\\\\\n",
       "\t 1996 &  855\\\\\n",
       "\t 2000 &  496\\\\\n",
       "\t 2009 &  324\\\\\n",
       "\t 2010 &  223\\\\\n",
       "\\end{tabular}\n"
      ],
      "text/markdown": [
       "\n",
       "A tibble: 21 × 2\n",
       "\n",
       "| year &lt;int&gt; | cases_peryear &lt;int&gt; |\n",
       "|---|---|\n",
       "| 1994 | 6533 |\n",
       "| 1998 | 4595 |\n",
       "| 1991 | 2801 |\n",
       "| 1992 | 2371 |\n",
       "| 2007 | 2334 |\n",
       "| 2005 | 2116 |\n",
       "| 1999 | 1633 |\n",
       "| 2001 | 1477 |\n",
       "| 1997 | 1454 |\n",
       "| 1995 | 1333 |\n",
       "| 2004 | 1248 |\n",
       "| 1993 | 1156 |\n",
       "| 2002 | 1156 |\n",
       "| 2003 | 1063 |\n",
       "| 2006 |  986 |\n",
       "| 2008 |  907 |\n",
       "| 1990 |  866 |\n",
       "| 1996 |  855 |\n",
       "| 2000 |  496 |\n",
       "| 2009 |  324 |\n",
       "| 2010 |  223 |\n",
       "\n"
      ],
      "text/plain": [
       "   year cases_peryear\n",
       "1  1994 6533         \n",
       "2  1998 4595         \n",
       "3  1991 2801         \n",
       "4  1992 2371         \n",
       "5  2007 2334         \n",
       "6  2005 2116         \n",
       "7  1999 1633         \n",
       "8  2001 1477         \n",
       "9  1997 1454         \n",
       "10 1995 1333         \n",
       "11 2004 1248         \n",
       "12 1993 1156         \n",
       "13 2002 1156         \n",
       "14 2003 1063         \n",
       "15 2006  986         \n",
       "16 2008  907         \n",
       "17 1990  866         \n",
       "18 1996  855         \n",
       "19 2000  496         \n",
       "20 2009  324         \n",
       "21 2010  223         "
      ]
     },
     "metadata": {},
     "output_type": "display_data"
    }
   ],
   "source": [
    "S <- arrange(target,year)\n",
    "T <- group_by(S,year)\n",
    "arrange(summarise(T,cases_peryear = sum(total_cases)),desc(cases_peryear))"
   ]
  },
  {
   "cell_type": "code",
   "execution_count": 5,
   "metadata": {
    "scrolled": true
   },
   "outputs": [
    {
     "data": {
      "text/html": [
       "<table>\n",
       "<caption>A grouped_df: 1456 × 4</caption>\n",
       "<thead>\n",
       "\t<tr><th scope=col>city</th><th scope=col>year</th><th scope=col>weekofyear</th><th scope=col>total_cases</th></tr>\n",
       "\t<tr><th scope=col>&lt;fct&gt;</th><th scope=col>&lt;int&gt;</th><th scope=col>&lt;int&gt;</th><th scope=col>&lt;int&gt;</th></tr>\n",
       "</thead>\n",
       "<tbody>\n",
       "\t<tr><td>sj</td><td>1994</td><td>41</td><td>461</td></tr>\n",
       "\t<tr><td>sj</td><td>1994</td><td>40</td><td>426</td></tr>\n",
       "\t<tr><td>sj</td><td>1994</td><td>45</td><td>410</td></tr>\n",
       "\t<tr><td>sj</td><td>1994</td><td>39</td><td>395</td></tr>\n",
       "\t<tr><td>sj</td><td>1994</td><td>42</td><td>381</td></tr>\n",
       "\t<tr><td>sj</td><td>1994</td><td>46</td><td>364</td></tr>\n",
       "\t<tr><td>sj</td><td>1994</td><td>47</td><td>359</td></tr>\n",
       "\t<tr><td>sj</td><td>1994</td><td>44</td><td>353</td></tr>\n",
       "\t<tr><td>sj</td><td>1994</td><td>43</td><td>333</td></tr>\n",
       "\t<tr><td>sj</td><td>1998</td><td>32</td><td>329</td></tr>\n",
       "\t<tr><td>sj</td><td>1994</td><td>38</td><td>302</td></tr>\n",
       "\t<tr><td>sj</td><td>1994</td><td>48</td><td>288</td></tr>\n",
       "\t<tr><td>sj</td><td>1994</td><td>37</td><td>272</td></tr>\n",
       "\t<tr><td>sj</td><td>1998</td><td>33</td><td>263</td></tr>\n",
       "\t<tr><td>sj</td><td>1998</td><td>31</td><td>256</td></tr>\n",
       "\t<tr><td>sj</td><td>1994</td><td>49</td><td>221</td></tr>\n",
       "\t<tr><td>sj</td><td>1998</td><td>34</td><td>220</td></tr>\n",
       "\t<tr><td>sj</td><td>1998</td><td>35</td><td>204</td></tr>\n",
       "\t<tr><td>sj</td><td>1994</td><td>36</td><td>202</td></tr>\n",
       "\t<tr><td>sj</td><td>1998</td><td>30</td><td>191</td></tr>\n",
       "\t<tr><td>sj</td><td>1998</td><td>36</td><td>181</td></tr>\n",
       "\t<tr><td>sj</td><td>1994</td><td>35</td><td>179</td></tr>\n",
       "\t<tr><td>sj</td><td>2007</td><td>40</td><td>170</td></tr>\n",
       "\t<tr><td>sj</td><td>1991</td><td>48</td><td>169</td></tr>\n",
       "\t<tr><td>sj</td><td>1995</td><td>52</td><td>154</td></tr>\n",
       "\t<tr><td>sj</td><td>1998</td><td>29</td><td>150</td></tr>\n",
       "\t<tr><td>sj</td><td>1994</td><td>50</td><td>149</td></tr>\n",
       "\t<tr><td>sj</td><td>1991</td><td>42</td><td>142</td></tr>\n",
       "\t<tr><td>sj</td><td>1991</td><td>49</td><td>141</td></tr>\n",
       "\t<tr><td>sj</td><td>1991</td><td>40</td><td>140</td></tr>\n",
       "\t<tr><td>...</td><td>...</td><td>...</td><td>...</td></tr>\n",
       "\t<tr><td>iq</td><td>2003</td><td>16</td><td>0</td></tr>\n",
       "\t<tr><td>iq</td><td>2003</td><td>17</td><td>0</td></tr>\n",
       "\t<tr><td>iq</td><td>2003</td><td>32</td><td>0</td></tr>\n",
       "\t<tr><td>iq</td><td>2003</td><td>33</td><td>0</td></tr>\n",
       "\t<tr><td>iq</td><td>2003</td><td>34</td><td>0</td></tr>\n",
       "\t<tr><td>iq</td><td>2003</td><td>35</td><td>0</td></tr>\n",
       "\t<tr><td>iq</td><td>2003</td><td>37</td><td>0</td></tr>\n",
       "\t<tr><td>iq</td><td>2003</td><td>39</td><td>0</td></tr>\n",
       "\t<tr><td>iq</td><td>2003</td><td>40</td><td>0</td></tr>\n",
       "\t<tr><td>iq</td><td>2003</td><td>41</td><td>0</td></tr>\n",
       "\t<tr><td>iq</td><td>2005</td><td>34</td><td>0</td></tr>\n",
       "\t<tr><td>iq</td><td>2005</td><td>35</td><td>0</td></tr>\n",
       "\t<tr><td>iq</td><td>2005</td><td>36</td><td>0</td></tr>\n",
       "\t<tr><td>iq</td><td>2005</td><td>37</td><td>0</td></tr>\n",
       "\t<tr><td>iq</td><td>2005</td><td>38</td><td>0</td></tr>\n",
       "\t<tr><td>iq</td><td>2006</td><td>25</td><td>0</td></tr>\n",
       "\t<tr><td>iq</td><td>2006</td><td>35</td><td>0</td></tr>\n",
       "\t<tr><td>iq</td><td>2006</td><td>50</td><td>0</td></tr>\n",
       "\t<tr><td>iq</td><td>2007</td><td> 1</td><td>0</td></tr>\n",
       "\t<tr><td>iq</td><td>2008</td><td>20</td><td>0</td></tr>\n",
       "\t<tr><td>iq</td><td>2008</td><td>24</td><td>0</td></tr>\n",
       "\t<tr><td>iq</td><td>2008</td><td>25</td><td>0</td></tr>\n",
       "\t<tr><td>iq</td><td>2008</td><td>27</td><td>0</td></tr>\n",
       "\t<tr><td>iq</td><td>2008</td><td>52</td><td>0</td></tr>\n",
       "\t<tr><td>iq</td><td>2009</td><td>21</td><td>0</td></tr>\n",
       "\t<tr><td>iq</td><td>2009</td><td>29</td><td>0</td></tr>\n",
       "\t<tr><td>iq</td><td>2009</td><td>30</td><td>0</td></tr>\n",
       "\t<tr><td>iq</td><td>2009</td><td>39</td><td>0</td></tr>\n",
       "\t<tr><td>iq</td><td>2009</td><td>52</td><td>0</td></tr>\n",
       "\t<tr><td>iq</td><td>2010</td><td>53</td><td>0</td></tr>\n",
       "</tbody>\n",
       "</table>\n"
      ],
      "text/latex": [
       "A grouped\\_df: 1456 × 4\n",
       "\\begin{tabular}{llll}\n",
       " city & year & weekofyear & total\\_cases\\\\\n",
       " <fct> & <int> & <int> & <int>\\\\\n",
       "\\hline\n",
       "\t sj & 1994 & 41 & 461\\\\\n",
       "\t sj & 1994 & 40 & 426\\\\\n",
       "\t sj & 1994 & 45 & 410\\\\\n",
       "\t sj & 1994 & 39 & 395\\\\\n",
       "\t sj & 1994 & 42 & 381\\\\\n",
       "\t sj & 1994 & 46 & 364\\\\\n",
       "\t sj & 1994 & 47 & 359\\\\\n",
       "\t sj & 1994 & 44 & 353\\\\\n",
       "\t sj & 1994 & 43 & 333\\\\\n",
       "\t sj & 1998 & 32 & 329\\\\\n",
       "\t sj & 1994 & 38 & 302\\\\\n",
       "\t sj & 1994 & 48 & 288\\\\\n",
       "\t sj & 1994 & 37 & 272\\\\\n",
       "\t sj & 1998 & 33 & 263\\\\\n",
       "\t sj & 1998 & 31 & 256\\\\\n",
       "\t sj & 1994 & 49 & 221\\\\\n",
       "\t sj & 1998 & 34 & 220\\\\\n",
       "\t sj & 1998 & 35 & 204\\\\\n",
       "\t sj & 1994 & 36 & 202\\\\\n",
       "\t sj & 1998 & 30 & 191\\\\\n",
       "\t sj & 1998 & 36 & 181\\\\\n",
       "\t sj & 1994 & 35 & 179\\\\\n",
       "\t sj & 2007 & 40 & 170\\\\\n",
       "\t sj & 1991 & 48 & 169\\\\\n",
       "\t sj & 1995 & 52 & 154\\\\\n",
       "\t sj & 1998 & 29 & 150\\\\\n",
       "\t sj & 1994 & 50 & 149\\\\\n",
       "\t sj & 1991 & 42 & 142\\\\\n",
       "\t sj & 1991 & 49 & 141\\\\\n",
       "\t sj & 1991 & 40 & 140\\\\\n",
       "\t ... & ... & ... & ...\\\\\n",
       "\t iq & 2003 & 16 & 0\\\\\n",
       "\t iq & 2003 & 17 & 0\\\\\n",
       "\t iq & 2003 & 32 & 0\\\\\n",
       "\t iq & 2003 & 33 & 0\\\\\n",
       "\t iq & 2003 & 34 & 0\\\\\n",
       "\t iq & 2003 & 35 & 0\\\\\n",
       "\t iq & 2003 & 37 & 0\\\\\n",
       "\t iq & 2003 & 39 & 0\\\\\n",
       "\t iq & 2003 & 40 & 0\\\\\n",
       "\t iq & 2003 & 41 & 0\\\\\n",
       "\t iq & 2005 & 34 & 0\\\\\n",
       "\t iq & 2005 & 35 & 0\\\\\n",
       "\t iq & 2005 & 36 & 0\\\\\n",
       "\t iq & 2005 & 37 & 0\\\\\n",
       "\t iq & 2005 & 38 & 0\\\\\n",
       "\t iq & 2006 & 25 & 0\\\\\n",
       "\t iq & 2006 & 35 & 0\\\\\n",
       "\t iq & 2006 & 50 & 0\\\\\n",
       "\t iq & 2007 &  1 & 0\\\\\n",
       "\t iq & 2008 & 20 & 0\\\\\n",
       "\t iq & 2008 & 24 & 0\\\\\n",
       "\t iq & 2008 & 25 & 0\\\\\n",
       "\t iq & 2008 & 27 & 0\\\\\n",
       "\t iq & 2008 & 52 & 0\\\\\n",
       "\t iq & 2009 & 21 & 0\\\\\n",
       "\t iq & 2009 & 29 & 0\\\\\n",
       "\t iq & 2009 & 30 & 0\\\\\n",
       "\t iq & 2009 & 39 & 0\\\\\n",
       "\t iq & 2009 & 52 & 0\\\\\n",
       "\t iq & 2010 & 53 & 0\\\\\n",
       "\\end{tabular}\n"
      ],
      "text/markdown": [
       "\n",
       "A grouped_df: 1456 × 4\n",
       "\n",
       "| city &lt;fct&gt; | year &lt;int&gt; | weekofyear &lt;int&gt; | total_cases &lt;int&gt; |\n",
       "|---|---|---|---|\n",
       "| sj | 1994 | 41 | 461 |\n",
       "| sj | 1994 | 40 | 426 |\n",
       "| sj | 1994 | 45 | 410 |\n",
       "| sj | 1994 | 39 | 395 |\n",
       "| sj | 1994 | 42 | 381 |\n",
       "| sj | 1994 | 46 | 364 |\n",
       "| sj | 1994 | 47 | 359 |\n",
       "| sj | 1994 | 44 | 353 |\n",
       "| sj | 1994 | 43 | 333 |\n",
       "| sj | 1998 | 32 | 329 |\n",
       "| sj | 1994 | 38 | 302 |\n",
       "| sj | 1994 | 48 | 288 |\n",
       "| sj | 1994 | 37 | 272 |\n",
       "| sj | 1998 | 33 | 263 |\n",
       "| sj | 1998 | 31 | 256 |\n",
       "| sj | 1994 | 49 | 221 |\n",
       "| sj | 1998 | 34 | 220 |\n",
       "| sj | 1998 | 35 | 204 |\n",
       "| sj | 1994 | 36 | 202 |\n",
       "| sj | 1998 | 30 | 191 |\n",
       "| sj | 1998 | 36 | 181 |\n",
       "| sj | 1994 | 35 | 179 |\n",
       "| sj | 2007 | 40 | 170 |\n",
       "| sj | 1991 | 48 | 169 |\n",
       "| sj | 1995 | 52 | 154 |\n",
       "| sj | 1998 | 29 | 150 |\n",
       "| sj | 1994 | 50 | 149 |\n",
       "| sj | 1991 | 42 | 142 |\n",
       "| sj | 1991 | 49 | 141 |\n",
       "| sj | 1991 | 40 | 140 |\n",
       "| ... | ... | ... | ... |\n",
       "| iq | 2003 | 16 | 0 |\n",
       "| iq | 2003 | 17 | 0 |\n",
       "| iq | 2003 | 32 | 0 |\n",
       "| iq | 2003 | 33 | 0 |\n",
       "| iq | 2003 | 34 | 0 |\n",
       "| iq | 2003 | 35 | 0 |\n",
       "| iq | 2003 | 37 | 0 |\n",
       "| iq | 2003 | 39 | 0 |\n",
       "| iq | 2003 | 40 | 0 |\n",
       "| iq | 2003 | 41 | 0 |\n",
       "| iq | 2005 | 34 | 0 |\n",
       "| iq | 2005 | 35 | 0 |\n",
       "| iq | 2005 | 36 | 0 |\n",
       "| iq | 2005 | 37 | 0 |\n",
       "| iq | 2005 | 38 | 0 |\n",
       "| iq | 2006 | 25 | 0 |\n",
       "| iq | 2006 | 35 | 0 |\n",
       "| iq | 2006 | 50 | 0 |\n",
       "| iq | 2007 |  1 | 0 |\n",
       "| iq | 2008 | 20 | 0 |\n",
       "| iq | 2008 | 24 | 0 |\n",
       "| iq | 2008 | 25 | 0 |\n",
       "| iq | 2008 | 27 | 0 |\n",
       "| iq | 2008 | 52 | 0 |\n",
       "| iq | 2009 | 21 | 0 |\n",
       "| iq | 2009 | 29 | 0 |\n",
       "| iq | 2009 | 30 | 0 |\n",
       "| iq | 2009 | 39 | 0 |\n",
       "| iq | 2009 | 52 | 0 |\n",
       "| iq | 2010 | 53 | 0 |\n",
       "\n"
      ],
      "text/plain": [
       "     city year weekofyear total_cases\n",
       "1    sj   1994 41         461        \n",
       "2    sj   1994 40         426        \n",
       "3    sj   1994 45         410        \n",
       "4    sj   1994 39         395        \n",
       "5    sj   1994 42         381        \n",
       "6    sj   1994 46         364        \n",
       "7    sj   1994 47         359        \n",
       "8    sj   1994 44         353        \n",
       "9    sj   1994 43         333        \n",
       "10   sj   1998 32         329        \n",
       "11   sj   1994 38         302        \n",
       "12   sj   1994 48         288        \n",
       "13   sj   1994 37         272        \n",
       "14   sj   1998 33         263        \n",
       "15   sj   1998 31         256        \n",
       "16   sj   1994 49         221        \n",
       "17   sj   1998 34         220        \n",
       "18   sj   1998 35         204        \n",
       "19   sj   1994 36         202        \n",
       "20   sj   1998 30         191        \n",
       "21   sj   1998 36         181        \n",
       "22   sj   1994 35         179        \n",
       "23   sj   2007 40         170        \n",
       "24   sj   1991 48         169        \n",
       "25   sj   1995 52         154        \n",
       "26   sj   1998 29         150        \n",
       "27   sj   1994 50         149        \n",
       "28   sj   1991 42         142        \n",
       "29   sj   1991 49         141        \n",
       "30   sj   1991 40         140        \n",
       "...  ...  ...  ...        ...        \n",
       "1427 iq   2003 16         0          \n",
       "1428 iq   2003 17         0          \n",
       "1429 iq   2003 32         0          \n",
       "1430 iq   2003 33         0          \n",
       "1431 iq   2003 34         0          \n",
       "1432 iq   2003 35         0          \n",
       "1433 iq   2003 37         0          \n",
       "1434 iq   2003 39         0          \n",
       "1435 iq   2003 40         0          \n",
       "1436 iq   2003 41         0          \n",
       "1437 iq   2005 34         0          \n",
       "1438 iq   2005 35         0          \n",
       "1439 iq   2005 36         0          \n",
       "1440 iq   2005 37         0          \n",
       "1441 iq   2005 38         0          \n",
       "1442 iq   2006 25         0          \n",
       "1443 iq   2006 35         0          \n",
       "1444 iq   2006 50         0          \n",
       "1445 iq   2007  1         0          \n",
       "1446 iq   2008 20         0          \n",
       "1447 iq   2008 24         0          \n",
       "1448 iq   2008 25         0          \n",
       "1449 iq   2008 27         0          \n",
       "1450 iq   2008 52         0          \n",
       "1451 iq   2009 21         0          \n",
       "1452 iq   2009 29         0          \n",
       "1453 iq   2009 30         0          \n",
       "1454 iq   2009 39         0          \n",
       "1455 iq   2009 52         0          \n",
       "1456 iq   2010 53         0          "
      ]
     },
     "metadata": {},
     "output_type": "display_data"
    }
   ],
   "source": [
    "A<- group_by(target,weekofyear)\n",
    "arrange(A,desc(total_cases))"
   ]
  },
  {
   "cell_type": "code",
   "execution_count": 6,
   "metadata": {},
   "outputs": [
    {
     "name": "stderr",
     "output_type": "stream",
     "text": [
      "`geom_smooth()` using method = 'gam' and formula 'y ~ s(x, bs = \"cs\")'\n",
      "\n"
     ]
    },
    {
     "data": {
      "image/png": "[encoded data removed]",
      "text/plain": [
       "plot without title"
      ]
     },
     "metadata": {
      "image/png": {
       "height": 420,
       "width": 420
      },
      "text/plain": {
       "height": 420,
       "width": 420
      }
     },
     "output_type": "display_data"
    }
   ],
   "source": [
    "ggplot(target,aes(x = year,y = total_cases))+\n",
    "geom_point()+geom_smooth()"
   ]
  },
  {
   "cell_type": "code",
   "execution_count": 7,
   "metadata": {},
   "outputs": [
    {
     "name": "stderr",
     "output_type": "stream",
     "text": [
      "`geom_smooth()` using method = 'gam' and formula 'y ~ s(x, bs = \"cs\")'\n",
      "\n"
     ]
    },
    {
     "data": {
      "image/png": "[encoded data removed]",
      "text/plain": [
       "plot without title"
      ]
     },
     "metadata": {
      "image/png": {
       "height": 420,
       "width": 420
      },
      "text/plain": {
       "height": 420,
       "width": 420
      }
     },
     "output_type": "display_data"
    }
   ],
   "source": [
    "ggplot(target,aes(x = weekofyear,y = total_cases,col = city)) + geom_point() + geom_smooth(col = \"black\")"
   ]
  },
  {
   "cell_type": "markdown",
   "metadata": {},
   "source": [
    "# DATA CLEANING"
   ]
  },
  {
   "cell_type": "code",
   "execution_count": 8,
   "metadata": {
    "scrolled": true
   },
   "outputs": [
    {
     "data": {
      "text/html": [
       "<table>\n",
       "<caption>A data.frame: 24 × 2</caption>\n",
       "<thead>\n",
       "\t<tr><th></th><th scope=col>NA_data_set</th><th scope=col>NA_test_set</th></tr>\n",
       "\t<tr><th></th><th scope=col>&lt;dbl&gt;</th><th scope=col>&lt;dbl&gt;</th></tr>\n",
       "</thead>\n",
       "<tbody>\n",
       "\t<tr><th scope=row>city</th><td> 0.0000000</td><td> 0.0000000</td></tr>\n",
       "\t<tr><th scope=row>year</th><td> 0.0000000</td><td> 0.0000000</td></tr>\n",
       "\t<tr><th scope=row>weekofyear</th><td> 0.0000000</td><td> 0.0000000</td></tr>\n",
       "\t<tr><th scope=row>week_start_date</th><td> 0.0000000</td><td> 0.0000000</td></tr>\n",
       "\t<tr><th scope=row>ndvi_ne</th><td>13.3241758</td><td>10.3365385</td></tr>\n",
       "\t<tr><th scope=row>ndvi_nw</th><td> 3.5714286</td><td> 2.6442308</td></tr>\n",
       "\t<tr><th scope=row>ndvi_se</th><td> 1.5109890</td><td> 0.2403846</td></tr>\n",
       "\t<tr><th scope=row>ndvi_sw</th><td> 1.5109890</td><td> 0.2403846</td></tr>\n",
       "\t<tr><th scope=row>precipitation_amt_mm</th><td> 0.8928571</td><td> 0.4807692</td></tr>\n",
       "\t<tr><th scope=row>reanalysis_air_temp_k</th><td> 0.6868132</td><td> 0.4807692</td></tr>\n",
       "\t<tr><th scope=row>reanalysis_avg_temp_k</th><td> 0.6868132</td><td> 0.4807692</td></tr>\n",
       "\t<tr><th scope=row>reanalysis_dew_point_temp_k</th><td> 0.6868132</td><td> 0.4807692</td></tr>\n",
       "\t<tr><th scope=row>reanalysis_max_air_temp_k</th><td> 0.6868132</td><td> 0.4807692</td></tr>\n",
       "\t<tr><th scope=row>reanalysis_min_air_temp_k</th><td> 0.6868132</td><td> 0.4807692</td></tr>\n",
       "\t<tr><th scope=row>reanalysis_precip_amt_kg_per_m2</th><td> 0.6868132</td><td> 0.4807692</td></tr>\n",
       "\t<tr><th scope=row>reanalysis_relative_humidity_percent</th><td> 0.6868132</td><td> 0.4807692</td></tr>\n",
       "\t<tr><th scope=row>reanalysis_sat_precip_amt_mm</th><td> 0.8928571</td><td> 0.4807692</td></tr>\n",
       "\t<tr><th scope=row>reanalysis_specific_humidity_g_per_kg</th><td> 0.6868132</td><td> 0.4807692</td></tr>\n",
       "\t<tr><th scope=row>reanalysis_tdtr_k</th><td> 0.6868132</td><td> 0.4807692</td></tr>\n",
       "\t<tr><th scope=row>station_avg_temp_c</th><td> 2.9532967</td><td> 2.8846154</td></tr>\n",
       "\t<tr><th scope=row>station_diur_temp_rng_c</th><td> 2.9532967</td><td> 2.8846154</td></tr>\n",
       "\t<tr><th scope=row>station_max_temp_c</th><td> 1.3736264</td><td> 0.7211538</td></tr>\n",
       "\t<tr><th scope=row>station_min_temp_c</th><td> 0.9615385</td><td> 2.1634615</td></tr>\n",
       "\t<tr><th scope=row>station_precip_mm</th><td> 1.5109890</td><td> 1.2019231</td></tr>\n",
       "</tbody>\n",
       "</table>\n"
      ],
      "text/latex": [
       "A data.frame: 24 × 2\n",
       "\\begin{tabular}{r|ll}\n",
       "  & NA\\_data\\_set & NA\\_test\\_set\\\\\n",
       "  & <dbl> & <dbl>\\\\\n",
       "\\hline\n",
       "\tcity &  0.0000000 &  0.0000000\\\\\n",
       "\tyear &  0.0000000 &  0.0000000\\\\\n",
       "\tweekofyear &  0.0000000 &  0.0000000\\\\\n",
       "\tweek\\_start\\_date &  0.0000000 &  0.0000000\\\\\n",
       "\tndvi\\_ne & 13.3241758 & 10.3365385\\\\\n",
       "\tndvi\\_nw &  3.5714286 &  2.6442308\\\\\n",
       "\tndvi\\_se &  1.5109890 &  0.2403846\\\\\n",
       "\tndvi\\_sw &  1.5109890 &  0.2403846\\\\\n",
       "\tprecipitation\\_amt\\_mm &  0.8928571 &  0.4807692\\\\\n",
       "\treanalysis\\_air\\_temp\\_k &  0.6868132 &  0.4807692\\\\\n",
       "\treanalysis\\_avg\\_temp\\_k &  0.6868132 &  0.4807692\\\\\n",
       "\treanalysis\\_dew\\_point\\_temp\\_k &  0.6868132 &  0.4807692\\\\\n",
       "\treanalysis\\_max\\_air\\_temp\\_k &  0.6868132 &  0.4807692\\\\\n",
       "\treanalysis\\_min\\_air\\_temp\\_k &  0.6868132 &  0.4807692\\\\\n",
       "\treanalysis\\_precip\\_amt\\_kg\\_per\\_m2 &  0.6868132 &  0.4807692\\\\\n",
       "\treanalysis\\_relative\\_humidity\\_percent &  0.6868132 &  0.4807692\\\\\n",
       "\treanalysis\\_sat\\_precip\\_amt\\_mm &  0.8928571 &  0.4807692\\\\\n",
       "\treanalysis\\_specific\\_humidity\\_g\\_per\\_kg &  0.6868132 &  0.4807692\\\\\n",
       "\treanalysis\\_tdtr\\_k &  0.6868132 &  0.4807692\\\\\n",
       "\tstation\\_avg\\_temp\\_c &  2.9532967 &  2.8846154\\\\\n",
       "\tstation\\_diur\\_temp\\_rng\\_c &  2.9532967 &  2.8846154\\\\\n",
       "\tstation\\_max\\_temp\\_c &  1.3736264 &  0.7211538\\\\\n",
       "\tstation\\_min\\_temp\\_c &  0.9615385 &  2.1634615\\\\\n",
       "\tstation\\_precip\\_mm &  1.5109890 &  1.2019231\\\\\n",
       "\\end{tabular}\n"
      ],
      "text/markdown": [
       "\n",
       "A data.frame: 24 × 2\n",
       "\n",
       "| <!--/--> | NA_data_set &lt;dbl&gt; | NA_test_set &lt;dbl&gt; |\n",
       "|---|---|---|\n",
       "| city |  0.0000000 |  0.0000000 |\n",
       "| year |  0.0000000 |  0.0000000 |\n",
       "| weekofyear |  0.0000000 |  0.0000000 |\n",
       "| week_start_date |  0.0000000 |  0.0000000 |\n",
       "| ndvi_ne | 13.3241758 | 10.3365385 |\n",
       "| ndvi_nw |  3.5714286 |  2.6442308 |\n",
       "| ndvi_se |  1.5109890 |  0.2403846 |\n",
       "| ndvi_sw |  1.5109890 |  0.2403846 |\n",
       "| precipitation_amt_mm |  0.8928571 |  0.4807692 |\n",
       "| reanalysis_air_temp_k |  0.6868132 |  0.4807692 |\n",
       "| reanalysis_avg_temp_k |  0.6868132 |  0.4807692 |\n",
       "| reanalysis_dew_point_temp_k |  0.6868132 |  0.4807692 |\n",
       "| reanalysis_max_air_temp_k |  0.6868132 |  0.4807692 |\n",
       "| reanalysis_min_air_temp_k |  0.6868132 |  0.4807692 |\n",
       "| reanalysis_precip_amt_kg_per_m2 |  0.6868132 |  0.4807692 |\n",
       "| reanalysis_relative_humidity_percent |  0.6868132 |  0.4807692 |\n",
       "| reanalysis_sat_precip_amt_mm |  0.8928571 |  0.4807692 |\n",
       "| reanalysis_specific_humidity_g_per_kg |  0.6868132 |  0.4807692 |\n",
       "| reanalysis_tdtr_k |  0.6868132 |  0.4807692 |\n",
       "| station_avg_temp_c |  2.9532967 |  2.8846154 |\n",
       "| station_diur_temp_rng_c |  2.9532967 |  2.8846154 |\n",
       "| station_max_temp_c |  1.3736264 |  0.7211538 |\n",
       "| station_min_temp_c |  0.9615385 |  2.1634615 |\n",
       "| station_precip_mm |  1.5109890 |  1.2019231 |\n",
       "\n"
      ],
      "text/plain": [
       "                                      NA_data_set NA_test_set\n",
       "city                                   0.0000000   0.0000000 \n",
       "year                                   0.0000000   0.0000000 \n",
       "weekofyear                             0.0000000   0.0000000 \n",
       "week_start_date                        0.0000000   0.0000000 \n",
       "ndvi_ne                               13.3241758  10.3365385 \n",
       "ndvi_nw                                3.5714286   2.6442308 \n",
       "ndvi_se                                1.5109890   0.2403846 \n",
       "ndvi_sw                                1.5109890   0.2403846 \n",
       "precipitation_amt_mm                   0.8928571   0.4807692 \n",
       "reanalysis_air_temp_k                  0.6868132   0.4807692 \n",
       "reanalysis_avg_temp_k                  0.6868132   0.4807692 \n",
       "reanalysis_dew_point_temp_k            0.6868132   0.4807692 \n",
       "reanalysis_max_air_temp_k              0.6868132   0.4807692 \n",
       "reanalysis_min_air_temp_k              0.6868132   0.4807692 \n",
       "reanalysis_precip_amt_kg_per_m2        0.6868132   0.4807692 \n",
       "reanalysis_relative_humidity_percent   0.6868132   0.4807692 \n",
       "reanalysis_sat_precip_amt_mm           0.8928571   0.4807692 \n",
       "reanalysis_specific_humidity_g_per_kg  0.6868132   0.4807692 \n",
       "reanalysis_tdtr_k                      0.6868132   0.4807692 \n",
       "station_avg_temp_c                     2.9532967   2.8846154 \n",
       "station_diur_temp_rng_c                2.9532967   2.8846154 \n",
       "station_max_temp_c                     1.3736264   0.7211538 \n",
       "station_min_temp_c                     0.9615385   2.1634615 \n",
       "station_precip_mm                      1.5109890   1.2019231 "
      ]
     },
     "metadata": {},
     "output_type": "display_data"
    }
   ],
   "source": [
    "data.frame(NA_data_set = (colSums(is.na(data))/nrow(data)*100), NA_test_set = (colSums(is.na(test))/nrow(test)*100))"
   ]
  },
  {
   "cell_type": "markdown",
   "metadata": {},
   "source": [
    "Fill NA value"
   ]
  },
  {
   "cell_type": "code",
   "execution_count": 9,
   "metadata": {},
   "outputs": [
    {
     "data": {
      "image/png": "[encoded data removed]",
      "text/plain": [
       "plot without title"
      ]
     },
     "metadata": {
      "image/png": {
       "height": 420,
       "width": 420
      },
      "text/plain": {
       "height": 420,
       "width": 420
      }
     },
     "output_type": "display_data"
    }
   ],
   "source": [
    "boxplot(x=data$ndvi_nw,y=target$total_cases)"
   ]
  },
  {
   "cell_type": "code",
   "execution_count": 10,
   "metadata": {},
   "outputs": [
    {
     "data": {
      "image/png": "[encoded data removed]",
      "text/plain": [
       "plot without title"
      ]
     },
     "metadata": {
      "image/png": {
       "height": 420,
       "width": 420
      },
      "text/plain": {
       "height": 420,
       "width": 420
      }
     },
     "output_type": "display_data"
    }
   ],
   "source": [
    "boxplot(x=data$reanalysis_max_air_temp_k,y=target$total_cases)"
   ]
  },
  {
   "cell_type": "code",
   "execution_count": 11,
   "metadata": {},
   "outputs": [],
   "source": [
    "data <- na.locf(data,fromLast=TRUE)\n",
    "test <- na.locf(test,fromLast=TRUE)"
   ]
  },
  {
   "cell_type": "code",
   "execution_count": 12,
   "metadata": {
    "scrolled": true
   },
   "outputs": [
    {
     "data": {
      "text/html": [
       "<table>\n",
       "<caption>A data.frame: 24 × 2</caption>\n",
       "<thead>\n",
       "\t<tr><th></th><th scope=col>NA_data_set</th><th scope=col>NA_test_set</th></tr>\n",
       "\t<tr><th></th><th scope=col>&lt;dbl&gt;</th><th scope=col>&lt;dbl&gt;</th></tr>\n",
       "</thead>\n",
       "<tbody>\n",
       "\t<tr><th scope=row>city</th><td>0</td><td>0</td></tr>\n",
       "\t<tr><th scope=row>year</th><td>0</td><td>0</td></tr>\n",
       "\t<tr><th scope=row>weekofyear</th><td>0</td><td>0</td></tr>\n",
       "\t<tr><th scope=row>week_start_date</th><td>0</td><td>0</td></tr>\n",
       "\t<tr><th scope=row>ndvi_ne</th><td>0</td><td>0</td></tr>\n",
       "\t<tr><th scope=row>ndvi_nw</th><td>0</td><td>0</td></tr>\n",
       "\t<tr><th scope=row>ndvi_se</th><td>0</td><td>0</td></tr>\n",
       "\t<tr><th scope=row>ndvi_sw</th><td>0</td><td>0</td></tr>\n",
       "\t<tr><th scope=row>precipitation_amt_mm</th><td>0</td><td>0</td></tr>\n",
       "\t<tr><th scope=row>reanalysis_air_temp_k</th><td>0</td><td>0</td></tr>\n",
       "\t<tr><th scope=row>reanalysis_avg_temp_k</th><td>0</td><td>0</td></tr>\n",
       "\t<tr><th scope=row>reanalysis_dew_point_temp_k</th><td>0</td><td>0</td></tr>\n",
       "\t<tr><th scope=row>reanalysis_max_air_temp_k</th><td>0</td><td>0</td></tr>\n",
       "\t<tr><th scope=row>reanalysis_min_air_temp_k</th><td>0</td><td>0</td></tr>\n",
       "\t<tr><th scope=row>reanalysis_precip_amt_kg_per_m2</th><td>0</td><td>0</td></tr>\n",
       "\t<tr><th scope=row>reanalysis_relative_humidity_percent</th><td>0</td><td>0</td></tr>\n",
       "\t<tr><th scope=row>reanalysis_sat_precip_amt_mm</th><td>0</td><td>0</td></tr>\n",
       "\t<tr><th scope=row>reanalysis_specific_humidity_g_per_kg</th><td>0</td><td>0</td></tr>\n",
       "\t<tr><th scope=row>reanalysis_tdtr_k</th><td>0</td><td>0</td></tr>\n",
       "\t<tr><th scope=row>station_avg_temp_c</th><td>0</td><td>0</td></tr>\n",
       "\t<tr><th scope=row>station_diur_temp_rng_c</th><td>0</td><td>0</td></tr>\n",
       "\t<tr><th scope=row>station_max_temp_c</th><td>0</td><td>0</td></tr>\n",
       "\t<tr><th scope=row>station_min_temp_c</th><td>0</td><td>0</td></tr>\n",
       "\t<tr><th scope=row>station_precip_mm</th><td>0</td><td>0</td></tr>\n",
       "</tbody>\n",
       "</table>\n"
      ],
      "text/latex": [
       "A data.frame: 24 × 2\n",
       "\\begin{tabular}{r|ll}\n",
       "  & NA\\_data\\_set & NA\\_test\\_set\\\\\n",
       "  & <dbl> & <dbl>\\\\\n",
       "\\hline\n",
       "\tcity & 0 & 0\\\\\n",
       "\tyear & 0 & 0\\\\\n",
       "\tweekofyear & 0 & 0\\\\\n",
       "\tweek\\_start\\_date & 0 & 0\\\\\n",
       "\tndvi\\_ne & 0 & 0\\\\\n",
       "\tndvi\\_nw & 0 & 0\\\\\n",
       "\tndvi\\_se & 0 & 0\\\\\n",
       "\tndvi\\_sw & 0 & 0\\\\\n",
       "\tprecipitation\\_amt\\_mm & 0 & 0\\\\\n",
       "\treanalysis\\_air\\_temp\\_k & 0 & 0\\\\\n",
       "\treanalysis\\_avg\\_temp\\_k & 0 & 0\\\\\n",
       "\treanalysis\\_dew\\_point\\_temp\\_k & 0 & 0\\\\\n",
       "\treanalysis\\_max\\_air\\_temp\\_k & 0 & 0\\\\\n",
       "\treanalysis\\_min\\_air\\_temp\\_k & 0 & 0\\\\\n",
       "\treanalysis\\_precip\\_amt\\_kg\\_per\\_m2 & 0 & 0\\\\\n",
       "\treanalysis\\_relative\\_humidity\\_percent & 0 & 0\\\\\n",
       "\treanalysis\\_sat\\_precip\\_amt\\_mm & 0 & 0\\\\\n",
       "\treanalysis\\_specific\\_humidity\\_g\\_per\\_kg & 0 & 0\\\\\n",
       "\treanalysis\\_tdtr\\_k & 0 & 0\\\\\n",
       "\tstation\\_avg\\_temp\\_c & 0 & 0\\\\\n",
       "\tstation\\_diur\\_temp\\_rng\\_c & 0 & 0\\\\\n",
       "\tstation\\_max\\_temp\\_c & 0 & 0\\\\\n",
       "\tstation\\_min\\_temp\\_c & 0 & 0\\\\\n",
       "\tstation\\_precip\\_mm & 0 & 0\\\\\n",
       "\\end{tabular}\n"
      ],
      "text/markdown": [
       "\n",
       "A data.frame: 24 × 2\n",
       "\n",
       "| <!--/--> | NA_data_set &lt;dbl&gt; | NA_test_set &lt;dbl&gt; |\n",
       "|---|---|---|\n",
       "| city | 0 | 0 |\n",
       "| year | 0 | 0 |\n",
       "| weekofyear | 0 | 0 |\n",
       "| week_start_date | 0 | 0 |\n",
       "| ndvi_ne | 0 | 0 |\n",
       "| ndvi_nw | 0 | 0 |\n",
       "| ndvi_se | 0 | 0 |\n",
       "| ndvi_sw | 0 | 0 |\n",
       "| precipitation_amt_mm | 0 | 0 |\n",
       "| reanalysis_air_temp_k | 0 | 0 |\n",
       "| reanalysis_avg_temp_k | 0 | 0 |\n",
       "| reanalysis_dew_point_temp_k | 0 | 0 |\n",
       "| reanalysis_max_air_temp_k | 0 | 0 |\n",
       "| reanalysis_min_air_temp_k | 0 | 0 |\n",
       "| reanalysis_precip_amt_kg_per_m2 | 0 | 0 |\n",
       "| reanalysis_relative_humidity_percent | 0 | 0 |\n",
       "| reanalysis_sat_precip_amt_mm | 0 | 0 |\n",
       "| reanalysis_specific_humidity_g_per_kg | 0 | 0 |\n",
       "| reanalysis_tdtr_k | 0 | 0 |\n",
       "| station_avg_temp_c | 0 | 0 |\n",
       "| station_diur_temp_rng_c | 0 | 0 |\n",
       "| station_max_temp_c | 0 | 0 |\n",
       "| station_min_temp_c | 0 | 0 |\n",
       "| station_precip_mm | 0 | 0 |\n",
       "\n"
      ],
      "text/plain": [
       "                                      NA_data_set NA_test_set\n",
       "city                                  0           0          \n",
       "year                                  0           0          \n",
       "weekofyear                            0           0          \n",
       "week_start_date                       0           0          \n",
       "ndvi_ne                               0           0          \n",
       "ndvi_nw                               0           0          \n",
       "ndvi_se                               0           0          \n",
       "ndvi_sw                               0           0          \n",
       "precipitation_amt_mm                  0           0          \n",
       "reanalysis_air_temp_k                 0           0          \n",
       "reanalysis_avg_temp_k                 0           0          \n",
       "reanalysis_dew_point_temp_k           0           0          \n",
       "reanalysis_max_air_temp_k             0           0          \n",
       "reanalysis_min_air_temp_k             0           0          \n",
       "reanalysis_precip_amt_kg_per_m2       0           0          \n",
       "reanalysis_relative_humidity_percent  0           0          \n",
       "reanalysis_sat_precip_amt_mm          0           0          \n",
       "reanalysis_specific_humidity_g_per_kg 0           0          \n",
       "reanalysis_tdtr_k                     0           0          \n",
       "station_avg_temp_c                    0           0          \n",
       "station_diur_temp_rng_c               0           0          \n",
       "station_max_temp_c                    0           0          \n",
       "station_min_temp_c                    0           0          \n",
       "station_precip_mm                     0           0          "
      ]
     },
     "metadata": {},
     "output_type": "display_data"
    }
   ],
   "source": [
    "data.frame(NA_data_set = (colSums(is.na(data))/nrow(data)*100), NA_test_set = (colSums(is.na(test))/nrow(test)*100))"
   ]
  },
  {
   "cell_type": "markdown",
   "metadata": {},
   "source": [
    "Find strong correlation"
   ]
  },
  {
   "cell_type": "code",
   "execution_count": 13,
   "metadata": {
    "scrolled": true
   },
   "outputs": [],
   "source": [
    "total <- merge(target,data,by=c(\"city\",\"year\",\"weekofyear\"))"
   ]
  },
  {
   "cell_type": "code",
   "execution_count": 78,
   "metadata": {
    "scrolled": true
   },
   "outputs": [
    {
     "data": {
      "text/html": [
       "<table>\n",
       "<caption>A data.frame: 1454 × 14</caption>\n",
       "<thead>\n",
       "\t<tr><th></th><th scope=col>city</th><th scope=col>weekofyear</th><th scope=col>total_cases</th><th scope=col>ndvi_ne</th><th scope=col>ndvi_nw</th><th scope=col>ndvi_se</th><th scope=col>ndvi_sw</th><th scope=col>precipitation_kgm2</th><th scope=col>relative_humidity</th><th scope=col>sat_precipitation</th><th scope=col>max_temperature</th><th scope=col>min_temperature</th><th scope=col>total_precipitation</th><th scope=col>mosquito</th></tr>\n",
       "\t<tr><th></th><th scope=col>&lt;fct&gt;</th><th scope=col>&lt;fct&gt;</th><th scope=col>&lt;dbl&gt;</th><th scope=col>&lt;dbl&gt;</th><th scope=col>&lt;dbl&gt;</th><th scope=col>&lt;dbl&gt;</th><th scope=col>&lt;dbl&gt;</th><th scope=col>&lt;dbl&gt;</th><th scope=col>&lt;dbl&gt;</th><th scope=col>&lt;dbl&gt;</th><th scope=col>&lt;dbl&gt;</th><th scope=col>&lt;dbl&gt;</th><th scope=col>&lt;dbl&gt;</th><th scope=col>&lt;fct&gt;</th></tr>\n",
       "</thead>\n",
       "<tbody>\n",
       "\t<tr><th scope=row>1</th><td>iq</td><td>26</td><td>0.0000000</td><td>0.19288570</td><td>0.13225710</td><td>0.3408857</td><td>0.24720000</td><td> 43.19</td><td>92.41857</td><td> 25.41</td><td>32.5</td><td>20.7</td><td>  3.0</td><td>1</td></tr>\n",
       "\t<tr><th scope=row>2</th><td>iq</td><td>27</td><td>0.0000000</td><td>0.21683330</td><td>0.27610000</td><td>0.2894571</td><td>0.24165710</td><td> 46.00</td><td>93.58143</td><td> 60.61</td><td>34.0</td><td>20.8</td><td> 55.6</td><td>1</td></tr>\n",
       "\t<tr><th scope=row>3</th><td>iq</td><td>28</td><td>0.0000000</td><td>0.17675710</td><td>0.17312860</td><td>0.2041143</td><td>0.12801430</td><td> 64.77</td><td>95.84857</td><td> 55.52</td><td>33.0</td><td>20.7</td><td> 38.1</td><td>1</td></tr>\n",
       "\t<tr><th scope=row>4</th><td>iq</td><td>29</td><td>0.0000000</td><td>0.22772860</td><td>0.14542860</td><td>0.2542000</td><td>0.20031430</td><td> 23.96</td><td>87.23429</td><td>  5.60</td><td>31.5</td><td>14.7</td><td> 30.0</td><td>2</td></tr>\n",
       "\t<tr><th scope=row>5</th><td>iq</td><td>30</td><td>0.0000000</td><td>0.32864290</td><td>0.32212860</td><td>0.2543714</td><td>0.36104290</td><td> 31.80</td><td>88.16143</td><td> 62.76</td><td>33.3</td><td>19.1</td><td>  4.0</td><td>2</td></tr>\n",
       "\t<tr><th scope=row>6</th><td>iq</td><td>31</td><td>0.0000000</td><td>0.20552860</td><td>0.19075710</td><td>0.2316714</td><td>0.25531430</td><td>  1.00</td><td>74.72857</td><td> 16.24</td><td>32.0</td><td>17.0</td><td> 11.5</td><td>2</td></tr>\n",
       "\t<tr><th scope=row>7</th><td>iq</td><td>32</td><td>0.0000000</td><td>0.31248570</td><td>0.32998570</td><td>0.3805857</td><td>0.38727140</td><td> 26.68</td><td>83.27571</td><td> 89.37</td><td>34.0</td><td>19.9</td><td> 72.9</td><td>2</td></tr>\n",
       "\t<tr><th scope=row>8</th><td>iq</td><td>33</td><td>0.0000000</td><td>0.38413330</td><td>0.39224000</td><td>0.3417800</td><td>0.38275000</td><td> 16.90</td><td>82.49000</td><td> 42.08</td><td>33.0</td><td>20.5</td><td> 50.1</td><td>1</td></tr>\n",
       "\t<tr><th scope=row>9</th><td>iq</td><td>34</td><td>0.0000000</td><td>0.40815710</td><td>0.32215710</td><td>0.4067143</td><td>0.30271430</td><td>  5.59</td><td>74.74000</td><td> 49.22</td><td>34.0</td><td>19.0</td><td> 89.2</td><td>2</td></tr>\n",
       "\t<tr><th scope=row>10</th><td>iq</td><td>35</td><td>0.0000000</td><td>0.33204290</td><td>0.32105710</td><td>0.3146143</td><td>0.32425710</td><td> 16.07</td><td>74.15143</td><td> 53.65</td><td>34.0</td><td>20.0</td><td> 78.0</td><td>1</td></tr>\n",
       "\t<tr><th scope=row>11</th><td>iq</td><td>36</td><td>0.6931472</td><td>0.29558570</td><td>0.29568330</td><td>0.3122143</td><td>0.26592860</td><td>  2.50</td><td>57.78714</td><td> 23.12</td><td>35.8</td><td>21.7</td><td> 56.9</td><td>1</td></tr>\n",
       "\t<tr><th scope=row>12</th><td>iq</td><td>37</td><td>0.0000000</td><td>0.28465710</td><td>0.30975710</td><td>0.3878833</td><td>0.32815710</td><td>  4.10</td><td>71.66000</td><td> 34.62</td><td>34.5</td><td>20.5</td><td> 18.9</td><td>1</td></tr>\n",
       "\t<tr><th scope=row>13</th><td>iq</td><td>38</td><td>0.0000000</td><td>0.34881430</td><td>0.29571670</td><td>0.4048429</td><td>0.24257140</td><td>  3.20</td><td>77.48714</td><td> 97.55</td><td>36.0</td><td>20.5</td><td>104.2</td><td>1</td></tr>\n",
       "\t<tr><th scope=row>14</th><td>iq</td><td>39</td><td>0.0000000</td><td>0.17568570</td><td>0.09948333</td><td>0.2257143</td><td>0.18278570</td><td>  2.60</td><td>71.46286</td><td> 95.89</td><td>34.0</td><td>20.5</td><td> 57.9</td><td>1</td></tr>\n",
       "\t<tr><th scope=row>15</th><td>iq</td><td>40</td><td>0.0000000</td><td>0.33754000</td><td>0.27694290</td><td>0.2775000</td><td>0.25505000</td><td> 16.60</td><td>82.37143</td><td> 46.22</td><td>34.0</td><td>20.0</td><td> 63.0</td><td>1</td></tr>\n",
       "\t<tr><th scope=row>16</th><td>iq</td><td>41</td><td>0.6931472</td><td>0.22353330</td><td>0.13391430</td><td>0.3498000</td><td>0.10091670</td><td> 21.90</td><td>81.52286</td><td> 31.10</td><td>34.0</td><td>21.0</td><td>  3.0</td><td>1</td></tr>\n",
       "\t<tr><th scope=row>17</th><td>iq</td><td>42</td><td>0.6931472</td><td>0.27480000</td><td>0.18705710</td><td>0.3739429</td><td>0.27947140</td><td>  9.90</td><td>75.54000</td><td> 25.21</td><td>36.0</td><td>21.0</td><td> 45.2</td><td>1</td></tr>\n",
       "\t<tr><th scope=row>18</th><td>iq</td><td>43</td><td>0.0000000</td><td>0.36730000</td><td>0.30555000</td><td>0.4553800</td><td>0.32580000</td><td> 23.30</td><td>76.94143</td><td> 49.25</td><td>34.6</td><td>20.0</td><td> 57.9</td><td>1</td></tr>\n",
       "\t<tr><th scope=row>19</th><td>iq</td><td>44</td><td>0.0000000</td><td>0.29510000</td><td>0.21152000</td><td>0.3044000</td><td>0.27961670</td><td> 20.20</td><td>79.42857</td><td> 67.64</td><td>35.5</td><td>21.1</td><td>  7.1</td><td>1</td></tr>\n",
       "\t<tr><th scope=row>20</th><td>iq</td><td>45</td><td>0.0000000</td><td>0.27136670</td><td>0.15156670</td><td>0.3472500</td><td>0.23186670</td><td> 19.20</td><td>74.80286</td><td> 51.83</td><td>35.2</td><td>21.5</td><td> 13.5</td><td>1</td></tr>\n",
       "\t<tr><th scope=row>21</th><td>iq</td><td>46</td><td>0.0000000</td><td>0.09993333</td><td>0.03586000</td><td>0.1954857</td><td>0.06418333</td><td>  3.60</td><td>67.18571</td><td> 39.25</td><td>36.4</td><td>21.7</td><td>  0.0</td><td>1</td></tr>\n",
       "\t<tr><th scope=row>22</th><td>iq</td><td>47</td><td>0.0000000</td><td>0.16998330</td><td>0.28930000</td><td>0.3009833</td><td>0.17091670</td><td> 11.20</td><td>66.04286</td><td> 55.91</td><td>36.5</td><td>21.5</td><td> 19.0</td><td>1</td></tr>\n",
       "\t<tr><th scope=row>23</th><td>iq</td><td>48</td><td>0.0000000</td><td>0.25197140</td><td>0.25380000</td><td>0.3235143</td><td>0.31910000</td><td> 14.50</td><td>78.88571</td><td> 20.65</td><td>34.2</td><td>21.0</td><td> 19.0</td><td>1</td></tr>\n",
       "\t<tr><th scope=row>24</th><td>iq</td><td>49</td><td>0.0000000</td><td>0.16583330</td><td>0.18241430</td><td>0.2545667</td><td>0.18625000</td><td>  1.70</td><td>68.55714</td><td> 24.53</td><td>34.0</td><td>22.0</td><td>  0.8</td><td>1</td></tr>\n",
       "\t<tr><th scope=row>25</th><td>iq</td><td>50</td><td>0.6931472</td><td>0.33878570</td><td>0.31682860</td><td>0.3503429</td><td>0.29770000</td><td> 48.76</td><td>80.40857</td><td>111.06</td><td>33.8</td><td>21.0</td><td> 67.2</td><td>1</td></tr>\n",
       "\t<tr><th scope=row>26</th><td>iq</td><td>51</td><td>0.0000000</td><td>0.26501430</td><td>0.16905710</td><td>0.2348667</td><td>0.30224290</td><td>  5.70</td><td>60.64143</td><td>  3.90</td><td>35.0</td><td>21.0</td><td>  0.0</td><td>1</td></tr>\n",
       "\t<tr><th scope=row>27</th><td>iq</td><td>1 </td><td>0.0000000</td><td>0.25471430</td><td>0.22852860</td><td>0.2505857</td><td>0.28700000</td><td> 64.60</td><td>94.95571</td><td> 59.11</td><td>33.3</td><td>21.8</td><td> 38.9</td><td>1</td></tr>\n",
       "\t<tr><th scope=row>28</th><td>iq</td><td>10</td><td>0.0000000</td><td>0.18204290</td><td>0.28900000</td><td>0.2068714</td><td>0.20632860</td><td> 83.89</td><td>94.09286</td><td>118.07</td><td>33.3</td><td>20.0</td><td> 87.1</td><td>1</td></tr>\n",
       "\t<tr><th scope=row>29</th><td>iq</td><td>11</td><td>0.0000000</td><td>0.20538330</td><td>0.17690000</td><td>0.2063571</td><td>0.20412860</td><td>195.20</td><td>94.09429</td><td> 74.34</td><td>34.2</td><td>20.0</td><td> 39.9</td><td>1</td></tr>\n",
       "\t<tr><th scope=row>30</th><td>iq</td><td>12</td><td>0.0000000</td><td>0.18834290</td><td>0.19503330</td><td>0.1635429</td><td>0.28414290</td><td> 32.60</td><td>82.80143</td><td> 90.35</td><td>34.1</td><td>20.0</td><td> 70.8</td><td>1</td></tr>\n",
       "\t<tr><th scope=row>...</th><td>...</td><td>...</td><td>...</td><td>...</td><td>...</td><td>...</td><td>...</td><td>...</td><td>...</td><td>...</td><td>...</td><td>...</td><td>...</td><td>...</td></tr>\n",
       "\t<tr><th scope=row>1427</th><td>sj</td><td>45</td><td>3.8918203</td><td>-0.25170</td><td>-0.04860000</td><td>0.205171400</td><td>0.17288330</td><td>10.30</td><td>75.35000</td><td>15.25</td><td>32.2</td><td>22.8</td><td>  4.1</td><td>1</td></tr>\n",
       "\t<tr><th scope=row>1428</th><td>sj</td><td>46</td><td>3.2958369</td><td>-0.05890</td><td>-0.06255000</td><td>0.205742900</td><td>0.20254290</td><td>21.40</td><td>77.48143</td><td>42.00</td><td>31.1</td><td>22.8</td><td> 65.7</td><td>1</td></tr>\n",
       "\t<tr><th scope=row>1429</th><td>sj</td><td>47</td><td>3.5263605</td><td>-0.05950</td><td>-0.04166667</td><td>0.204485700</td><td>0.15628570</td><td>43.40</td><td>78.52571</td><td>73.37</td><td>31.1</td><td>22.8</td><td> 40.4</td><td>1</td></tr>\n",
       "\t<tr><th scope=row>1430</th><td>sj</td><td>48</td><td>3.4011974</td><td>-0.05950</td><td>-0.04166667</td><td>0.090916670</td><td>0.12908570</td><td> 9.78</td><td>70.72714</td><td>15.95</td><td>28.9</td><td>22.2</td><td> 36.4</td><td>1</td></tr>\n",
       "\t<tr><th scope=row>1431</th><td>sj</td><td>49</td><td>2.8903718</td><td>-0.13305</td><td>-0.04235000</td><td>0.095600000</td><td>0.08900000</td><td>68.00</td><td>75.36857</td><td>17.85</td><td>29.4</td><td>22.8</td><td> 34.5</td><td>1</td></tr>\n",
       "\t<tr><th scope=row>1432</th><td>sj</td><td>5 </td><td>2.3025851</td><td>-0.21560</td><td> 0.04100000</td><td>0.104685700</td><td>0.13954290</td><td> 0.00</td><td>72.76000</td><td> 0.00</td><td>30.6</td><td>20.6</td><td>  0.0</td><td>1</td></tr>\n",
       "\t<tr><th scope=row>1433</th><td>sj</td><td>50</td><td>2.5649494</td><td>-0.13305</td><td>-0.04555000</td><td>0.151440000</td><td>0.14317140</td><td>66.72</td><td>78.01571</td><td>31.30</td><td>28.9</td><td>22.2</td><td> 30.2</td><td>1</td></tr>\n",
       "\t<tr><th scope=row>1434</th><td>sj</td><td>51</td><td>2.6390573</td><td> 0.01480</td><td>-0.03900000</td><td>0.173416700</td><td>0.15017140</td><td>50.53</td><td>80.17857</td><td>62.11</td><td>28.9</td><td>21.7</td><td>108.2</td><td>1</td></tr>\n",
       "\t<tr><th scope=row>1435</th><td>sj</td><td>52</td><td>2.8903718</td><td> 0.01480</td><td> 0.01630000</td><td>0.207266700</td><td>0.14457780</td><td> 2.36</td><td>75.44857</td><td> 0.00</td><td>28.3</td><td>21.1</td><td> 16.8</td><td>1</td></tr>\n",
       "\t<tr><th scope=row>1436</th><td>sj</td><td>6 </td><td>2.7080502</td><td>-0.21560</td><td> 0.06580000</td><td>0.204842900</td><td>0.23470000</td><td> 0.60</td><td>74.80000</td><td> 0.00</td><td>30.0</td><td>21.1</td><td>  3.3</td><td>1</td></tr>\n",
       "\t<tr><th scope=row>1437</th><td>sj</td><td>7 </td><td>2.7080502</td><td>-0.07520</td><td>-0.07194000</td><td>0.243942900</td><td>0.19231430</td><td> 1.20</td><td>75.75429</td><td> 0.00</td><td>32.2</td><td>21.1</td><td>  0.3</td><td>1</td></tr>\n",
       "\t<tr><th scope=row>1438</th><td>sj</td><td>8 </td><td>2.7725887</td><td> 0.21210</td><td> 0.10160000</td><td>0.190142900</td><td>0.15678570</td><td> 6.73</td><td>73.93286</td><td> 0.00</td><td>31.1</td><td>21.7</td><td>  1.5</td><td>1</td></tr>\n",
       "\t<tr><th scope=row>1439</th><td>sj</td><td>9 </td><td>2.9444390</td><td> 0.05430</td><td>-0.01975000</td><td>0.006183333</td><td>0.05438333</td><td>23.12</td><td>78.12571</td><td> 0.00</td><td>31.7</td><td>21.1</td><td> 22.9</td><td>1</td></tr>\n",
       "\t<tr><th scope=row>1440</th><td>sj</td><td>1 </td><td>2.7725887</td><td> 0.00060</td><td>-0.30960000</td><td>0.239814300</td><td>0.19555710</td><td>27.99</td><td>76.14857</td><td> 0.00</td><td>29.4</td><td>22.2</td><td> 55.5</td><td>1</td></tr>\n",
       "\t<tr><th scope=row>1441</th><td>sj</td><td>10</td><td>0.6931472</td><td>-0.08890</td><td>-0.09003333</td><td>0.223242900</td><td>0.15418570</td><td> 6.50</td><td>74.68143</td><td> 0.00</td><td>29.4</td><td>21.1</td><td> 13.0</td><td>1</td></tr>\n",
       "\t<tr><th scope=row>1442</th><td>sj</td><td>11</td><td>1.0986123</td><td>-0.32140</td><td>-0.14120000</td><td>0.110642900</td><td>0.14101430</td><td> 9.38</td><td>71.93429</td><td> 0.00</td><td>28.9</td><td>22.2</td><td>  4.4</td><td>1</td></tr>\n",
       "\t<tr><th scope=row>1443</th><td>sj</td><td>12</td><td>1.3862944</td><td> 0.04490</td><td> 0.02445000</td><td>0.101628600</td><td>0.08800000</td><td> 0.90</td><td>72.91571</td><td> 0.00</td><td>30.0</td><td>20.6</td><td>  0.5</td><td>1</td></tr>\n",
       "\t<tr><th scope=row>1444</th><td>sj</td><td>13</td><td>1.6094379</td><td> 0.07785</td><td>-0.03990000</td><td>0.310471400</td><td>0.29624290</td><td> 7.55</td><td>74.24714</td><td>27.19</td><td>30.0</td><td>21.1</td><td>  1.8</td><td>1</td></tr>\n",
       "\t<tr><th scope=row>1445</th><td>sj</td><td>14</td><td>1.3862944</td><td>-0.03800</td><td>-0.01683333</td><td>0.119371400</td><td>0.06638571</td><td> 3.67</td><td>74.60000</td><td> 3.82</td><td>30.6</td><td>22.2</td><td>  0.5</td><td>1</td></tr>\n",
       "\t<tr><th scope=row>1446</th><td>sj</td><td>15</td><td>0.6931472</td><td>-0.15520</td><td>-0.05275000</td><td>0.137757100</td><td>0.14121430</td><td>35.00</td><td>75.02714</td><td>16.96</td><td>29.4</td><td>21.7</td><td> 30.7</td><td>1</td></tr>\n",
       "\t<tr><th scope=row>1447</th><td>sj</td><td>16</td><td>1.3862944</td><td> 0.00180</td><td>-0.01036667</td><td>0.203900000</td><td>0.20984290</td><td> 4.82</td><td>72.28571</td><td> 0.00</td><td>29.4</td><td>21.7</td><td> 11.2</td><td>1</td></tr>\n",
       "\t<tr><th scope=row>1448</th><td>sj</td><td>17</td><td>1.7917595</td><td>-0.03700</td><td>-0.01036667</td><td>0.077314290</td><td>0.09058571</td><td> 2.17</td><td>76.96000</td><td> 0.00</td><td>31.7</td><td>23.3</td><td>  0.3</td><td>1</td></tr>\n",
       "\t<tr><th scope=row>1449</th><td>sj</td><td>2 </td><td>2.7080502</td><td>-0.02680</td><td>-0.10825000</td><td>0.330485700</td><td>0.24428570</td><td>37.66</td><td>76.13143</td><td>37.24</td><td>28.3</td><td>21.1</td><td> 64.8</td><td>1</td></tr>\n",
       "\t<tr><th scope=row>1450</th><td>sj</td><td>3 </td><td>2.7725887</td><td>-0.02680</td><td> 0.03830000</td><td>0.125000000</td><td>0.10884290</td><td> 4.10</td><td>75.64286</td><td> 0.00</td><td>27.8</td><td>20.6</td><td>  2.5</td><td>1</td></tr>\n",
       "\t<tr><th scope=row>1451</th><td>sj</td><td>4 </td><td>2.3978953</td><td>-0.02680</td><td>-0.21530000</td><td>0.112614300</td><td>0.16021430</td><td>27.16</td><td>77.16714</td><td>81.22</td><td>27.8</td><td>21.1</td><td> 83.1</td><td>1</td></tr>\n",
       "\t<tr><th scope=row>1452</th><td>sj</td><td>5 </td><td>2.3025851</td><td>-0.11170</td><td>-0.13540000</td><td>0.223300000</td><td>0.17094290</td><td> 2.70</td><td>73.56571</td><td> 0.00</td><td>28.9</td><td>20.0</td><td>  3.1</td><td>1</td></tr>\n",
       "\t<tr><th scope=row>1453</th><td>sj</td><td>6 </td><td>1.0986123</td><td>-0.11170</td><td>-0.00320000</td><td>0.232842900</td><td>0.27117140</td><td>19.70</td><td>70.64286</td><td> 0.00</td><td>27.2</td><td>21.1</td><td> 35.9</td><td>1</td></tr>\n",
       "\t<tr><th scope=row>1454</th><td>sj</td><td>7 </td><td>1.9459101</td><td> 0.07200</td><td>-0.06310000</td><td>0.150200000</td><td>0.14927140</td><td>10.17</td><td>74.22857</td><td> 0.00</td><td>28.3</td><td>21.1</td><td>  6.4</td><td>1</td></tr>\n",
       "\t<tr><th scope=row>1455</th><td>sj</td><td>8 </td><td>2.1972246</td><td>-0.13865</td><td>-0.09506667</td><td>0.246057100</td><td>0.22812860</td><td> 8.30</td><td>74.78571</td><td> 0.00</td><td>28.3</td><td>21.7</td><td> 13.3</td><td>1</td></tr>\n",
       "\t<tr><th scope=row>1456</th><td>sj</td><td>9 </td><td>1.7917595</td><td>-0.08890</td><td> 0.01542000</td><td>0.211628600</td><td>0.11734290</td><td> 6.46</td><td>72.66000</td><td> 0.00</td><td>27.8</td><td>21.1</td><td> 12.9</td><td>1</td></tr>\n",
       "</tbody>\n",
       "</table>\n"
      ],
      "text/latex": [
       "A data.frame: 1454 × 14\n",
       "\\begin{tabular}{r|llllllllllllll}\n",
       "  & city & weekofyear & total\\_cases & ndvi\\_ne & ndvi\\_nw & ndvi\\_se & ndvi\\_sw & precipitation\\_kgm2 & relative\\_humidity & sat\\_precipitation & max\\_temperature & min\\_temperature & total\\_precipitation & mosquito\\\\\n",
       "  & <fct> & <fct> & <dbl> & <dbl> & <dbl> & <dbl> & <dbl> & <dbl> & <dbl> & <dbl> & <dbl> & <dbl> & <dbl> & <fct>\\\\\n",
       "\\hline\n",
       "\t1 & iq & 26 & 0.0000000 & 0.19288570 & 0.13225710 & 0.3408857 & 0.24720000 &  43.19 & 92.41857 &  25.41 & 32.5 & 20.7 &   3.0 & 1\\\\\n",
       "\t2 & iq & 27 & 0.0000000 & 0.21683330 & 0.27610000 & 0.2894571 & 0.24165710 &  46.00 & 93.58143 &  60.61 & 34.0 & 20.8 &  55.6 & 1\\\\\n",
       "\t3 & iq & 28 & 0.0000000 & 0.17675710 & 0.17312860 & 0.2041143 & 0.12801430 &  64.77 & 95.84857 &  55.52 & 33.0 & 20.7 &  38.1 & 1\\\\\n",
       "\t4 & iq & 29 & 0.0000000 & 0.22772860 & 0.14542860 & 0.2542000 & 0.20031430 &  23.96 & 87.23429 &   5.60 & 31.5 & 14.7 &  30.0 & 2\\\\\n",
       "\t5 & iq & 30 & 0.0000000 & 0.32864290 & 0.32212860 & 0.2543714 & 0.36104290 &  31.80 & 88.16143 &  62.76 & 33.3 & 19.1 &   4.0 & 2\\\\\n",
       "\t6 & iq & 31 & 0.0000000 & 0.20552860 & 0.19075710 & 0.2316714 & 0.25531430 &   1.00 & 74.72857 &  16.24 & 32.0 & 17.0 &  11.5 & 2\\\\\n",
       "\t7 & iq & 32 & 0.0000000 & 0.31248570 & 0.32998570 & 0.3805857 & 0.38727140 &  26.68 & 83.27571 &  89.37 & 34.0 & 19.9 &  72.9 & 2\\\\\n",
       "\t8 & iq & 33 & 0.0000000 & 0.38413330 & 0.39224000 & 0.3417800 & 0.38275000 &  16.90 & 82.49000 &  42.08 & 33.0 & 20.5 &  50.1 & 1\\\\\n",
       "\t9 & iq & 34 & 0.0000000 & 0.40815710 & 0.32215710 & 0.4067143 & 0.30271430 &   5.59 & 74.74000 &  49.22 & 34.0 & 19.0 &  89.2 & 2\\\\\n",
       "\t10 & iq & 35 & 0.0000000 & 0.33204290 & 0.32105710 & 0.3146143 & 0.32425710 &  16.07 & 74.15143 &  53.65 & 34.0 & 20.0 &  78.0 & 1\\\\\n",
       "\t11 & iq & 36 & 0.6931472 & 0.29558570 & 0.29568330 & 0.3122143 & 0.26592860 &   2.50 & 57.78714 &  23.12 & 35.8 & 21.7 &  56.9 & 1\\\\\n",
       "\t12 & iq & 37 & 0.0000000 & 0.28465710 & 0.30975710 & 0.3878833 & 0.32815710 &   4.10 & 71.66000 &  34.62 & 34.5 & 20.5 &  18.9 & 1\\\\\n",
       "\t13 & iq & 38 & 0.0000000 & 0.34881430 & 0.29571670 & 0.4048429 & 0.24257140 &   3.20 & 77.48714 &  97.55 & 36.0 & 20.5 & 104.2 & 1\\\\\n",
       "\t14 & iq & 39 & 0.0000000 & 0.17568570 & 0.09948333 & 0.2257143 & 0.18278570 &   2.60 & 71.46286 &  95.89 & 34.0 & 20.5 &  57.9 & 1\\\\\n",
       "\t15 & iq & 40 & 0.0000000 & 0.33754000 & 0.27694290 & 0.2775000 & 0.25505000 &  16.60 & 82.37143 &  46.22 & 34.0 & 20.0 &  63.0 & 1\\\\\n",
       "\t16 & iq & 41 & 0.6931472 & 0.22353330 & 0.13391430 & 0.3498000 & 0.10091670 &  21.90 & 81.52286 &  31.10 & 34.0 & 21.0 &   3.0 & 1\\\\\n",
       "\t17 & iq & 42 & 0.6931472 & 0.27480000 & 0.18705710 & 0.3739429 & 0.27947140 &   9.90 & 75.54000 &  25.21 & 36.0 & 21.0 &  45.2 & 1\\\\\n",
       "\t18 & iq & 43 & 0.0000000 & 0.36730000 & 0.30555000 & 0.4553800 & 0.32580000 &  23.30 & 76.94143 &  49.25 & 34.6 & 20.0 &  57.9 & 1\\\\\n",
       "\t19 & iq & 44 & 0.0000000 & 0.29510000 & 0.21152000 & 0.3044000 & 0.27961670 &  20.20 & 79.42857 &  67.64 & 35.5 & 21.1 &   7.1 & 1\\\\\n",
       "\t20 & iq & 45 & 0.0000000 & 0.27136670 & 0.15156670 & 0.3472500 & 0.23186670 &  19.20 & 74.80286 &  51.83 & 35.2 & 21.5 &  13.5 & 1\\\\\n",
       "\t21 & iq & 46 & 0.0000000 & 0.09993333 & 0.03586000 & 0.1954857 & 0.06418333 &   3.60 & 67.18571 &  39.25 & 36.4 & 21.7 &   0.0 & 1\\\\\n",
       "\t22 & iq & 47 & 0.0000000 & 0.16998330 & 0.28930000 & 0.3009833 & 0.17091670 &  11.20 & 66.04286 &  55.91 & 36.5 & 21.5 &  19.0 & 1\\\\\n",
       "\t23 & iq & 48 & 0.0000000 & 0.25197140 & 0.25380000 & 0.3235143 & 0.31910000 &  14.50 & 78.88571 &  20.65 & 34.2 & 21.0 &  19.0 & 1\\\\\n",
       "\t24 & iq & 49 & 0.0000000 & 0.16583330 & 0.18241430 & 0.2545667 & 0.18625000 &   1.70 & 68.55714 &  24.53 & 34.0 & 22.0 &   0.8 & 1\\\\\n",
       "\t25 & iq & 50 & 0.6931472 & 0.33878570 & 0.31682860 & 0.3503429 & 0.29770000 &  48.76 & 80.40857 & 111.06 & 33.8 & 21.0 &  67.2 & 1\\\\\n",
       "\t26 & iq & 51 & 0.0000000 & 0.26501430 & 0.16905710 & 0.2348667 & 0.30224290 &   5.70 & 60.64143 &   3.90 & 35.0 & 21.0 &   0.0 & 1\\\\\n",
       "\t27 & iq & 1  & 0.0000000 & 0.25471430 & 0.22852860 & 0.2505857 & 0.28700000 &  64.60 & 94.95571 &  59.11 & 33.3 & 21.8 &  38.9 & 1\\\\\n",
       "\t28 & iq & 10 & 0.0000000 & 0.18204290 & 0.28900000 & 0.2068714 & 0.20632860 &  83.89 & 94.09286 & 118.07 & 33.3 & 20.0 &  87.1 & 1\\\\\n",
       "\t29 & iq & 11 & 0.0000000 & 0.20538330 & 0.17690000 & 0.2063571 & 0.20412860 & 195.20 & 94.09429 &  74.34 & 34.2 & 20.0 &  39.9 & 1\\\\\n",
       "\t30 & iq & 12 & 0.0000000 & 0.18834290 & 0.19503330 & 0.1635429 & 0.28414290 &  32.60 & 82.80143 &  90.35 & 34.1 & 20.0 &  70.8 & 1\\\\\n",
       "\t... & ... & ... & ... & ... & ... & ... & ... & ... & ... & ... & ... & ... & ... & ...\\\\\n",
       "\t1427 & sj & 45 & 3.8918203 & -0.25170 & -0.04860000 & 0.205171400 & 0.17288330 & 10.30 & 75.35000 & 15.25 & 32.2 & 22.8 &   4.1 & 1\\\\\n",
       "\t1428 & sj & 46 & 3.2958369 & -0.05890 & -0.06255000 & 0.205742900 & 0.20254290 & 21.40 & 77.48143 & 42.00 & 31.1 & 22.8 &  65.7 & 1\\\\\n",
       "\t1429 & sj & 47 & 3.5263605 & -0.05950 & -0.04166667 & 0.204485700 & 0.15628570 & 43.40 & 78.52571 & 73.37 & 31.1 & 22.8 &  40.4 & 1\\\\\n",
       "\t1430 & sj & 48 & 3.4011974 & -0.05950 & -0.04166667 & 0.090916670 & 0.12908570 &  9.78 & 70.72714 & 15.95 & 28.9 & 22.2 &  36.4 & 1\\\\\n",
       "\t1431 & sj & 49 & 2.8903718 & -0.13305 & -0.04235000 & 0.095600000 & 0.08900000 & 68.00 & 75.36857 & 17.85 & 29.4 & 22.8 &  34.5 & 1\\\\\n",
       "\t1432 & sj & 5  & 2.3025851 & -0.21560 &  0.04100000 & 0.104685700 & 0.13954290 &  0.00 & 72.76000 &  0.00 & 30.6 & 20.6 &   0.0 & 1\\\\\n",
       "\t1433 & sj & 50 & 2.5649494 & -0.13305 & -0.04555000 & 0.151440000 & 0.14317140 & 66.72 & 78.01571 & 31.30 & 28.9 & 22.2 &  30.2 & 1\\\\\n",
       "\t1434 & sj & 51 & 2.6390573 &  0.01480 & -0.03900000 & 0.173416700 & 0.15017140 & 50.53 & 80.17857 & 62.11 & 28.9 & 21.7 & 108.2 & 1\\\\\n",
       "\t1435 & sj & 52 & 2.8903718 &  0.01480 &  0.01630000 & 0.207266700 & 0.14457780 &  2.36 & 75.44857 &  0.00 & 28.3 & 21.1 &  16.8 & 1\\\\\n",
       "\t1436 & sj & 6  & 2.7080502 & -0.21560 &  0.06580000 & 0.204842900 & 0.23470000 &  0.60 & 74.80000 &  0.00 & 30.0 & 21.1 &   3.3 & 1\\\\\n",
       "\t1437 & sj & 7  & 2.7080502 & -0.07520 & -0.07194000 & 0.243942900 & 0.19231430 &  1.20 & 75.75429 &  0.00 & 32.2 & 21.1 &   0.3 & 1\\\\\n",
       "\t1438 & sj & 8  & 2.7725887 &  0.21210 &  0.10160000 & 0.190142900 & 0.15678570 &  6.73 & 73.93286 &  0.00 & 31.1 & 21.7 &   1.5 & 1\\\\\n",
       "\t1439 & sj & 9  & 2.9444390 &  0.05430 & -0.01975000 & 0.006183333 & 0.05438333 & 23.12 & 78.12571 &  0.00 & 31.7 & 21.1 &  22.9 & 1\\\\\n",
       "\t1440 & sj & 1  & 2.7725887 &  0.00060 & -0.30960000 & 0.239814300 & 0.19555710 & 27.99 & 76.14857 &  0.00 & 29.4 & 22.2 &  55.5 & 1\\\\\n",
       "\t1441 & sj & 10 & 0.6931472 & -0.08890 & -0.09003333 & 0.223242900 & 0.15418570 &  6.50 & 74.68143 &  0.00 & 29.4 & 21.1 &  13.0 & 1\\\\\n",
       "\t1442 & sj & 11 & 1.0986123 & -0.32140 & -0.14120000 & 0.110642900 & 0.14101430 &  9.38 & 71.93429 &  0.00 & 28.9 & 22.2 &   4.4 & 1\\\\\n",
       "\t1443 & sj & 12 & 1.3862944 &  0.04490 &  0.02445000 & 0.101628600 & 0.08800000 &  0.90 & 72.91571 &  0.00 & 30.0 & 20.6 &   0.5 & 1\\\\\n",
       "\t1444 & sj & 13 & 1.6094379 &  0.07785 & -0.03990000 & 0.310471400 & 0.29624290 &  7.55 & 74.24714 & 27.19 & 30.0 & 21.1 &   1.8 & 1\\\\\n",
       "\t1445 & sj & 14 & 1.3862944 & -0.03800 & -0.01683333 & 0.119371400 & 0.06638571 &  3.67 & 74.60000 &  3.82 & 30.6 & 22.2 &   0.5 & 1\\\\\n",
       "\t1446 & sj & 15 & 0.6931472 & -0.15520 & -0.05275000 & 0.137757100 & 0.14121430 & 35.00 & 75.02714 & 16.96 & 29.4 & 21.7 &  30.7 & 1\\\\\n",
       "\t1447 & sj & 16 & 1.3862944 &  0.00180 & -0.01036667 & 0.203900000 & 0.20984290 &  4.82 & 72.28571 &  0.00 & 29.4 & 21.7 &  11.2 & 1\\\\\n",
       "\t1448 & sj & 17 & 1.7917595 & -0.03700 & -0.01036667 & 0.077314290 & 0.09058571 &  2.17 & 76.96000 &  0.00 & 31.7 & 23.3 &   0.3 & 1\\\\\n",
       "\t1449 & sj & 2  & 2.7080502 & -0.02680 & -0.10825000 & 0.330485700 & 0.24428570 & 37.66 & 76.13143 & 37.24 & 28.3 & 21.1 &  64.8 & 1\\\\\n",
       "\t1450 & sj & 3  & 2.7725887 & -0.02680 &  0.03830000 & 0.125000000 & 0.10884290 &  4.10 & 75.64286 &  0.00 & 27.8 & 20.6 &   2.5 & 1\\\\\n",
       "\t1451 & sj & 4  & 2.3978953 & -0.02680 & -0.21530000 & 0.112614300 & 0.16021430 & 27.16 & 77.16714 & 81.22 & 27.8 & 21.1 &  83.1 & 1\\\\\n",
       "\t1452 & sj & 5  & 2.3025851 & -0.11170 & -0.13540000 & 0.223300000 & 0.17094290 &  2.70 & 73.56571 &  0.00 & 28.9 & 20.0 &   3.1 & 1\\\\\n",
       "\t1453 & sj & 6  & 1.0986123 & -0.11170 & -0.00320000 & 0.232842900 & 0.27117140 & 19.70 & 70.64286 &  0.00 & 27.2 & 21.1 &  35.9 & 1\\\\\n",
       "\t1454 & sj & 7  & 1.9459101 &  0.07200 & -0.06310000 & 0.150200000 & 0.14927140 & 10.17 & 74.22857 &  0.00 & 28.3 & 21.1 &   6.4 & 1\\\\\n",
       "\t1455 & sj & 8  & 2.1972246 & -0.13865 & -0.09506667 & 0.246057100 & 0.22812860 &  8.30 & 74.78571 &  0.00 & 28.3 & 21.7 &  13.3 & 1\\\\\n",
       "\t1456 & sj & 9  & 1.7917595 & -0.08890 &  0.01542000 & 0.211628600 & 0.11734290 &  6.46 & 72.66000 &  0.00 & 27.8 & 21.1 &  12.9 & 1\\\\\n",
       "\\end{tabular}\n"
      ],
      "text/markdown": [
       "\n",
       "A data.frame: 1454 × 14\n",
       "\n",
       "| <!--/--> | city &lt;fct&gt; | weekofyear &lt;fct&gt; | total_cases &lt;dbl&gt; | ndvi_ne &lt;dbl&gt; | ndvi_nw &lt;dbl&gt; | ndvi_se &lt;dbl&gt; | ndvi_sw &lt;dbl&gt; | precipitation_kgm2 &lt;dbl&gt; | relative_humidity &lt;dbl&gt; | sat_precipitation &lt;dbl&gt; | max_temperature &lt;dbl&gt; | min_temperature &lt;dbl&gt; | total_precipitation &lt;dbl&gt; | mosquito &lt;fct&gt; |\n",
       "|---|---|---|---|---|---|---|---|---|---|---|---|---|---|---|\n",
       "| 1 | iq | 26 | 0.0000000 | 0.19288570 | 0.13225710 | 0.3408857 | 0.24720000 |  43.19 | 92.41857 |  25.41 | 32.5 | 20.7 |   3.0 | 1 |\n",
       "| 2 | iq | 27 | 0.0000000 | 0.21683330 | 0.27610000 | 0.2894571 | 0.24165710 |  46.00 | 93.58143 |  60.61 | 34.0 | 20.8 |  55.6 | 1 |\n",
       "| 3 | iq | 28 | 0.0000000 | 0.17675710 | 0.17312860 | 0.2041143 | 0.12801430 |  64.77 | 95.84857 |  55.52 | 33.0 | 20.7 |  38.1 | 1 |\n",
       "| 4 | iq | 29 | 0.0000000 | 0.22772860 | 0.14542860 | 0.2542000 | 0.20031430 |  23.96 | 87.23429 |   5.60 | 31.5 | 14.7 |  30.0 | 2 |\n",
       "| 5 | iq | 30 | 0.0000000 | 0.32864290 | 0.32212860 | 0.2543714 | 0.36104290 |  31.80 | 88.16143 |  62.76 | 33.3 | 19.1 |   4.0 | 2 |\n",
       "| 6 | iq | 31 | 0.0000000 | 0.20552860 | 0.19075710 | 0.2316714 | 0.25531430 |   1.00 | 74.72857 |  16.24 | 32.0 | 17.0 |  11.5 | 2 |\n",
       "| 7 | iq | 32 | 0.0000000 | 0.31248570 | 0.32998570 | 0.3805857 | 0.38727140 |  26.68 | 83.27571 |  89.37 | 34.0 | 19.9 |  72.9 | 2 |\n",
       "| 8 | iq | 33 | 0.0000000 | 0.38413330 | 0.39224000 | 0.3417800 | 0.38275000 |  16.90 | 82.49000 |  42.08 | 33.0 | 20.5 |  50.1 | 1 |\n",
       "| 9 | iq | 34 | 0.0000000 | 0.40815710 | 0.32215710 | 0.4067143 | 0.30271430 |   5.59 | 74.74000 |  49.22 | 34.0 | 19.0 |  89.2 | 2 |\n",
       "| 10 | iq | 35 | 0.0000000 | 0.33204290 | 0.32105710 | 0.3146143 | 0.32425710 |  16.07 | 74.15143 |  53.65 | 34.0 | 20.0 |  78.0 | 1 |\n",
       "| 11 | iq | 36 | 0.6931472 | 0.29558570 | 0.29568330 | 0.3122143 | 0.26592860 |   2.50 | 57.78714 |  23.12 | 35.8 | 21.7 |  56.9 | 1 |\n",
       "| 12 | iq | 37 | 0.0000000 | 0.28465710 | 0.30975710 | 0.3878833 | 0.32815710 |   4.10 | 71.66000 |  34.62 | 34.5 | 20.5 |  18.9 | 1 |\n",
       "| 13 | iq | 38 | 0.0000000 | 0.34881430 | 0.29571670 | 0.4048429 | 0.24257140 |   3.20 | 77.48714 |  97.55 | 36.0 | 20.5 | 104.2 | 1 |\n",
       "| 14 | iq | 39 | 0.0000000 | 0.17568570 | 0.09948333 | 0.2257143 | 0.18278570 |   2.60 | 71.46286 |  95.89 | 34.0 | 20.5 |  57.9 | 1 |\n",
       "| 15 | iq | 40 | 0.0000000 | 0.33754000 | 0.27694290 | 0.2775000 | 0.25505000 |  16.60 | 82.37143 |  46.22 | 34.0 | 20.0 |  63.0 | 1 |\n",
       "| 16 | iq | 41 | 0.6931472 | 0.22353330 | 0.13391430 | 0.3498000 | 0.10091670 |  21.90 | 81.52286 |  31.10 | 34.0 | 21.0 |   3.0 | 1 |\n",
       "| 17 | iq | 42 | 0.6931472 | 0.27480000 | 0.18705710 | 0.3739429 | 0.27947140 |   9.90 | 75.54000 |  25.21 | 36.0 | 21.0 |  45.2 | 1 |\n",
       "| 18 | iq | 43 | 0.0000000 | 0.36730000 | 0.30555000 | 0.4553800 | 0.32580000 |  23.30 | 76.94143 |  49.25 | 34.6 | 20.0 |  57.9 | 1 |\n",
       "| 19 | iq | 44 | 0.0000000 | 0.29510000 | 0.21152000 | 0.3044000 | 0.27961670 |  20.20 | 79.42857 |  67.64 | 35.5 | 21.1 |   7.1 | 1 |\n",
       "| 20 | iq | 45 | 0.0000000 | 0.27136670 | 0.15156670 | 0.3472500 | 0.23186670 |  19.20 | 74.80286 |  51.83 | 35.2 | 21.5 |  13.5 | 1 |\n",
       "| 21 | iq | 46 | 0.0000000 | 0.09993333 | 0.03586000 | 0.1954857 | 0.06418333 |   3.60 | 67.18571 |  39.25 | 36.4 | 21.7 |   0.0 | 1 |\n",
       "| 22 | iq | 47 | 0.0000000 | 0.16998330 | 0.28930000 | 0.3009833 | 0.17091670 |  11.20 | 66.04286 |  55.91 | 36.5 | 21.5 |  19.0 | 1 |\n",
       "| 23 | iq | 48 | 0.0000000 | 0.25197140 | 0.25380000 | 0.3235143 | 0.31910000 |  14.50 | 78.88571 |  20.65 | 34.2 | 21.0 |  19.0 | 1 |\n",
       "| 24 | iq | 49 | 0.0000000 | 0.16583330 | 0.18241430 | 0.2545667 | 0.18625000 |   1.70 | 68.55714 |  24.53 | 34.0 | 22.0 |   0.8 | 1 |\n",
       "| 25 | iq | 50 | 0.6931472 | 0.33878570 | 0.31682860 | 0.3503429 | 0.29770000 |  48.76 | 80.40857 | 111.06 | 33.8 | 21.0 |  67.2 | 1 |\n",
       "| 26 | iq | 51 | 0.0000000 | 0.26501430 | 0.16905710 | 0.2348667 | 0.30224290 |   5.70 | 60.64143 |   3.90 | 35.0 | 21.0 |   0.0 | 1 |\n",
       "| 27 | iq | 1  | 0.0000000 | 0.25471430 | 0.22852860 | 0.2505857 | 0.28700000 |  64.60 | 94.95571 |  59.11 | 33.3 | 21.8 |  38.9 | 1 |\n",
       "| 28 | iq | 10 | 0.0000000 | 0.18204290 | 0.28900000 | 0.2068714 | 0.20632860 |  83.89 | 94.09286 | 118.07 | 33.3 | 20.0 |  87.1 | 1 |\n",
       "| 29 | iq | 11 | 0.0000000 | 0.20538330 | 0.17690000 | 0.2063571 | 0.20412860 | 195.20 | 94.09429 |  74.34 | 34.2 | 20.0 |  39.9 | 1 |\n",
       "| 30 | iq | 12 | 0.0000000 | 0.18834290 | 0.19503330 | 0.1635429 | 0.28414290 |  32.60 | 82.80143 |  90.35 | 34.1 | 20.0 |  70.8 | 1 |\n",
       "| ... | ... | ... | ... | ... | ... | ... | ... | ... | ... | ... | ... | ... | ... | ... |\n",
       "| 1427 | sj | 45 | 3.8918203 | -0.25170 | -0.04860000 | 0.205171400 | 0.17288330 | 10.30 | 75.35000 | 15.25 | 32.2 | 22.8 |   4.1 | 1 |\n",
       "| 1428 | sj | 46 | 3.2958369 | -0.05890 | -0.06255000 | 0.205742900 | 0.20254290 | 21.40 | 77.48143 | 42.00 | 31.1 | 22.8 |  65.7 | 1 |\n",
       "| 1429 | sj | 47 | 3.5263605 | -0.05950 | -0.04166667 | 0.204485700 | 0.15628570 | 43.40 | 78.52571 | 73.37 | 31.1 | 22.8 |  40.4 | 1 |\n",
       "| 1430 | sj | 48 | 3.4011974 | -0.05950 | -0.04166667 | 0.090916670 | 0.12908570 |  9.78 | 70.72714 | 15.95 | 28.9 | 22.2 |  36.4 | 1 |\n",
       "| 1431 | sj | 49 | 2.8903718 | -0.13305 | -0.04235000 | 0.095600000 | 0.08900000 | 68.00 | 75.36857 | 17.85 | 29.4 | 22.8 |  34.5 | 1 |\n",
       "| 1432 | sj | 5  | 2.3025851 | -0.21560 |  0.04100000 | 0.104685700 | 0.13954290 |  0.00 | 72.76000 |  0.00 | 30.6 | 20.6 |   0.0 | 1 |\n",
       "| 1433 | sj | 50 | 2.5649494 | -0.13305 | -0.04555000 | 0.151440000 | 0.14317140 | 66.72 | 78.01571 | 31.30 | 28.9 | 22.2 |  30.2 | 1 |\n",
       "| 1434 | sj | 51 | 2.6390573 |  0.01480 | -0.03900000 | 0.173416700 | 0.15017140 | 50.53 | 80.17857 | 62.11 | 28.9 | 21.7 | 108.2 | 1 |\n",
       "| 1435 | sj | 52 | 2.8903718 |  0.01480 |  0.01630000 | 0.207266700 | 0.14457780 |  2.36 | 75.44857 |  0.00 | 28.3 | 21.1 |  16.8 | 1 |\n",
       "| 1436 | sj | 6  | 2.7080502 | -0.21560 |  0.06580000 | 0.204842900 | 0.23470000 |  0.60 | 74.80000 |  0.00 | 30.0 | 21.1 |   3.3 | 1 |\n",
       "| 1437 | sj | 7  | 2.7080502 | -0.07520 | -0.07194000 | 0.243942900 | 0.19231430 |  1.20 | 75.75429 |  0.00 | 32.2 | 21.1 |   0.3 | 1 |\n",
       "| 1438 | sj | 8  | 2.7725887 |  0.21210 |  0.10160000 | 0.190142900 | 0.15678570 |  6.73 | 73.93286 |  0.00 | 31.1 | 21.7 |   1.5 | 1 |\n",
       "| 1439 | sj | 9  | 2.9444390 |  0.05430 | -0.01975000 | 0.006183333 | 0.05438333 | 23.12 | 78.12571 |  0.00 | 31.7 | 21.1 |  22.9 | 1 |\n",
       "| 1440 | sj | 1  | 2.7725887 |  0.00060 | -0.30960000 | 0.239814300 | 0.19555710 | 27.99 | 76.14857 |  0.00 | 29.4 | 22.2 |  55.5 | 1 |\n",
       "| 1441 | sj | 10 | 0.6931472 | -0.08890 | -0.09003333 | 0.223242900 | 0.15418570 |  6.50 | 74.68143 |  0.00 | 29.4 | 21.1 |  13.0 | 1 |\n",
       "| 1442 | sj | 11 | 1.0986123 | -0.32140 | -0.14120000 | 0.110642900 | 0.14101430 |  9.38 | 71.93429 |  0.00 | 28.9 | 22.2 |   4.4 | 1 |\n",
       "| 1443 | sj | 12 | 1.3862944 |  0.04490 |  0.02445000 | 0.101628600 | 0.08800000 |  0.90 | 72.91571 |  0.00 | 30.0 | 20.6 |   0.5 | 1 |\n",
       "| 1444 | sj | 13 | 1.6094379 |  0.07785 | -0.03990000 | 0.310471400 | 0.29624290 |  7.55 | 74.24714 | 27.19 | 30.0 | 21.1 |   1.8 | 1 |\n",
       "| 1445 | sj | 14 | 1.3862944 | -0.03800 | -0.01683333 | 0.119371400 | 0.06638571 |  3.67 | 74.60000 |  3.82 | 30.6 | 22.2 |   0.5 | 1 |\n",
       "| 1446 | sj | 15 | 0.6931472 | -0.15520 | -0.05275000 | 0.137757100 | 0.14121430 | 35.00 | 75.02714 | 16.96 | 29.4 | 21.7 |  30.7 | 1 |\n",
       "| 1447 | sj | 16 | 1.3862944 |  0.00180 | -0.01036667 | 0.203900000 | 0.20984290 |  4.82 | 72.28571 |  0.00 | 29.4 | 21.7 |  11.2 | 1 |\n",
       "| 1448 | sj | 17 | 1.7917595 | -0.03700 | -0.01036667 | 0.077314290 | 0.09058571 |  2.17 | 76.96000 |  0.00 | 31.7 | 23.3 |   0.3 | 1 |\n",
       "| 1449 | sj | 2  | 2.7080502 | -0.02680 | -0.10825000 | 0.330485700 | 0.24428570 | 37.66 | 76.13143 | 37.24 | 28.3 | 21.1 |  64.8 | 1 |\n",
       "| 1450 | sj | 3  | 2.7725887 | -0.02680 |  0.03830000 | 0.125000000 | 0.10884290 |  4.10 | 75.64286 |  0.00 | 27.8 | 20.6 |   2.5 | 1 |\n",
       "| 1451 | sj | 4  | 2.3978953 | -0.02680 | -0.21530000 | 0.112614300 | 0.16021430 | 27.16 | 77.16714 | 81.22 | 27.8 | 21.1 |  83.1 | 1 |\n",
       "| 1452 | sj | 5  | 2.3025851 | -0.11170 | -0.13540000 | 0.223300000 | 0.17094290 |  2.70 | 73.56571 |  0.00 | 28.9 | 20.0 |   3.1 | 1 |\n",
       "| 1453 | sj | 6  | 1.0986123 | -0.11170 | -0.00320000 | 0.232842900 | 0.27117140 | 19.70 | 70.64286 |  0.00 | 27.2 | 21.1 |  35.9 | 1 |\n",
       "| 1454 | sj | 7  | 1.9459101 |  0.07200 | -0.06310000 | 0.150200000 | 0.14927140 | 10.17 | 74.22857 |  0.00 | 28.3 | 21.1 |   6.4 | 1 |\n",
       "| 1455 | sj | 8  | 2.1972246 | -0.13865 | -0.09506667 | 0.246057100 | 0.22812860 |  8.30 | 74.78571 |  0.00 | 28.3 | 21.7 |  13.3 | 1 |\n",
       "| 1456 | sj | 9  | 1.7917595 | -0.08890 |  0.01542000 | 0.211628600 | 0.11734290 |  6.46 | 72.66000 |  0.00 | 27.8 | 21.1 |  12.9 | 1 |\n",
       "\n"
      ],
      "text/plain": [
       "     city weekofyear total_cases ndvi_ne    ndvi_nw     ndvi_se     ndvi_sw   \n",
       "1    iq   26         0.0000000   0.19288570 0.13225710  0.3408857   0.24720000\n",
       "2    iq   27         0.0000000   0.21683330 0.27610000  0.2894571   0.24165710\n",
       "3    iq   28         0.0000000   0.17675710 0.17312860  0.2041143   0.12801430\n",
       "4    iq   29         0.0000000   0.22772860 0.14542860  0.2542000   0.20031430\n",
       "5    iq   30         0.0000000   0.32864290 0.32212860  0.2543714   0.36104290\n",
       "6    iq   31         0.0000000   0.20552860 0.19075710  0.2316714   0.25531430\n",
       "7    iq   32         0.0000000   0.31248570 0.32998570  0.3805857   0.38727140\n",
       "8    iq   33         0.0000000   0.38413330 0.39224000  0.3417800   0.38275000\n",
       "9    iq   34         0.0000000   0.40815710 0.32215710  0.4067143   0.30271430\n",
       "10   iq   35         0.0000000   0.33204290 0.32105710  0.3146143   0.32425710\n",
       "11   iq   36         0.6931472   0.29558570 0.29568330  0.3122143   0.26592860\n",
       "12   iq   37         0.0000000   0.28465710 0.30975710  0.3878833   0.32815710\n",
       "13   iq   38         0.0000000   0.34881430 0.29571670  0.4048429   0.24257140\n",
       "14   iq   39         0.0000000   0.17568570 0.09948333  0.2257143   0.18278570\n",
       "15   iq   40         0.0000000   0.33754000 0.27694290  0.2775000   0.25505000\n",
       "16   iq   41         0.6931472   0.22353330 0.13391430  0.3498000   0.10091670\n",
       "17   iq   42         0.6931472   0.27480000 0.18705710  0.3739429   0.27947140\n",
       "18   iq   43         0.0000000   0.36730000 0.30555000  0.4553800   0.32580000\n",
       "19   iq   44         0.0000000   0.29510000 0.21152000  0.3044000   0.27961670\n",
       "20   iq   45         0.0000000   0.27136670 0.15156670  0.3472500   0.23186670\n",
       "21   iq   46         0.0000000   0.09993333 0.03586000  0.1954857   0.06418333\n",
       "22   iq   47         0.0000000   0.16998330 0.28930000  0.3009833   0.17091670\n",
       "23   iq   48         0.0000000   0.25197140 0.25380000  0.3235143   0.31910000\n",
       "24   iq   49         0.0000000   0.16583330 0.18241430  0.2545667   0.18625000\n",
       "25   iq   50         0.6931472   0.33878570 0.31682860  0.3503429   0.29770000\n",
       "26   iq   51         0.0000000   0.26501430 0.16905710  0.2348667   0.30224290\n",
       "27   iq   1          0.0000000   0.25471430 0.22852860  0.2505857   0.28700000\n",
       "28   iq   10         0.0000000   0.18204290 0.28900000  0.2068714   0.20632860\n",
       "29   iq   11         0.0000000   0.20538330 0.17690000  0.2063571   0.20412860\n",
       "30   iq   12         0.0000000   0.18834290 0.19503330  0.1635429   0.28414290\n",
       "...  ...  ...        ...         ...        ...         ...         ...       \n",
       "1427 sj   45         3.8918203   -0.25170   -0.04860000 0.205171400 0.17288330\n",
       "1428 sj   46         3.2958369   -0.05890   -0.06255000 0.205742900 0.20254290\n",
       "1429 sj   47         3.5263605   -0.05950   -0.04166667 0.204485700 0.15628570\n",
       "1430 sj   48         3.4011974   -0.05950   -0.04166667 0.090916670 0.12908570\n",
       "1431 sj   49         2.8903718   -0.13305   -0.04235000 0.095600000 0.08900000\n",
       "1432 sj   5          2.3025851   -0.21560    0.04100000 0.104685700 0.13954290\n",
       "1433 sj   50         2.5649494   -0.13305   -0.04555000 0.151440000 0.14317140\n",
       "1434 sj   51         2.6390573    0.01480   -0.03900000 0.173416700 0.15017140\n",
       "1435 sj   52         2.8903718    0.01480    0.01630000 0.207266700 0.14457780\n",
       "1436 sj   6          2.7080502   -0.21560    0.06580000 0.204842900 0.23470000\n",
       "1437 sj   7          2.7080502   -0.07520   -0.07194000 0.243942900 0.19231430\n",
       "1438 sj   8          2.7725887    0.21210    0.10160000 0.190142900 0.15678570\n",
       "1439 sj   9          2.9444390    0.05430   -0.01975000 0.006183333 0.05438333\n",
       "1440 sj   1          2.7725887    0.00060   -0.30960000 0.239814300 0.19555710\n",
       "1441 sj   10         0.6931472   -0.08890   -0.09003333 0.223242900 0.15418570\n",
       "1442 sj   11         1.0986123   -0.32140   -0.14120000 0.110642900 0.14101430\n",
       "1443 sj   12         1.3862944    0.04490    0.02445000 0.101628600 0.08800000\n",
       "1444 sj   13         1.6094379    0.07785   -0.03990000 0.310471400 0.29624290\n",
       "1445 sj   14         1.3862944   -0.03800   -0.01683333 0.119371400 0.06638571\n",
       "1446 sj   15         0.6931472   -0.15520   -0.05275000 0.137757100 0.14121430\n",
       "1447 sj   16         1.3862944    0.00180   -0.01036667 0.203900000 0.20984290\n",
       "1448 sj   17         1.7917595   -0.03700   -0.01036667 0.077314290 0.09058571\n",
       "1449 sj   2          2.7080502   -0.02680   -0.10825000 0.330485700 0.24428570\n",
       "1450 sj   3          2.7725887   -0.02680    0.03830000 0.125000000 0.10884290\n",
       "1451 sj   4          2.3978953   -0.02680   -0.21530000 0.112614300 0.16021430\n",
       "1452 sj   5          2.3025851   -0.11170   -0.13540000 0.223300000 0.17094290\n",
       "1453 sj   6          1.0986123   -0.11170   -0.00320000 0.232842900 0.27117140\n",
       "1454 sj   7          1.9459101    0.07200   -0.06310000 0.150200000 0.14927140\n",
       "1455 sj   8          2.1972246   -0.13865   -0.09506667 0.246057100 0.22812860\n",
       "1456 sj   9          1.7917595   -0.08890    0.01542000 0.211628600 0.11734290\n",
       "     precipitation_kgm2 relative_humidity sat_precipitation max_temperature\n",
       "1     43.19             92.41857           25.41            32.5           \n",
       "2     46.00             93.58143           60.61            34.0           \n",
       "3     64.77             95.84857           55.52            33.0           \n",
       "4     23.96             87.23429            5.60            31.5           \n",
       "5     31.80             88.16143           62.76            33.3           \n",
       "6      1.00             74.72857           16.24            32.0           \n",
       "7     26.68             83.27571           89.37            34.0           \n",
       "8     16.90             82.49000           42.08            33.0           \n",
       "9      5.59             74.74000           49.22            34.0           \n",
       "10    16.07             74.15143           53.65            34.0           \n",
       "11     2.50             57.78714           23.12            35.8           \n",
       "12     4.10             71.66000           34.62            34.5           \n",
       "13     3.20             77.48714           97.55            36.0           \n",
       "14     2.60             71.46286           95.89            34.0           \n",
       "15    16.60             82.37143           46.22            34.0           \n",
       "16    21.90             81.52286           31.10            34.0           \n",
       "17     9.90             75.54000           25.21            36.0           \n",
       "18    23.30             76.94143           49.25            34.6           \n",
       "19    20.20             79.42857           67.64            35.5           \n",
       "20    19.20             74.80286           51.83            35.2           \n",
       "21     3.60             67.18571           39.25            36.4           \n",
       "22    11.20             66.04286           55.91            36.5           \n",
       "23    14.50             78.88571           20.65            34.2           \n",
       "24     1.70             68.55714           24.53            34.0           \n",
       "25    48.76             80.40857          111.06            33.8           \n",
       "26     5.70             60.64143            3.90            35.0           \n",
       "27    64.60             94.95571           59.11            33.3           \n",
       "28    83.89             94.09286          118.07            33.3           \n",
       "29   195.20             94.09429           74.34            34.2           \n",
       "30    32.60             82.80143           90.35            34.1           \n",
       "...  ...                ...               ...               ...            \n",
       "1427 10.30              75.35000          15.25             32.2           \n",
       "1428 21.40              77.48143          42.00             31.1           \n",
       "1429 43.40              78.52571          73.37             31.1           \n",
       "1430  9.78              70.72714          15.95             28.9           \n",
       "1431 68.00              75.36857          17.85             29.4           \n",
       "1432  0.00              72.76000           0.00             30.6           \n",
       "1433 66.72              78.01571          31.30             28.9           \n",
       "1434 50.53              80.17857          62.11             28.9           \n",
       "1435  2.36              75.44857           0.00             28.3           \n",
       "1436  0.60              74.80000           0.00             30.0           \n",
       "1437  1.20              75.75429           0.00             32.2           \n",
       "1438  6.73              73.93286           0.00             31.1           \n",
       "1439 23.12              78.12571           0.00             31.7           \n",
       "1440 27.99              76.14857           0.00             29.4           \n",
       "1441  6.50              74.68143           0.00             29.4           \n",
       "1442  9.38              71.93429           0.00             28.9           \n",
       "1443  0.90              72.91571           0.00             30.0           \n",
       "1444  7.55              74.24714          27.19             30.0           \n",
       "1445  3.67              74.60000           3.82             30.6           \n",
       "1446 35.00              75.02714          16.96             29.4           \n",
       "1447  4.82              72.28571           0.00             29.4           \n",
       "1448  2.17              76.96000           0.00             31.7           \n",
       "1449 37.66              76.13143          37.24             28.3           \n",
       "1450  4.10              75.64286           0.00             27.8           \n",
       "1451 27.16              77.16714          81.22             27.8           \n",
       "1452  2.70              73.56571           0.00             28.9           \n",
       "1453 19.70              70.64286           0.00             27.2           \n",
       "1454 10.17              74.22857           0.00             28.3           \n",
       "1455  8.30              74.78571           0.00             28.3           \n",
       "1456  6.46              72.66000           0.00             27.8           \n",
       "     min_temperature total_precipitation mosquito\n",
       "1    20.7              3.0               1       \n",
       "2    20.8             55.6               1       \n",
       "3    20.7             38.1               1       \n",
       "4    14.7             30.0               2       \n",
       "5    19.1              4.0               2       \n",
       "6    17.0             11.5               2       \n",
       "7    19.9             72.9               2       \n",
       "8    20.5             50.1               1       \n",
       "9    19.0             89.2               2       \n",
       "10   20.0             78.0               1       \n",
       "11   21.7             56.9               1       \n",
       "12   20.5             18.9               1       \n",
       "13   20.5            104.2               1       \n",
       "14   20.5             57.9               1       \n",
       "15   20.0             63.0               1       \n",
       "16   21.0              3.0               1       \n",
       "17   21.0             45.2               1       \n",
       "18   20.0             57.9               1       \n",
       "19   21.1              7.1               1       \n",
       "20   21.5             13.5               1       \n",
       "21   21.7              0.0               1       \n",
       "22   21.5             19.0               1       \n",
       "23   21.0             19.0               1       \n",
       "24   22.0              0.8               1       \n",
       "25   21.0             67.2               1       \n",
       "26   21.0              0.0               1       \n",
       "27   21.8             38.9               1       \n",
       "28   20.0             87.1               1       \n",
       "29   20.0             39.9               1       \n",
       "30   20.0             70.8               1       \n",
       "...  ...             ...                 ...     \n",
       "1427 22.8              4.1               1       \n",
       "1428 22.8             65.7               1       \n",
       "1429 22.8             40.4               1       \n",
       "1430 22.2             36.4               1       \n",
       "1431 22.8             34.5               1       \n",
       "1432 20.6              0.0               1       \n",
       "1433 22.2             30.2               1       \n",
       "1434 21.7            108.2               1       \n",
       "1435 21.1             16.8               1       \n",
       "1436 21.1              3.3               1       \n",
       "1437 21.1              0.3               1       \n",
       "1438 21.7              1.5               1       \n",
       "1439 21.1             22.9               1       \n",
       "1440 22.2             55.5               1       \n",
       "1441 21.1             13.0               1       \n",
       "1442 22.2              4.4               1       \n",
       "1443 20.6              0.5               1       \n",
       "1444 21.1              1.8               1       \n",
       "1445 22.2              0.5               1       \n",
       "1446 21.7             30.7               1       \n",
       "1447 21.7             11.2               1       \n",
       "1448 23.3              0.3               1       \n",
       "1449 21.1             64.8               1       \n",
       "1450 20.6              2.5               1       \n",
       "1451 21.1             83.1               1       \n",
       "1452 20.0              3.1               1       \n",
       "1453 21.1             35.9               1       \n",
       "1454 21.1              6.4               1       \n",
       "1455 21.7             13.3               1       \n",
       "1456 21.1             12.9               1       "
      ]
     },
     "metadata": {},
     "output_type": "display_data"
    }
   ],
   "source": [
    "total"
   ]
  },
  {
   "cell_type": "code",
   "execution_count": 14,
   "metadata": {},
   "outputs": [],
   "source": [
    "corr <- cor(total[,c(-1,-2,-5)])"
   ]
  },
  {
   "cell_type": "code",
   "execution_count": 15,
   "metadata": {
    "scrolled": true
   },
   "outputs": [
    {
     "data": {
      "image/png": "[encoded data removed]",
      "text/plain": [
       "Plot with title \"\""
      ]
     },
     "metadata": {
      "image/png": {
       "height": 420,
       "width": 420
      },
      "text/plain": {
       "height": 420,
       "width": 420
      }
     },
     "output_type": "display_data"
    }
   ],
   "source": [
    "corrplot(corr)"
   ]
  },
  {
   "cell_type": "code",
   "execution_count": 80,
   "metadata": {},
   "outputs": [
    {
     "data": {
      "text/html": [
       "<strong>total_cases:</strong> 2"
      ],
      "text/latex": [
       "\\textbf{total\\textbackslash{}\\_cases:} 2"
      ],
      "text/markdown": [
       "**total_cases:** 2"
      ],
      "text/plain": [
       "total_cases \n",
       "          2 "
      ]
     },
     "metadata": {},
     "output_type": "display_data"
    }
   ],
   "source": [
    "which(corr[1:21,2]>0.5 | corr[1:21,2]< -0.5) #no high correlationship with response"
   ]
  },
  {
   "cell_type": "code",
   "execution_count": 84,
   "metadata": {},
   "outputs": [
    {
     "data": {
      "text/plain": [
       "Importance of components:\n",
       "                          PC1    PC2    PC3     PC4     PC5     PC6     PC7\n",
       "Standard deviation     2.0583 1.4353 1.0683 0.90626 0.82377 0.75587 0.68953\n",
       "Proportion of Variance 0.3851 0.1873 0.1037 0.07466 0.06169 0.05194 0.04322\n",
       "Cumulative Proportion  0.3851 0.5724 0.6762 0.75083 0.81253 0.86446 0.90769\n",
       "                           PC8    PC9   PC10    PC11\n",
       "Standard deviation     0.59634 0.5500 0.4437 0.40058\n",
       "Proportion of Variance 0.03233 0.0275 0.0179 0.01459\n",
       "Cumulative Proportion  0.94002 0.9675 0.9854 1.00000"
      ]
     },
     "metadata": {},
     "output_type": "display_data"
    }
   ],
   "source": [
    "wdbc.pr <- prcomp(total[c(3:13)], center = TRUE, scale = TRUE)\n",
    "summary(wdbc.pr)"
   ]
  },
  {
   "cell_type": "code",
   "execution_count": 87,
   "metadata": {},
   "outputs": [
    {
     "data": {
      "text/html": [
       "<table>\n",
       "<caption>A matrix: 11 × 11 of type dbl</caption>\n",
       "<thead>\n",
       "\t<tr><th></th><th scope=col>PC1</th><th scope=col>PC2</th><th scope=col>PC3</th><th scope=col>PC4</th><th scope=col>PC5</th><th scope=col>PC6</th><th scope=col>PC7</th><th scope=col>PC8</th><th scope=col>PC9</th><th scope=col>PC10</th><th scope=col>PC11</th></tr>\n",
       "</thead>\n",
       "<tbody>\n",
       "\t<tr><th scope=row>total_cases</th><td> 0.2331218</td><td>-0.17051457</td><td>-0.42918305</td><td>-0.61941040</td><td> 0.25486111</td><td>-0.40972413</td><td>-0.199299445</td><td> 0.22336652</td><td>-0.16121527</td><td> 0.01424337</td><td> 0.008805756</td></tr>\n",
       "\t<tr><th scope=row>ndvi_ne</th><td>-0.4081817</td><td> 0.14814211</td><td>-0.10432057</td><td> 0.01893325</td><td> 0.14975412</td><td>-0.36051400</td><td>-0.008385723</td><td>-0.33157712</td><td> 0.20459572</td><td> 0.64992606</td><td>-0.271158157</td></tr>\n",
       "\t<tr><th scope=row>ndvi_nw</th><td>-0.4042551</td><td> 0.15798061</td><td>-0.09656047</td><td> 0.05541645</td><td> 0.18528355</td><td>-0.38942304</td><td>-0.024252672</td><td>-0.28456228</td><td> 0.17252448</td><td>-0.63171840</td><td> 0.320699285</td></tr>\n",
       "\t<tr><th scope=row>ndvi_se</th><td>-0.3353691</td><td> 0.29719747</td><td>-0.16475428</td><td>-0.39620493</td><td>-0.16594812</td><td> 0.39771866</td><td> 0.043942072</td><td> 0.04620417</td><td>-0.04669329</td><td> 0.25422003</td><td> 0.598737170</td></tr>\n",
       "\t<tr><th scope=row>ndvi_sw</th><td>-0.3767763</td><td> 0.26731366</td><td>-0.14472727</td><td>-0.29489349</td><td>-0.07568128</td><td> 0.29801814</td><td> 0.001229474</td><td> 0.12026479</td><td>-0.08669119</td><td>-0.32307391</td><td>-0.676590846</td></tr>\n",
       "\t<tr><th scope=row>precipitation_kgm2</th><td>-0.2153210</td><td>-0.45425944</td><td> 0.11393577</td><td>-0.11221511</td><td> 0.52605067</td><td> 0.30980574</td><td> 0.112982566</td><td> 0.23592380</td><td> 0.52945485</td><td> 0.00225406</td><td> 0.015815266</td></tr>\n",
       "\t<tr><th scope=row>relative_humidity</th><td>-0.3336841</td><td>-0.33867974</td><td> 0.08540864</td><td> 0.08936302</td><td> 0.30320087</td><td> 0.03288641</td><td> 0.269935783</td><td>-0.09695234</td><td>-0.76192736</td><td> 0.03706982</td><td> 0.038544943</td></tr>\n",
       "\t<tr><th scope=row>sat_precipitation</th><td>-0.2192640</td><td>-0.45604338</td><td> 0.08347926</td><td>-0.05938775</td><td>-0.27477429</td><td> 0.13252981</td><td>-0.753996633</td><td>-0.26520275</td><td>-0.03646754</td><td>-0.01446156</td><td> 0.002130891</td></tr>\n",
       "\t<tr><th scope=row>max_temperature</th><td>-0.2912695</td><td>-0.08573326</td><td>-0.46473055</td><td> 0.51123868</td><td>-0.15474660</td><td>-0.10841110</td><td>-0.132352302</td><td> 0.60874867</td><td>-0.01139753</td><td> 0.05845223</td><td> 0.055984961</td></tr>\n",
       "\t<tr><th scope=row>min_temperature</th><td> 0.1465211</td><td>-0.32828328</td><td>-0.65852754</td><td> 0.06691982</td><td>-0.18975862</td><td> 0.22349402</td><td> 0.341869156</td><td>-0.45667852</td><td> 0.12380411</td><td>-0.06046233</td><td>-0.047476439</td></tr>\n",
       "\t<tr><th scope=row>total_precipitation</th><td>-0.2215755</td><td>-0.34653516</td><td> 0.26575829</td><td>-0.28109190</td><td>-0.58387264</td><td>-0.35662689</td><td> 0.411285594</td><td> 0.16753318</td><td> 0.12266593</td><td>-0.02568634</td><td>-0.012554092</td></tr>\n",
       "</tbody>\n",
       "</table>\n"
      ],
      "text/latex": [
       "A matrix: 11 × 11 of type dbl\n",
       "\\begin{tabular}{r|lllllllllll}\n",
       "  & PC1 & PC2 & PC3 & PC4 & PC5 & PC6 & PC7 & PC8 & PC9 & PC10 & PC11\\\\\n",
       "\\hline\n",
       "\ttotal\\_cases &  0.2331218 & -0.17051457 & -0.42918305 & -0.61941040 &  0.25486111 & -0.40972413 & -0.199299445 &  0.22336652 & -0.16121527 &  0.01424337 &  0.008805756\\\\\n",
       "\tndvi\\_ne & -0.4081817 &  0.14814211 & -0.10432057 &  0.01893325 &  0.14975412 & -0.36051400 & -0.008385723 & -0.33157712 &  0.20459572 &  0.64992606 & -0.271158157\\\\\n",
       "\tndvi\\_nw & -0.4042551 &  0.15798061 & -0.09656047 &  0.05541645 &  0.18528355 & -0.38942304 & -0.024252672 & -0.28456228 &  0.17252448 & -0.63171840 &  0.320699285\\\\\n",
       "\tndvi\\_se & -0.3353691 &  0.29719747 & -0.16475428 & -0.39620493 & -0.16594812 &  0.39771866 &  0.043942072 &  0.04620417 & -0.04669329 &  0.25422003 &  0.598737170\\\\\n",
       "\tndvi\\_sw & -0.3767763 &  0.26731366 & -0.14472727 & -0.29489349 & -0.07568128 &  0.29801814 &  0.001229474 &  0.12026479 & -0.08669119 & -0.32307391 & -0.676590846\\\\\n",
       "\tprecipitation\\_kgm2 & -0.2153210 & -0.45425944 &  0.11393577 & -0.11221511 &  0.52605067 &  0.30980574 &  0.112982566 &  0.23592380 &  0.52945485 &  0.00225406 &  0.015815266\\\\\n",
       "\trelative\\_humidity & -0.3336841 & -0.33867974 &  0.08540864 &  0.08936302 &  0.30320087 &  0.03288641 &  0.269935783 & -0.09695234 & -0.76192736 &  0.03706982 &  0.038544943\\\\\n",
       "\tsat\\_precipitation & -0.2192640 & -0.45604338 &  0.08347926 & -0.05938775 & -0.27477429 &  0.13252981 & -0.753996633 & -0.26520275 & -0.03646754 & -0.01446156 &  0.002130891\\\\\n",
       "\tmax\\_temperature & -0.2912695 & -0.08573326 & -0.46473055 &  0.51123868 & -0.15474660 & -0.10841110 & -0.132352302 &  0.60874867 & -0.01139753 &  0.05845223 &  0.055984961\\\\\n",
       "\tmin\\_temperature &  0.1465211 & -0.32828328 & -0.65852754 &  0.06691982 & -0.18975862 &  0.22349402 &  0.341869156 & -0.45667852 &  0.12380411 & -0.06046233 & -0.047476439\\\\\n",
       "\ttotal\\_precipitation & -0.2215755 & -0.34653516 &  0.26575829 & -0.28109190 & -0.58387264 & -0.35662689 &  0.411285594 &  0.16753318 &  0.12266593 & -0.02568634 & -0.012554092\\\\\n",
       "\\end{tabular}\n"
      ],
      "text/markdown": [
       "\n",
       "A matrix: 11 × 11 of type dbl\n",
       "\n",
       "| <!--/--> | PC1 | PC2 | PC3 | PC4 | PC5 | PC6 | PC7 | PC8 | PC9 | PC10 | PC11 |\n",
       "|---|---|---|---|---|---|---|---|---|---|---|---|\n",
       "| total_cases |  0.2331218 | -0.17051457 | -0.42918305 | -0.61941040 |  0.25486111 | -0.40972413 | -0.199299445 |  0.22336652 | -0.16121527 |  0.01424337 |  0.008805756 |\n",
       "| ndvi_ne | -0.4081817 |  0.14814211 | -0.10432057 |  0.01893325 |  0.14975412 | -0.36051400 | -0.008385723 | -0.33157712 |  0.20459572 |  0.64992606 | -0.271158157 |\n",
       "| ndvi_nw | -0.4042551 |  0.15798061 | -0.09656047 |  0.05541645 |  0.18528355 | -0.38942304 | -0.024252672 | -0.28456228 |  0.17252448 | -0.63171840 |  0.320699285 |\n",
       "| ndvi_se | -0.3353691 |  0.29719747 | -0.16475428 | -0.39620493 | -0.16594812 |  0.39771866 |  0.043942072 |  0.04620417 | -0.04669329 |  0.25422003 |  0.598737170 |\n",
       "| ndvi_sw | -0.3767763 |  0.26731366 | -0.14472727 | -0.29489349 | -0.07568128 |  0.29801814 |  0.001229474 |  0.12026479 | -0.08669119 | -0.32307391 | -0.676590846 |\n",
       "| precipitation_kgm2 | -0.2153210 | -0.45425944 |  0.11393577 | -0.11221511 |  0.52605067 |  0.30980574 |  0.112982566 |  0.23592380 |  0.52945485 |  0.00225406 |  0.015815266 |\n",
       "| relative_humidity | -0.3336841 | -0.33867974 |  0.08540864 |  0.08936302 |  0.30320087 |  0.03288641 |  0.269935783 | -0.09695234 | -0.76192736 |  0.03706982 |  0.038544943 |\n",
       "| sat_precipitation | -0.2192640 | -0.45604338 |  0.08347926 | -0.05938775 | -0.27477429 |  0.13252981 | -0.753996633 | -0.26520275 | -0.03646754 | -0.01446156 |  0.002130891 |\n",
       "| max_temperature | -0.2912695 | -0.08573326 | -0.46473055 |  0.51123868 | -0.15474660 | -0.10841110 | -0.132352302 |  0.60874867 | -0.01139753 |  0.05845223 |  0.055984961 |\n",
       "| min_temperature |  0.1465211 | -0.32828328 | -0.65852754 |  0.06691982 | -0.18975862 |  0.22349402 |  0.341869156 | -0.45667852 |  0.12380411 | -0.06046233 | -0.047476439 |\n",
       "| total_precipitation | -0.2215755 | -0.34653516 |  0.26575829 | -0.28109190 | -0.58387264 | -0.35662689 |  0.411285594 |  0.16753318 |  0.12266593 | -0.02568634 | -0.012554092 |\n",
       "\n"
      ],
      "text/plain": [
       "                    PC1        PC2         PC3         PC4         PC5        \n",
       "total_cases          0.2331218 -0.17051457 -0.42918305 -0.61941040  0.25486111\n",
       "ndvi_ne             -0.4081817  0.14814211 -0.10432057  0.01893325  0.14975412\n",
       "ndvi_nw             -0.4042551  0.15798061 -0.09656047  0.05541645  0.18528355\n",
       "ndvi_se             -0.3353691  0.29719747 -0.16475428 -0.39620493 -0.16594812\n",
       "ndvi_sw             -0.3767763  0.26731366 -0.14472727 -0.29489349 -0.07568128\n",
       "precipitation_kgm2  -0.2153210 -0.45425944  0.11393577 -0.11221511  0.52605067\n",
       "relative_humidity   -0.3336841 -0.33867974  0.08540864  0.08936302  0.30320087\n",
       "sat_precipitation   -0.2192640 -0.45604338  0.08347926 -0.05938775 -0.27477429\n",
       "max_temperature     -0.2912695 -0.08573326 -0.46473055  0.51123868 -0.15474660\n",
       "min_temperature      0.1465211 -0.32828328 -0.65852754  0.06691982 -0.18975862\n",
       "total_precipitation -0.2215755 -0.34653516  0.26575829 -0.28109190 -0.58387264\n",
       "                    PC6         PC7          PC8         PC9        \n",
       "total_cases         -0.40972413 -0.199299445  0.22336652 -0.16121527\n",
       "ndvi_ne             -0.36051400 -0.008385723 -0.33157712  0.20459572\n",
       "ndvi_nw             -0.38942304 -0.024252672 -0.28456228  0.17252448\n",
       "ndvi_se              0.39771866  0.043942072  0.04620417 -0.04669329\n",
       "ndvi_sw              0.29801814  0.001229474  0.12026479 -0.08669119\n",
       "precipitation_kgm2   0.30980574  0.112982566  0.23592380  0.52945485\n",
       "relative_humidity    0.03288641  0.269935783 -0.09695234 -0.76192736\n",
       "sat_precipitation    0.13252981 -0.753996633 -0.26520275 -0.03646754\n",
       "max_temperature     -0.10841110 -0.132352302  0.60874867 -0.01139753\n",
       "min_temperature      0.22349402  0.341869156 -0.45667852  0.12380411\n",
       "total_precipitation -0.35662689  0.411285594  0.16753318  0.12266593\n",
       "                    PC10        PC11        \n",
       "total_cases          0.01424337  0.008805756\n",
       "ndvi_ne              0.64992606 -0.271158157\n",
       "ndvi_nw             -0.63171840  0.320699285\n",
       "ndvi_se              0.25422003  0.598737170\n",
       "ndvi_sw             -0.32307391 -0.676590846\n",
       "precipitation_kgm2   0.00225406  0.015815266\n",
       "relative_humidity    0.03706982  0.038544943\n",
       "sat_precipitation   -0.01446156  0.002130891\n",
       "max_temperature      0.05845223  0.055984961\n",
       "min_temperature     -0.06046233 -0.047476439\n",
       "total_precipitation -0.02568634 -0.012554092"
      ]
     },
     "metadata": {},
     "output_type": "display_data"
    }
   ],
   "source": [
    "wdbc.pr$rotation"
   ]
  },
  {
   "cell_type": "code",
   "execution_count": 86,
   "metadata": {},
   "outputs": [
    {
     "data": {
      "image/png": "[encoded data removed]",
      "text/plain": [
       "plot without title"
      ]
     },
     "metadata": {
      "image/png": {
       "height": 420,
       "width": 420
      },
      "text/plain": {
       "height": 420,
       "width": 420
      }
     },
     "output_type": "display_data"
    }
   ],
   "source": [
    "biplot(wdbc.pr, scale = 0)"
   ]
  },
  {
   "cell_type": "markdown",
   "metadata": {},
   "source": [
    "choose the best variables"
   ]
  },
  {
   "cell_type": "code",
   "execution_count": 17,
   "metadata": {},
   "outputs": [],
   "source": [
    "total <- total[,-c(10,11,12,13,14,15,19,20,21,22)]\n",
    "test <- test[,-c(9,10,11,12,13,14,18,19,20,21)]"
   ]
  },
  {
   "cell_type": "code",
   "execution_count": 18,
   "metadata": {},
   "outputs": [],
   "source": [
    "colnames(total)<-c(\"city\",\"year\",\"weekofyear\",\"total_cases\",\"week_start_date\",\"ndvi_ne\",'ndvi_nw','ndvi_se','ndvi_sw','precipitation_kgm2','relative_humidity','sat_precipitation','max_temperature','min_temperature','total_precipitation')\n",
    "colnames(test)<-c(\"city\",\"year\",\"weekofyear\",\"week_start_date\",\"ndvi_ne\",'ndvi_nw','ndvi_se','ndvi_sw','precipitation_kgm2','relative_humidity','sat_precipitation','max_temperature','min_temperature','total_precipitation')"
   ]
  },
  {
   "cell_type": "markdown",
   "metadata": {},
   "source": [
    "Detect outlier"
   ]
  },
  {
   "cell_type": "code",
   "execution_count": 19,
   "metadata": {},
   "outputs": [
    {
     "data": {
      "image/png": "[encoded data removed]",
      "text/plain": [
       "plot without title"
      ]
     },
     "metadata": {
      "image/png": {
       "height": 420,
       "width": 420
      },
      "text/plain": {
       "height": 420,
       "width": 420
      }
     },
     "output_type": "display_data"
    }
   ],
   "source": [
    "plot(x=total$precipitation_kgm2,y=total$total_cases)"
   ]
  },
  {
   "cell_type": "code",
   "execution_count": 20,
   "metadata": {},
   "outputs": [],
   "source": [
    "total<-total[-which(total$precipitation_kgm2>500),]"
   ]
  },
  {
   "cell_type": "code",
   "execution_count": 21,
   "metadata": {},
   "outputs": [
    {
     "data": {
      "image/png": "[encoded data removed]",
      "text/plain": [
       "plot without title"
      ]
     },
     "metadata": {
      "image/png": {
       "height": 420,
       "width": 420
      },
      "text/plain": {
       "height": 420,
       "width": 420
      }
     },
     "output_type": "display_data"
    }
   ],
   "source": [
    "plot(x=total$relative_humidity,y=total$total_cases)"
   ]
  },
  {
   "cell_type": "code",
   "execution_count": 22,
   "metadata": {},
   "outputs": [],
   "source": [
    "total<-total[-which(total$relative_humidity>90&total$total_cases>100),]"
   ]
  },
  {
   "cell_type": "code",
   "execution_count": 23,
   "metadata": {},
   "outputs": [
    {
     "data": {
      "image/png": "[encoded data removed]",
      "text/plain": [
       "plot without title"
      ]
     },
     "metadata": {
      "image/png": {
       "height": 420,
       "width": 420
      },
      "text/plain": {
       "height": 420,
       "width": 420
      }
     },
     "output_type": "display_data"
    }
   ],
   "source": [
    "plot(x=total$sat_precipitation,y=total$total_cases)"
   ]
  },
  {
   "cell_type": "code",
   "execution_count": 24,
   "metadata": {},
   "outputs": [
    {
     "data": {
      "image/png": "[encoded data removed]",
      "text/plain": [
       "plot without title"
      ]
     },
     "metadata": {
      "image/png": {
       "height": 420,
       "width": 420
      },
      "text/plain": {
       "height": 420,
       "width": 420
      }
     },
     "output_type": "display_data"
    }
   ],
   "source": [
    "plot(x=total$max_temperature,y=total$total_cases)"
   ]
  },
  {
   "cell_type": "code",
   "execution_count": 25,
   "metadata": {},
   "outputs": [
    {
     "data": {
      "image/png": "[encoded data removed]",
      "text/plain": [
       "plot without title"
      ]
     },
     "metadata": {
      "image/png": {
       "height": 420,
       "width": 420
      },
      "text/plain": {
       "height": 420,
       "width": 420
      }
     },
     "output_type": "display_data"
    }
   ],
   "source": [
    "plot(x=total$min_temperature,y=total$total_cases)"
   ]
  },
  {
   "cell_type": "code",
   "execution_count": 26,
   "metadata": {},
   "outputs": [
    {
     "data": {
      "image/png": "[encoded data removed]",
      "text/plain": [
       "plot without title"
      ]
     },
     "metadata": {
      "image/png": {
       "height": 420,
       "width": 420
      },
      "text/plain": {
       "height": 420,
       "width": 420
      }
     },
     "output_type": "display_data"
    }
   ],
   "source": [
    "plot(x=total$total_precipitation,y=total$total_cases)"
   ]
  },
  {
   "cell_type": "markdown",
   "metadata": {},
   "source": [
    "Create mosquito variable"
   ]
  },
  {
   "cell_type": "code",
   "execution_count": 27,
   "metadata": {},
   "outputs": [],
   "source": [
    "total_mosquito <- ifelse(total$min_temperature >=20 & total$min_temperature <= 25,1,\n",
    "                         ifelse(total$max_temperature >=25 & total$max_temperature <= 35,2,0))\n",
    "test_mosquito <- ifelse(test$min_temperature >=20 & test$min_temperature <= 25,1,\n",
    "                         ifelse(test$max_temperature >=25 & test$max_temperature <= 35,2,0))"
   ]
  },
  {
   "cell_type": "code",
   "execution_count": 28,
   "metadata": {},
   "outputs": [],
   "source": [
    "total$mosquito <- as.factor(total_mosquito)\n",
    "test$mosquito <- as.factor(test_mosquito)"
   ]
  },
  {
   "cell_type": "markdown",
   "metadata": {},
   "source": [
    "Skewness of response variable"
   ]
  },
  {
   "cell_type": "code",
   "execution_count": 29,
   "metadata": {},
   "outputs": [
    {
     "data": {
      "image/png": "[encoded data removed]",
      "text/plain": [
       "Plot with title \"Normal Q-Q Plot\""
      ]
     },
     "metadata": {
      "image/png": {
       "height": 420,
       "width": 420
      },
      "text/plain": {
       "height": 420,
       "width": 420
      }
     },
     "output_type": "display_data"
    }
   ],
   "source": [
    "qqnorm(total$total_cases)"
   ]
  },
  {
   "cell_type": "code",
   "execution_count": 30,
   "metadata": {},
   "outputs": [
    {
     "data": {
      "image/png": "[encoded data removed]",
      "text/plain": [
       "Plot with title \"Histogram of total$total_cases\""
      ]
     },
     "metadata": {
      "image/png": {
       "height": 420,
       "width": 420
      },
      "text/plain": {
       "height": 420,
       "width": 420
      }
     },
     "output_type": "display_data"
    }
   ],
   "source": [
    "hist(total$total_cases,breaks=10)"
   ]
  },
  {
   "cell_type": "code",
   "execution_count": 31,
   "metadata": {},
   "outputs": [],
   "source": [
    "total$total_cases <- log1p((total$total_cases))"
   ]
  },
  {
   "cell_type": "code",
   "execution_count": 32,
   "metadata": {},
   "outputs": [
    {
     "data": {
      "image/png": "[encoded data removed]",
      "text/plain": [
       "Plot with title \"Normal Q-Q Plot\""
      ]
     },
     "metadata": {
      "image/png": {
       "height": 420,
       "width": 420
      },
      "text/plain": {
       "height": 420,
       "width": 420
      }
     },
     "output_type": "display_data"
    }
   ],
   "source": [
    "qqnorm(total$total_cases)"
   ]
  },
  {
   "cell_type": "code",
   "execution_count": 33,
   "metadata": {},
   "outputs": [
    {
     "data": {
      "image/png": "[encoded data removed]",
      "text/plain": [
       "Plot with title \"Histogram of log10(total$total_cases)\""
      ]
     },
     "metadata": {
      "image/png": {
       "height": 420,
       "width": 420
      },
      "text/plain": {
       "height": 420,
       "width": 420
      }
     },
     "output_type": "display_data"
    }
   ],
   "source": [
    "hist(log10(total$total_cases),breaks=10)"
   ]
  },
  {
   "cell_type": "markdown",
   "metadata": {},
   "source": [
    "Set split (validation set as 30%)"
   ]
  },
  {
   "cell_type": "code",
   "execution_count": 34,
   "metadata": {},
   "outputs": [],
   "source": [
    "total$year <- NULL\n",
    "total$weekofyear <- as.factor(total$weekofyear)\n",
    "total$week_start_date <- NULL\n",
    "test$year <- NULL\n",
    "test$weekofyear <- as.factor(test$weekofyear)\n",
    "test$week_start_date <- NULL"
   ]
  },
  {
   "cell_type": "code",
   "execution_count": 35,
   "metadata": {},
   "outputs": [],
   "source": [
    "features <- rbind(total[,-3],test)\n",
    "X <- model.matrix(~.,data=features)\n",
    "Y <- total$total_cases\n",
    "X_training <- X[1:dim(total)[1],]\n",
    "\n",
    "# x test set\n",
    "X_test <- X[(dim(total)[1]+1):(dim(total)[1]+dim(test)[1]),]"
   ]
  },
  {
   "cell_type": "code",
   "execution_count": 36,
   "metadata": {},
   "outputs": [],
   "source": [
    "n <- round(dim(total)[1]*0.7)\n",
    "train.idx <- sample(1:nrow(X_training),n)\n",
    "validation.idx <- setdiff(1:nrow(X_training),train.idx)\n",
    "\n",
    "# test sets\n",
    "X_all <- X_training\n",
    "Y_all <- Y\n",
    "X_train <- X_training[train.idx,]\n",
    "Y_train <- Y[train.idx]\n",
    "X_validation <- X_training[validation.idx,]\n",
    "Y_validation <- Y[validation.idx]"
   ]
  },
  {
   "cell_type": "code",
   "execution_count": null,
   "metadata": {},
   "outputs": [],
   "source": [
    "# PCA"
   ]
  },
  {
   "cell_type": "code",
   "execution_count": 75,
   "metadata": {
    "scrolled": true
   },
   "outputs": [
    {
     "data": {
      "text/html": [
       "<table>\n",
       "<caption>A matrix: 1454 × 66 of type dbl</caption>\n",
       "<thead>\n",
       "\t<tr><th></th><th scope=col>(Intercept)</th><th scope=col>citysj</th><th scope=col>weekofyear2</th><th scope=col>weekofyear3</th><th scope=col>weekofyear4</th><th scope=col>weekofyear5</th><th scope=col>weekofyear6</th><th scope=col>weekofyear7</th><th scope=col>weekofyear8</th><th scope=col>weekofyear9</th><th scope=col>...</th><th scope=col>ndvi_se</th><th scope=col>ndvi_sw</th><th scope=col>precipitation_kgm2</th><th scope=col>relative_humidity</th><th scope=col>sat_precipitation</th><th scope=col>max_temperature</th><th scope=col>min_temperature</th><th scope=col>total_precipitation</th><th scope=col>mosquito1</th><th scope=col>mosquito2</th></tr>\n",
       "</thead>\n",
       "<tbody>\n",
       "\t<tr><th scope=row>1</th><td>1</td><td>0</td><td>0</td><td>0</td><td>0</td><td>0</td><td>0</td><td>0</td><td>0</td><td>0</td><td>...</td><td>0.3408857</td><td>0.24720000</td><td> 43.19</td><td>92.41857</td><td> 25.41</td><td>32.5</td><td>20.7</td><td>  3.0</td><td>1</td><td>0</td></tr>\n",
       "\t<tr><th scope=row>2</th><td>1</td><td>0</td><td>0</td><td>0</td><td>0</td><td>0</td><td>0</td><td>0</td><td>0</td><td>0</td><td>...</td><td>0.2894571</td><td>0.24165710</td><td> 46.00</td><td>93.58143</td><td> 60.61</td><td>34.0</td><td>20.8</td><td> 55.6</td><td>1</td><td>0</td></tr>\n",
       "\t<tr><th scope=row>3</th><td>1</td><td>0</td><td>0</td><td>0</td><td>0</td><td>0</td><td>0</td><td>0</td><td>0</td><td>0</td><td>...</td><td>0.2041143</td><td>0.12801430</td><td> 64.77</td><td>95.84857</td><td> 55.52</td><td>33.0</td><td>20.7</td><td> 38.1</td><td>1</td><td>0</td></tr>\n",
       "\t<tr><th scope=row>4</th><td>1</td><td>0</td><td>0</td><td>0</td><td>0</td><td>0</td><td>0</td><td>0</td><td>0</td><td>0</td><td>...</td><td>0.2542000</td><td>0.20031430</td><td> 23.96</td><td>87.23429</td><td>  5.60</td><td>31.5</td><td>14.7</td><td> 30.0</td><td>0</td><td>1</td></tr>\n",
       "\t<tr><th scope=row>5</th><td>1</td><td>0</td><td>0</td><td>0</td><td>0</td><td>0</td><td>0</td><td>0</td><td>0</td><td>0</td><td>...</td><td>0.2543714</td><td>0.36104290</td><td> 31.80</td><td>88.16143</td><td> 62.76</td><td>33.3</td><td>19.1</td><td>  4.0</td><td>0</td><td>1</td></tr>\n",
       "\t<tr><th scope=row>6</th><td>1</td><td>0</td><td>0</td><td>0</td><td>0</td><td>0</td><td>0</td><td>0</td><td>0</td><td>0</td><td>...</td><td>0.2316714</td><td>0.25531430</td><td>  1.00</td><td>74.72857</td><td> 16.24</td><td>32.0</td><td>17.0</td><td> 11.5</td><td>0</td><td>1</td></tr>\n",
       "\t<tr><th scope=row>7</th><td>1</td><td>0</td><td>0</td><td>0</td><td>0</td><td>0</td><td>0</td><td>0</td><td>0</td><td>0</td><td>...</td><td>0.3805857</td><td>0.38727140</td><td> 26.68</td><td>83.27571</td><td> 89.37</td><td>34.0</td><td>19.9</td><td> 72.9</td><td>0</td><td>1</td></tr>\n",
       "\t<tr><th scope=row>8</th><td>1</td><td>0</td><td>0</td><td>0</td><td>0</td><td>0</td><td>0</td><td>0</td><td>0</td><td>0</td><td>...</td><td>0.3417800</td><td>0.38275000</td><td> 16.90</td><td>82.49000</td><td> 42.08</td><td>33.0</td><td>20.5</td><td> 50.1</td><td>1</td><td>0</td></tr>\n",
       "\t<tr><th scope=row>9</th><td>1</td><td>0</td><td>0</td><td>0</td><td>0</td><td>0</td><td>0</td><td>0</td><td>0</td><td>0</td><td>...</td><td>0.4067143</td><td>0.30271430</td><td>  5.59</td><td>74.74000</td><td> 49.22</td><td>34.0</td><td>19.0</td><td> 89.2</td><td>0</td><td>1</td></tr>\n",
       "\t<tr><th scope=row>10</th><td>1</td><td>0</td><td>0</td><td>0</td><td>0</td><td>0</td><td>0</td><td>0</td><td>0</td><td>0</td><td>...</td><td>0.3146143</td><td>0.32425710</td><td> 16.07</td><td>74.15143</td><td> 53.65</td><td>34.0</td><td>20.0</td><td> 78.0</td><td>1</td><td>0</td></tr>\n",
       "\t<tr><th scope=row>11</th><td>1</td><td>0</td><td>0</td><td>0</td><td>0</td><td>0</td><td>0</td><td>0</td><td>0</td><td>0</td><td>...</td><td>0.3122143</td><td>0.26592860</td><td>  2.50</td><td>57.78714</td><td> 23.12</td><td>35.8</td><td>21.7</td><td> 56.9</td><td>1</td><td>0</td></tr>\n",
       "\t<tr><th scope=row>12</th><td>1</td><td>0</td><td>0</td><td>0</td><td>0</td><td>0</td><td>0</td><td>0</td><td>0</td><td>0</td><td>...</td><td>0.3878833</td><td>0.32815710</td><td>  4.10</td><td>71.66000</td><td> 34.62</td><td>34.5</td><td>20.5</td><td> 18.9</td><td>1</td><td>0</td></tr>\n",
       "\t<tr><th scope=row>13</th><td>1</td><td>0</td><td>0</td><td>0</td><td>0</td><td>0</td><td>0</td><td>0</td><td>0</td><td>0</td><td>...</td><td>0.4048429</td><td>0.24257140</td><td>  3.20</td><td>77.48714</td><td> 97.55</td><td>36.0</td><td>20.5</td><td>104.2</td><td>1</td><td>0</td></tr>\n",
       "\t<tr><th scope=row>14</th><td>1</td><td>0</td><td>0</td><td>0</td><td>0</td><td>0</td><td>0</td><td>0</td><td>0</td><td>0</td><td>...</td><td>0.2257143</td><td>0.18278570</td><td>  2.60</td><td>71.46286</td><td> 95.89</td><td>34.0</td><td>20.5</td><td> 57.9</td><td>1</td><td>0</td></tr>\n",
       "\t<tr><th scope=row>15</th><td>1</td><td>0</td><td>0</td><td>0</td><td>0</td><td>0</td><td>0</td><td>0</td><td>0</td><td>0</td><td>...</td><td>0.2775000</td><td>0.25505000</td><td> 16.60</td><td>82.37143</td><td> 46.22</td><td>34.0</td><td>20.0</td><td> 63.0</td><td>1</td><td>0</td></tr>\n",
       "\t<tr><th scope=row>16</th><td>1</td><td>0</td><td>0</td><td>0</td><td>0</td><td>0</td><td>0</td><td>0</td><td>0</td><td>0</td><td>...</td><td>0.3498000</td><td>0.10091670</td><td> 21.90</td><td>81.52286</td><td> 31.10</td><td>34.0</td><td>21.0</td><td>  3.0</td><td>1</td><td>0</td></tr>\n",
       "\t<tr><th scope=row>17</th><td>1</td><td>0</td><td>0</td><td>0</td><td>0</td><td>0</td><td>0</td><td>0</td><td>0</td><td>0</td><td>...</td><td>0.3739429</td><td>0.27947140</td><td>  9.90</td><td>75.54000</td><td> 25.21</td><td>36.0</td><td>21.0</td><td> 45.2</td><td>1</td><td>0</td></tr>\n",
       "\t<tr><th scope=row>18</th><td>1</td><td>0</td><td>0</td><td>0</td><td>0</td><td>0</td><td>0</td><td>0</td><td>0</td><td>0</td><td>...</td><td>0.4553800</td><td>0.32580000</td><td> 23.30</td><td>76.94143</td><td> 49.25</td><td>34.6</td><td>20.0</td><td> 57.9</td><td>1</td><td>0</td></tr>\n",
       "\t<tr><th scope=row>19</th><td>1</td><td>0</td><td>0</td><td>0</td><td>0</td><td>0</td><td>0</td><td>0</td><td>0</td><td>0</td><td>...</td><td>0.3044000</td><td>0.27961670</td><td> 20.20</td><td>79.42857</td><td> 67.64</td><td>35.5</td><td>21.1</td><td>  7.1</td><td>1</td><td>0</td></tr>\n",
       "\t<tr><th scope=row>20</th><td>1</td><td>0</td><td>0</td><td>0</td><td>0</td><td>0</td><td>0</td><td>0</td><td>0</td><td>0</td><td>...</td><td>0.3472500</td><td>0.23186670</td><td> 19.20</td><td>74.80286</td><td> 51.83</td><td>35.2</td><td>21.5</td><td> 13.5</td><td>1</td><td>0</td></tr>\n",
       "\t<tr><th scope=row>21</th><td>1</td><td>0</td><td>0</td><td>0</td><td>0</td><td>0</td><td>0</td><td>0</td><td>0</td><td>0</td><td>...</td><td>0.1954857</td><td>0.06418333</td><td>  3.60</td><td>67.18571</td><td> 39.25</td><td>36.4</td><td>21.7</td><td>  0.0</td><td>1</td><td>0</td></tr>\n",
       "\t<tr><th scope=row>22</th><td>1</td><td>0</td><td>0</td><td>0</td><td>0</td><td>0</td><td>0</td><td>0</td><td>0</td><td>0</td><td>...</td><td>0.3009833</td><td>0.17091670</td><td> 11.20</td><td>66.04286</td><td> 55.91</td><td>36.5</td><td>21.5</td><td> 19.0</td><td>1</td><td>0</td></tr>\n",
       "\t<tr><th scope=row>23</th><td>1</td><td>0</td><td>0</td><td>0</td><td>0</td><td>0</td><td>0</td><td>0</td><td>0</td><td>0</td><td>...</td><td>0.3235143</td><td>0.31910000</td><td> 14.50</td><td>78.88571</td><td> 20.65</td><td>34.2</td><td>21.0</td><td> 19.0</td><td>1</td><td>0</td></tr>\n",
       "\t<tr><th scope=row>24</th><td>1</td><td>0</td><td>0</td><td>0</td><td>0</td><td>0</td><td>0</td><td>0</td><td>0</td><td>0</td><td>...</td><td>0.2545667</td><td>0.18625000</td><td>  1.70</td><td>68.55714</td><td> 24.53</td><td>34.0</td><td>22.0</td><td>  0.8</td><td>1</td><td>0</td></tr>\n",
       "\t<tr><th scope=row>25</th><td>1</td><td>0</td><td>0</td><td>0</td><td>0</td><td>0</td><td>0</td><td>0</td><td>0</td><td>0</td><td>...</td><td>0.3503429</td><td>0.29770000</td><td> 48.76</td><td>80.40857</td><td>111.06</td><td>33.8</td><td>21.0</td><td> 67.2</td><td>1</td><td>0</td></tr>\n",
       "\t<tr><th scope=row>26</th><td>1</td><td>0</td><td>0</td><td>0</td><td>0</td><td>0</td><td>0</td><td>0</td><td>0</td><td>0</td><td>...</td><td>0.2348667</td><td>0.30224290</td><td>  5.70</td><td>60.64143</td><td>  3.90</td><td>35.0</td><td>21.0</td><td>  0.0</td><td>1</td><td>0</td></tr>\n",
       "\t<tr><th scope=row>27</th><td>1</td><td>0</td><td>0</td><td>0</td><td>0</td><td>0</td><td>0</td><td>0</td><td>0</td><td>0</td><td>...</td><td>0.2505857</td><td>0.28700000</td><td> 64.60</td><td>94.95571</td><td> 59.11</td><td>33.3</td><td>21.8</td><td> 38.9</td><td>1</td><td>0</td></tr>\n",
       "\t<tr><th scope=row>28</th><td>1</td><td>0</td><td>0</td><td>0</td><td>0</td><td>0</td><td>0</td><td>0</td><td>0</td><td>0</td><td>...</td><td>0.2068714</td><td>0.20632860</td><td> 83.89</td><td>94.09286</td><td>118.07</td><td>33.3</td><td>20.0</td><td> 87.1</td><td>1</td><td>0</td></tr>\n",
       "\t<tr><th scope=row>29</th><td>1</td><td>0</td><td>0</td><td>0</td><td>0</td><td>0</td><td>0</td><td>0</td><td>0</td><td>0</td><td>...</td><td>0.2063571</td><td>0.20412860</td><td>195.20</td><td>94.09429</td><td> 74.34</td><td>34.2</td><td>20.0</td><td> 39.9</td><td>1</td><td>0</td></tr>\n",
       "\t<tr><th scope=row>30</th><td>1</td><td>0</td><td>0</td><td>0</td><td>0</td><td>0</td><td>0</td><td>0</td><td>0</td><td>0</td><td>...</td><td>0.1635429</td><td>0.28414290</td><td> 32.60</td><td>82.80143</td><td> 90.35</td><td>34.1</td><td>20.0</td><td> 70.8</td><td>1</td><td>0</td></tr>\n",
       "\t<tr><th scope=row>...</th><td>...</td><td>...</td><td>...</td><td>...</td><td>...</td><td>...</td><td>...</td><td>...</td><td>...</td><td>...</td><td></td><td>...</td><td>...</td><td>...</td><td>...</td><td>...</td><td>...</td><td>...</td><td>...</td><td>...</td><td>...</td></tr>\n",
       "\t<tr><th scope=row>1427</th><td>1</td><td>1</td><td>0</td><td>0</td><td>0</td><td>0</td><td>0</td><td>0</td><td>0</td><td>0</td><td>...</td><td>0.205171400</td><td>0.17288330</td><td>10.30</td><td>75.35000</td><td>15.25</td><td>32.2</td><td>22.8</td><td>  4.1</td><td>1</td><td>0</td></tr>\n",
       "\t<tr><th scope=row>1428</th><td>1</td><td>1</td><td>0</td><td>0</td><td>0</td><td>0</td><td>0</td><td>0</td><td>0</td><td>0</td><td>...</td><td>0.205742900</td><td>0.20254290</td><td>21.40</td><td>77.48143</td><td>42.00</td><td>31.1</td><td>22.8</td><td> 65.7</td><td>1</td><td>0</td></tr>\n",
       "\t<tr><th scope=row>1429</th><td>1</td><td>1</td><td>0</td><td>0</td><td>0</td><td>0</td><td>0</td><td>0</td><td>0</td><td>0</td><td>...</td><td>0.204485700</td><td>0.15628570</td><td>43.40</td><td>78.52571</td><td>73.37</td><td>31.1</td><td>22.8</td><td> 40.4</td><td>1</td><td>0</td></tr>\n",
       "\t<tr><th scope=row>1430</th><td>1</td><td>1</td><td>0</td><td>0</td><td>0</td><td>0</td><td>0</td><td>0</td><td>0</td><td>0</td><td>...</td><td>0.090916670</td><td>0.12908570</td><td> 9.78</td><td>70.72714</td><td>15.95</td><td>28.9</td><td>22.2</td><td> 36.4</td><td>1</td><td>0</td></tr>\n",
       "\t<tr><th scope=row>1431</th><td>1</td><td>1</td><td>0</td><td>0</td><td>0</td><td>0</td><td>0</td><td>0</td><td>0</td><td>0</td><td>...</td><td>0.095600000</td><td>0.08900000</td><td>68.00</td><td>75.36857</td><td>17.85</td><td>29.4</td><td>22.8</td><td> 34.5</td><td>1</td><td>0</td></tr>\n",
       "\t<tr><th scope=row>1432</th><td>1</td><td>1</td><td>0</td><td>0</td><td>0</td><td>1</td><td>0</td><td>0</td><td>0</td><td>0</td><td>...</td><td>0.104685700</td><td>0.13954290</td><td> 0.00</td><td>72.76000</td><td> 0.00</td><td>30.6</td><td>20.6</td><td>  0.0</td><td>1</td><td>0</td></tr>\n",
       "\t<tr><th scope=row>1433</th><td>1</td><td>1</td><td>0</td><td>0</td><td>0</td><td>0</td><td>0</td><td>0</td><td>0</td><td>0</td><td>...</td><td>0.151440000</td><td>0.14317140</td><td>66.72</td><td>78.01571</td><td>31.30</td><td>28.9</td><td>22.2</td><td> 30.2</td><td>1</td><td>0</td></tr>\n",
       "\t<tr><th scope=row>1434</th><td>1</td><td>1</td><td>0</td><td>0</td><td>0</td><td>0</td><td>0</td><td>0</td><td>0</td><td>0</td><td>...</td><td>0.173416700</td><td>0.15017140</td><td>50.53</td><td>80.17857</td><td>62.11</td><td>28.9</td><td>21.7</td><td>108.2</td><td>1</td><td>0</td></tr>\n",
       "\t<tr><th scope=row>1435</th><td>1</td><td>1</td><td>0</td><td>0</td><td>0</td><td>0</td><td>0</td><td>0</td><td>0</td><td>0</td><td>...</td><td>0.207266700</td><td>0.14457780</td><td> 2.36</td><td>75.44857</td><td> 0.00</td><td>28.3</td><td>21.1</td><td> 16.8</td><td>1</td><td>0</td></tr>\n",
       "\t<tr><th scope=row>1436</th><td>1</td><td>1</td><td>0</td><td>0</td><td>0</td><td>0</td><td>1</td><td>0</td><td>0</td><td>0</td><td>...</td><td>0.204842900</td><td>0.23470000</td><td> 0.60</td><td>74.80000</td><td> 0.00</td><td>30.0</td><td>21.1</td><td>  3.3</td><td>1</td><td>0</td></tr>\n",
       "\t<tr><th scope=row>1437</th><td>1</td><td>1</td><td>0</td><td>0</td><td>0</td><td>0</td><td>0</td><td>1</td><td>0</td><td>0</td><td>...</td><td>0.243942900</td><td>0.19231430</td><td> 1.20</td><td>75.75429</td><td> 0.00</td><td>32.2</td><td>21.1</td><td>  0.3</td><td>1</td><td>0</td></tr>\n",
       "\t<tr><th scope=row>1438</th><td>1</td><td>1</td><td>0</td><td>0</td><td>0</td><td>0</td><td>0</td><td>0</td><td>1</td><td>0</td><td>...</td><td>0.190142900</td><td>0.15678570</td><td> 6.73</td><td>73.93286</td><td> 0.00</td><td>31.1</td><td>21.7</td><td>  1.5</td><td>1</td><td>0</td></tr>\n",
       "\t<tr><th scope=row>1439</th><td>1</td><td>1</td><td>0</td><td>0</td><td>0</td><td>0</td><td>0</td><td>0</td><td>0</td><td>1</td><td>...</td><td>0.006183333</td><td>0.05438333</td><td>23.12</td><td>78.12571</td><td> 0.00</td><td>31.7</td><td>21.1</td><td> 22.9</td><td>1</td><td>0</td></tr>\n",
       "\t<tr><th scope=row>1440</th><td>1</td><td>1</td><td>0</td><td>0</td><td>0</td><td>0</td><td>0</td><td>0</td><td>0</td><td>0</td><td>...</td><td>0.239814300</td><td>0.19555710</td><td>27.99</td><td>76.14857</td><td> 0.00</td><td>29.4</td><td>22.2</td><td> 55.5</td><td>1</td><td>0</td></tr>\n",
       "\t<tr><th scope=row>1441</th><td>1</td><td>1</td><td>0</td><td>0</td><td>0</td><td>0</td><td>0</td><td>0</td><td>0</td><td>0</td><td>...</td><td>0.223242900</td><td>0.15418570</td><td> 6.50</td><td>74.68143</td><td> 0.00</td><td>29.4</td><td>21.1</td><td> 13.0</td><td>1</td><td>0</td></tr>\n",
       "\t<tr><th scope=row>1442</th><td>1</td><td>1</td><td>0</td><td>0</td><td>0</td><td>0</td><td>0</td><td>0</td><td>0</td><td>0</td><td>...</td><td>0.110642900</td><td>0.14101430</td><td> 9.38</td><td>71.93429</td><td> 0.00</td><td>28.9</td><td>22.2</td><td>  4.4</td><td>1</td><td>0</td></tr>\n",
       "\t<tr><th scope=row>1443</th><td>1</td><td>1</td><td>0</td><td>0</td><td>0</td><td>0</td><td>0</td><td>0</td><td>0</td><td>0</td><td>...</td><td>0.101628600</td><td>0.08800000</td><td> 0.90</td><td>72.91571</td><td> 0.00</td><td>30.0</td><td>20.6</td><td>  0.5</td><td>1</td><td>0</td></tr>\n",
       "\t<tr><th scope=row>1444</th><td>1</td><td>1</td><td>0</td><td>0</td><td>0</td><td>0</td><td>0</td><td>0</td><td>0</td><td>0</td><td>...</td><td>0.310471400</td><td>0.29624290</td><td> 7.55</td><td>74.24714</td><td>27.19</td><td>30.0</td><td>21.1</td><td>  1.8</td><td>1</td><td>0</td></tr>\n",
       "\t<tr><th scope=row>1445</th><td>1</td><td>1</td><td>0</td><td>0</td><td>0</td><td>0</td><td>0</td><td>0</td><td>0</td><td>0</td><td>...</td><td>0.119371400</td><td>0.06638571</td><td> 3.67</td><td>74.60000</td><td> 3.82</td><td>30.6</td><td>22.2</td><td>  0.5</td><td>1</td><td>0</td></tr>\n",
       "\t<tr><th scope=row>1446</th><td>1</td><td>1</td><td>0</td><td>0</td><td>0</td><td>0</td><td>0</td><td>0</td><td>0</td><td>0</td><td>...</td><td>0.137757100</td><td>0.14121430</td><td>35.00</td><td>75.02714</td><td>16.96</td><td>29.4</td><td>21.7</td><td> 30.7</td><td>1</td><td>0</td></tr>\n",
       "\t<tr><th scope=row>1447</th><td>1</td><td>1</td><td>0</td><td>0</td><td>0</td><td>0</td><td>0</td><td>0</td><td>0</td><td>0</td><td>...</td><td>0.203900000</td><td>0.20984290</td><td> 4.82</td><td>72.28571</td><td> 0.00</td><td>29.4</td><td>21.7</td><td> 11.2</td><td>1</td><td>0</td></tr>\n",
       "\t<tr><th scope=row>1448</th><td>1</td><td>1</td><td>0</td><td>0</td><td>0</td><td>0</td><td>0</td><td>0</td><td>0</td><td>0</td><td>...</td><td>0.077314290</td><td>0.09058571</td><td> 2.17</td><td>76.96000</td><td> 0.00</td><td>31.7</td><td>23.3</td><td>  0.3</td><td>1</td><td>0</td></tr>\n",
       "\t<tr><th scope=row>1449</th><td>1</td><td>1</td><td>1</td><td>0</td><td>0</td><td>0</td><td>0</td><td>0</td><td>0</td><td>0</td><td>...</td><td>0.330485700</td><td>0.24428570</td><td>37.66</td><td>76.13143</td><td>37.24</td><td>28.3</td><td>21.1</td><td> 64.8</td><td>1</td><td>0</td></tr>\n",
       "\t<tr><th scope=row>1450</th><td>1</td><td>1</td><td>0</td><td>1</td><td>0</td><td>0</td><td>0</td><td>0</td><td>0</td><td>0</td><td>...</td><td>0.125000000</td><td>0.10884290</td><td> 4.10</td><td>75.64286</td><td> 0.00</td><td>27.8</td><td>20.6</td><td>  2.5</td><td>1</td><td>0</td></tr>\n",
       "\t<tr><th scope=row>1451</th><td>1</td><td>1</td><td>0</td><td>0</td><td>1</td><td>0</td><td>0</td><td>0</td><td>0</td><td>0</td><td>...</td><td>0.112614300</td><td>0.16021430</td><td>27.16</td><td>77.16714</td><td>81.22</td><td>27.8</td><td>21.1</td><td> 83.1</td><td>1</td><td>0</td></tr>\n",
       "\t<tr><th scope=row>1452</th><td>1</td><td>1</td><td>0</td><td>0</td><td>0</td><td>1</td><td>0</td><td>0</td><td>0</td><td>0</td><td>...</td><td>0.223300000</td><td>0.17094290</td><td> 2.70</td><td>73.56571</td><td> 0.00</td><td>28.9</td><td>20.0</td><td>  3.1</td><td>1</td><td>0</td></tr>\n",
       "\t<tr><th scope=row>1453</th><td>1</td><td>1</td><td>0</td><td>0</td><td>0</td><td>0</td><td>1</td><td>0</td><td>0</td><td>0</td><td>...</td><td>0.232842900</td><td>0.27117140</td><td>19.70</td><td>70.64286</td><td> 0.00</td><td>27.2</td><td>21.1</td><td> 35.9</td><td>1</td><td>0</td></tr>\n",
       "\t<tr><th scope=row>1454</th><td>1</td><td>1</td><td>0</td><td>0</td><td>0</td><td>0</td><td>0</td><td>1</td><td>0</td><td>0</td><td>...</td><td>0.150200000</td><td>0.14927140</td><td>10.17</td><td>74.22857</td><td> 0.00</td><td>28.3</td><td>21.1</td><td>  6.4</td><td>1</td><td>0</td></tr>\n",
       "\t<tr><th scope=row>1455</th><td>1</td><td>1</td><td>0</td><td>0</td><td>0</td><td>0</td><td>0</td><td>0</td><td>1</td><td>0</td><td>...</td><td>0.246057100</td><td>0.22812860</td><td> 8.30</td><td>74.78571</td><td> 0.00</td><td>28.3</td><td>21.7</td><td> 13.3</td><td>1</td><td>0</td></tr>\n",
       "\t<tr><th scope=row>1456</th><td>1</td><td>1</td><td>0</td><td>0</td><td>0</td><td>0</td><td>0</td><td>0</td><td>0</td><td>1</td><td>...</td><td>0.211628600</td><td>0.11734290</td><td> 6.46</td><td>72.66000</td><td> 0.00</td><td>27.8</td><td>21.1</td><td> 12.9</td><td>1</td><td>0</td></tr>\n",
       "</tbody>\n",
       "</table>\n"
      ],
      "text/latex": [
       "A matrix: 1454 × 66 of type dbl\n",
       "\\begin{tabular}{r|lllllllllllllllllllll}\n",
       "  & (Intercept) & citysj & weekofyear2 & weekofyear3 & weekofyear4 & weekofyear5 & weekofyear6 & weekofyear7 & weekofyear8 & weekofyear9 & ... & ndvi\\_se & ndvi\\_sw & precipitation\\_kgm2 & relative\\_humidity & sat\\_precipitation & max\\_temperature & min\\_temperature & total\\_precipitation & mosquito1 & mosquito2\\\\\n",
       "\\hline\n",
       "\t1 & 1 & 0 & 0 & 0 & 0 & 0 & 0 & 0 & 0 & 0 & ... & 0.3408857 & 0.24720000 &  43.19 & 92.41857 &  25.41 & 32.5 & 20.7 &   3.0 & 1 & 0\\\\\n",
       "\t2 & 1 & 0 & 0 & 0 & 0 & 0 & 0 & 0 & 0 & 0 & ... & 0.2894571 & 0.24165710 &  46.00 & 93.58143 &  60.61 & 34.0 & 20.8 &  55.6 & 1 & 0\\\\\n",
       "\t3 & 1 & 0 & 0 & 0 & 0 & 0 & 0 & 0 & 0 & 0 & ... & 0.2041143 & 0.12801430 &  64.77 & 95.84857 &  55.52 & 33.0 & 20.7 &  38.1 & 1 & 0\\\\\n",
       "\t4 & 1 & 0 & 0 & 0 & 0 & 0 & 0 & 0 & 0 & 0 & ... & 0.2542000 & 0.20031430 &  23.96 & 87.23429 &   5.60 & 31.5 & 14.7 &  30.0 & 0 & 1\\\\\n",
       "\t5 & 1 & 0 & 0 & 0 & 0 & 0 & 0 & 0 & 0 & 0 & ... & 0.2543714 & 0.36104290 &  31.80 & 88.16143 &  62.76 & 33.3 & 19.1 &   4.0 & 0 & 1\\\\\n",
       "\t6 & 1 & 0 & 0 & 0 & 0 & 0 & 0 & 0 & 0 & 0 & ... & 0.2316714 & 0.25531430 &   1.00 & 74.72857 &  16.24 & 32.0 & 17.0 &  11.5 & 0 & 1\\\\\n",
       "\t7 & 1 & 0 & 0 & 0 & 0 & 0 & 0 & 0 & 0 & 0 & ... & 0.3805857 & 0.38727140 &  26.68 & 83.27571 &  89.37 & 34.0 & 19.9 &  72.9 & 0 & 1\\\\\n",
       "\t8 & 1 & 0 & 0 & 0 & 0 & 0 & 0 & 0 & 0 & 0 & ... & 0.3417800 & 0.38275000 &  16.90 & 82.49000 &  42.08 & 33.0 & 20.5 &  50.1 & 1 & 0\\\\\n",
       "\t9 & 1 & 0 & 0 & 0 & 0 & 0 & 0 & 0 & 0 & 0 & ... & 0.4067143 & 0.30271430 &   5.59 & 74.74000 &  49.22 & 34.0 & 19.0 &  89.2 & 0 & 1\\\\\n",
       "\t10 & 1 & 0 & 0 & 0 & 0 & 0 & 0 & 0 & 0 & 0 & ... & 0.3146143 & 0.32425710 &  16.07 & 74.15143 &  53.65 & 34.0 & 20.0 &  78.0 & 1 & 0\\\\\n",
       "\t11 & 1 & 0 & 0 & 0 & 0 & 0 & 0 & 0 & 0 & 0 & ... & 0.3122143 & 0.26592860 &   2.50 & 57.78714 &  23.12 & 35.8 & 21.7 &  56.9 & 1 & 0\\\\\n",
       "\t12 & 1 & 0 & 0 & 0 & 0 & 0 & 0 & 0 & 0 & 0 & ... & 0.3878833 & 0.32815710 &   4.10 & 71.66000 &  34.62 & 34.5 & 20.5 &  18.9 & 1 & 0\\\\\n",
       "\t13 & 1 & 0 & 0 & 0 & 0 & 0 & 0 & 0 & 0 & 0 & ... & 0.4048429 & 0.24257140 &   3.20 & 77.48714 &  97.55 & 36.0 & 20.5 & 104.2 & 1 & 0\\\\\n",
       "\t14 & 1 & 0 & 0 & 0 & 0 & 0 & 0 & 0 & 0 & 0 & ... & 0.2257143 & 0.18278570 &   2.60 & 71.46286 &  95.89 & 34.0 & 20.5 &  57.9 & 1 & 0\\\\\n",
       "\t15 & 1 & 0 & 0 & 0 & 0 & 0 & 0 & 0 & 0 & 0 & ... & 0.2775000 & 0.25505000 &  16.60 & 82.37143 &  46.22 & 34.0 & 20.0 &  63.0 & 1 & 0\\\\\n",
       "\t16 & 1 & 0 & 0 & 0 & 0 & 0 & 0 & 0 & 0 & 0 & ... & 0.3498000 & 0.10091670 &  21.90 & 81.52286 &  31.10 & 34.0 & 21.0 &   3.0 & 1 & 0\\\\\n",
       "\t17 & 1 & 0 & 0 & 0 & 0 & 0 & 0 & 0 & 0 & 0 & ... & 0.3739429 & 0.27947140 &   9.90 & 75.54000 &  25.21 & 36.0 & 21.0 &  45.2 & 1 & 0\\\\\n",
       "\t18 & 1 & 0 & 0 & 0 & 0 & 0 & 0 & 0 & 0 & 0 & ... & 0.4553800 & 0.32580000 &  23.30 & 76.94143 &  49.25 & 34.6 & 20.0 &  57.9 & 1 & 0\\\\\n",
       "\t19 & 1 & 0 & 0 & 0 & 0 & 0 & 0 & 0 & 0 & 0 & ... & 0.3044000 & 0.27961670 &  20.20 & 79.42857 &  67.64 & 35.5 & 21.1 &   7.1 & 1 & 0\\\\\n",
       "\t20 & 1 & 0 & 0 & 0 & 0 & 0 & 0 & 0 & 0 & 0 & ... & 0.3472500 & 0.23186670 &  19.20 & 74.80286 &  51.83 & 35.2 & 21.5 &  13.5 & 1 & 0\\\\\n",
       "\t21 & 1 & 0 & 0 & 0 & 0 & 0 & 0 & 0 & 0 & 0 & ... & 0.1954857 & 0.06418333 &   3.60 & 67.18571 &  39.25 & 36.4 & 21.7 &   0.0 & 1 & 0\\\\\n",
       "\t22 & 1 & 0 & 0 & 0 & 0 & 0 & 0 & 0 & 0 & 0 & ... & 0.3009833 & 0.17091670 &  11.20 & 66.04286 &  55.91 & 36.5 & 21.5 &  19.0 & 1 & 0\\\\\n",
       "\t23 & 1 & 0 & 0 & 0 & 0 & 0 & 0 & 0 & 0 & 0 & ... & 0.3235143 & 0.31910000 &  14.50 & 78.88571 &  20.65 & 34.2 & 21.0 &  19.0 & 1 & 0\\\\\n",
       "\t24 & 1 & 0 & 0 & 0 & 0 & 0 & 0 & 0 & 0 & 0 & ... & 0.2545667 & 0.18625000 &   1.70 & 68.55714 &  24.53 & 34.0 & 22.0 &   0.8 & 1 & 0\\\\\n",
       "\t25 & 1 & 0 & 0 & 0 & 0 & 0 & 0 & 0 & 0 & 0 & ... & 0.3503429 & 0.29770000 &  48.76 & 80.40857 & 111.06 & 33.8 & 21.0 &  67.2 & 1 & 0\\\\\n",
       "\t26 & 1 & 0 & 0 & 0 & 0 & 0 & 0 & 0 & 0 & 0 & ... & 0.2348667 & 0.30224290 &   5.70 & 60.64143 &   3.90 & 35.0 & 21.0 &   0.0 & 1 & 0\\\\\n",
       "\t27 & 1 & 0 & 0 & 0 & 0 & 0 & 0 & 0 & 0 & 0 & ... & 0.2505857 & 0.28700000 &  64.60 & 94.95571 &  59.11 & 33.3 & 21.8 &  38.9 & 1 & 0\\\\\n",
       "\t28 & 1 & 0 & 0 & 0 & 0 & 0 & 0 & 0 & 0 & 0 & ... & 0.2068714 & 0.20632860 &  83.89 & 94.09286 & 118.07 & 33.3 & 20.0 &  87.1 & 1 & 0\\\\\n",
       "\t29 & 1 & 0 & 0 & 0 & 0 & 0 & 0 & 0 & 0 & 0 & ... & 0.2063571 & 0.20412860 & 195.20 & 94.09429 &  74.34 & 34.2 & 20.0 &  39.9 & 1 & 0\\\\\n",
       "\t30 & 1 & 0 & 0 & 0 & 0 & 0 & 0 & 0 & 0 & 0 & ... & 0.1635429 & 0.28414290 &  32.60 & 82.80143 &  90.35 & 34.1 & 20.0 &  70.8 & 1 & 0\\\\\n",
       "\t... & ... & ... & ... & ... & ... & ... & ... & ... & ... & ... &  & ... & ... & ... & ... & ... & ... & ... & ... & ... & ...\\\\\n",
       "\t1427 & 1 & 1 & 0 & 0 & 0 & 0 & 0 & 0 & 0 & 0 & ... & 0.205171400 & 0.17288330 & 10.30 & 75.35000 & 15.25 & 32.2 & 22.8 &   4.1 & 1 & 0\\\\\n",
       "\t1428 & 1 & 1 & 0 & 0 & 0 & 0 & 0 & 0 & 0 & 0 & ... & 0.205742900 & 0.20254290 & 21.40 & 77.48143 & 42.00 & 31.1 & 22.8 &  65.7 & 1 & 0\\\\\n",
       "\t1429 & 1 & 1 & 0 & 0 & 0 & 0 & 0 & 0 & 0 & 0 & ... & 0.204485700 & 0.15628570 & 43.40 & 78.52571 & 73.37 & 31.1 & 22.8 &  40.4 & 1 & 0\\\\\n",
       "\t1430 & 1 & 1 & 0 & 0 & 0 & 0 & 0 & 0 & 0 & 0 & ... & 0.090916670 & 0.12908570 &  9.78 & 70.72714 & 15.95 & 28.9 & 22.2 &  36.4 & 1 & 0\\\\\n",
       "\t1431 & 1 & 1 & 0 & 0 & 0 & 0 & 0 & 0 & 0 & 0 & ... & 0.095600000 & 0.08900000 & 68.00 & 75.36857 & 17.85 & 29.4 & 22.8 &  34.5 & 1 & 0\\\\\n",
       "\t1432 & 1 & 1 & 0 & 0 & 0 & 1 & 0 & 0 & 0 & 0 & ... & 0.104685700 & 0.13954290 &  0.00 & 72.76000 &  0.00 & 30.6 & 20.6 &   0.0 & 1 & 0\\\\\n",
       "\t1433 & 1 & 1 & 0 & 0 & 0 & 0 & 0 & 0 & 0 & 0 & ... & 0.151440000 & 0.14317140 & 66.72 & 78.01571 & 31.30 & 28.9 & 22.2 &  30.2 & 1 & 0\\\\\n",
       "\t1434 & 1 & 1 & 0 & 0 & 0 & 0 & 0 & 0 & 0 & 0 & ... & 0.173416700 & 0.15017140 & 50.53 & 80.17857 & 62.11 & 28.9 & 21.7 & 108.2 & 1 & 0\\\\\n",
       "\t1435 & 1 & 1 & 0 & 0 & 0 & 0 & 0 & 0 & 0 & 0 & ... & 0.207266700 & 0.14457780 &  2.36 & 75.44857 &  0.00 & 28.3 & 21.1 &  16.8 & 1 & 0\\\\\n",
       "\t1436 & 1 & 1 & 0 & 0 & 0 & 0 & 1 & 0 & 0 & 0 & ... & 0.204842900 & 0.23470000 &  0.60 & 74.80000 &  0.00 & 30.0 & 21.1 &   3.3 & 1 & 0\\\\\n",
       "\t1437 & 1 & 1 & 0 & 0 & 0 & 0 & 0 & 1 & 0 & 0 & ... & 0.243942900 & 0.19231430 &  1.20 & 75.75429 &  0.00 & 32.2 & 21.1 &   0.3 & 1 & 0\\\\\n",
       "\t1438 & 1 & 1 & 0 & 0 & 0 & 0 & 0 & 0 & 1 & 0 & ... & 0.190142900 & 0.15678570 &  6.73 & 73.93286 &  0.00 & 31.1 & 21.7 &   1.5 & 1 & 0\\\\\n",
       "\t1439 & 1 & 1 & 0 & 0 & 0 & 0 & 0 & 0 & 0 & 1 & ... & 0.006183333 & 0.05438333 & 23.12 & 78.12571 &  0.00 & 31.7 & 21.1 &  22.9 & 1 & 0\\\\\n",
       "\t1440 & 1 & 1 & 0 & 0 & 0 & 0 & 0 & 0 & 0 & 0 & ... & 0.239814300 & 0.19555710 & 27.99 & 76.14857 &  0.00 & 29.4 & 22.2 &  55.5 & 1 & 0\\\\\n",
       "\t1441 & 1 & 1 & 0 & 0 & 0 & 0 & 0 & 0 & 0 & 0 & ... & 0.223242900 & 0.15418570 &  6.50 & 74.68143 &  0.00 & 29.4 & 21.1 &  13.0 & 1 & 0\\\\\n",
       "\t1442 & 1 & 1 & 0 & 0 & 0 & 0 & 0 & 0 & 0 & 0 & ... & 0.110642900 & 0.14101430 &  9.38 & 71.93429 &  0.00 & 28.9 & 22.2 &   4.4 & 1 & 0\\\\\n",
       "\t1443 & 1 & 1 & 0 & 0 & 0 & 0 & 0 & 0 & 0 & 0 & ... & 0.101628600 & 0.08800000 &  0.90 & 72.91571 &  0.00 & 30.0 & 20.6 &   0.5 & 1 & 0\\\\\n",
       "\t1444 & 1 & 1 & 0 & 0 & 0 & 0 & 0 & 0 & 0 & 0 & ... & 0.310471400 & 0.29624290 &  7.55 & 74.24714 & 27.19 & 30.0 & 21.1 &   1.8 & 1 & 0\\\\\n",
       "\t1445 & 1 & 1 & 0 & 0 & 0 & 0 & 0 & 0 & 0 & 0 & ... & 0.119371400 & 0.06638571 &  3.67 & 74.60000 &  3.82 & 30.6 & 22.2 &   0.5 & 1 & 0\\\\\n",
       "\t1446 & 1 & 1 & 0 & 0 & 0 & 0 & 0 & 0 & 0 & 0 & ... & 0.137757100 & 0.14121430 & 35.00 & 75.02714 & 16.96 & 29.4 & 21.7 &  30.7 & 1 & 0\\\\\n",
       "\t1447 & 1 & 1 & 0 & 0 & 0 & 0 & 0 & 0 & 0 & 0 & ... & 0.203900000 & 0.20984290 &  4.82 & 72.28571 &  0.00 & 29.4 & 21.7 &  11.2 & 1 & 0\\\\\n",
       "\t1448 & 1 & 1 & 0 & 0 & 0 & 0 & 0 & 0 & 0 & 0 & ... & 0.077314290 & 0.09058571 &  2.17 & 76.96000 &  0.00 & 31.7 & 23.3 &   0.3 & 1 & 0\\\\\n",
       "\t1449 & 1 & 1 & 1 & 0 & 0 & 0 & 0 & 0 & 0 & 0 & ... & 0.330485700 & 0.24428570 & 37.66 & 76.13143 & 37.24 & 28.3 & 21.1 &  64.8 & 1 & 0\\\\\n",
       "\t1450 & 1 & 1 & 0 & 1 & 0 & 0 & 0 & 0 & 0 & 0 & ... & 0.125000000 & 0.10884290 &  4.10 & 75.64286 &  0.00 & 27.8 & 20.6 &   2.5 & 1 & 0\\\\\n",
       "\t1451 & 1 & 1 & 0 & 0 & 1 & 0 & 0 & 0 & 0 & 0 & ... & 0.112614300 & 0.16021430 & 27.16 & 77.16714 & 81.22 & 27.8 & 21.1 &  83.1 & 1 & 0\\\\\n",
       "\t1452 & 1 & 1 & 0 & 0 & 0 & 1 & 0 & 0 & 0 & 0 & ... & 0.223300000 & 0.17094290 &  2.70 & 73.56571 &  0.00 & 28.9 & 20.0 &   3.1 & 1 & 0\\\\\n",
       "\t1453 & 1 & 1 & 0 & 0 & 0 & 0 & 1 & 0 & 0 & 0 & ... & 0.232842900 & 0.27117140 & 19.70 & 70.64286 &  0.00 & 27.2 & 21.1 &  35.9 & 1 & 0\\\\\n",
       "\t1454 & 1 & 1 & 0 & 0 & 0 & 0 & 0 & 1 & 0 & 0 & ... & 0.150200000 & 0.14927140 & 10.17 & 74.22857 &  0.00 & 28.3 & 21.1 &   6.4 & 1 & 0\\\\\n",
       "\t1455 & 1 & 1 & 0 & 0 & 0 & 0 & 0 & 0 & 1 & 0 & ... & 0.246057100 & 0.22812860 &  8.30 & 74.78571 &  0.00 & 28.3 & 21.7 &  13.3 & 1 & 0\\\\\n",
       "\t1456 & 1 & 1 & 0 & 0 & 0 & 0 & 0 & 0 & 0 & 1 & ... & 0.211628600 & 0.11734290 &  6.46 & 72.66000 &  0.00 & 27.8 & 21.1 &  12.9 & 1 & 0\\\\\n",
       "\\end{tabular}\n"
      ],
      "text/markdown": [
       "\n",
       "A matrix: 1454 × 66 of type dbl\n",
       "\n",
       "| <!--/--> | (Intercept) | citysj | weekofyear2 | weekofyear3 | weekofyear4 | weekofyear5 | weekofyear6 | weekofyear7 | weekofyear8 | weekofyear9 | ... | ndvi_se | ndvi_sw | precipitation_kgm2 | relative_humidity | sat_precipitation | max_temperature | min_temperature | total_precipitation | mosquito1 | mosquito2 |\n",
       "|---|---|---|---|---|---|---|---|---|---|---|---|---|---|---|---|---|---|---|---|---|---|\n",
       "| 1 | 1 | 0 | 0 | 0 | 0 | 0 | 0 | 0 | 0 | 0 | ... | 0.3408857 | 0.24720000 |  43.19 | 92.41857 |  25.41 | 32.5 | 20.7 |   3.0 | 1 | 0 |\n",
       "| 2 | 1 | 0 | 0 | 0 | 0 | 0 | 0 | 0 | 0 | 0 | ... | 0.2894571 | 0.24165710 |  46.00 | 93.58143 |  60.61 | 34.0 | 20.8 |  55.6 | 1 | 0 |\n",
       "| 3 | 1 | 0 | 0 | 0 | 0 | 0 | 0 | 0 | 0 | 0 | ... | 0.2041143 | 0.12801430 |  64.77 | 95.84857 |  55.52 | 33.0 | 20.7 |  38.1 | 1 | 0 |\n",
       "| 4 | 1 | 0 | 0 | 0 | 0 | 0 | 0 | 0 | 0 | 0 | ... | 0.2542000 | 0.20031430 |  23.96 | 87.23429 |   5.60 | 31.5 | 14.7 |  30.0 | 0 | 1 |\n",
       "| 5 | 1 | 0 | 0 | 0 | 0 | 0 | 0 | 0 | 0 | 0 | ... | 0.2543714 | 0.36104290 |  31.80 | 88.16143 |  62.76 | 33.3 | 19.1 |   4.0 | 0 | 1 |\n",
       "| 6 | 1 | 0 | 0 | 0 | 0 | 0 | 0 | 0 | 0 | 0 | ... | 0.2316714 | 0.25531430 |   1.00 | 74.72857 |  16.24 | 32.0 | 17.0 |  11.5 | 0 | 1 |\n",
       "| 7 | 1 | 0 | 0 | 0 | 0 | 0 | 0 | 0 | 0 | 0 | ... | 0.3805857 | 0.38727140 |  26.68 | 83.27571 |  89.37 | 34.0 | 19.9 |  72.9 | 0 | 1 |\n",
       "| 8 | 1 | 0 | 0 | 0 | 0 | 0 | 0 | 0 | 0 | 0 | ... | 0.3417800 | 0.38275000 |  16.90 | 82.49000 |  42.08 | 33.0 | 20.5 |  50.1 | 1 | 0 |\n",
       "| 9 | 1 | 0 | 0 | 0 | 0 | 0 | 0 | 0 | 0 | 0 | ... | 0.4067143 | 0.30271430 |   5.59 | 74.74000 |  49.22 | 34.0 | 19.0 |  89.2 | 0 | 1 |\n",
       "| 10 | 1 | 0 | 0 | 0 | 0 | 0 | 0 | 0 | 0 | 0 | ... | 0.3146143 | 0.32425710 |  16.07 | 74.15143 |  53.65 | 34.0 | 20.0 |  78.0 | 1 | 0 |\n",
       "| 11 | 1 | 0 | 0 | 0 | 0 | 0 | 0 | 0 | 0 | 0 | ... | 0.3122143 | 0.26592860 |   2.50 | 57.78714 |  23.12 | 35.8 | 21.7 |  56.9 | 1 | 0 |\n",
       "| 12 | 1 | 0 | 0 | 0 | 0 | 0 | 0 | 0 | 0 | 0 | ... | 0.3878833 | 0.32815710 |   4.10 | 71.66000 |  34.62 | 34.5 | 20.5 |  18.9 | 1 | 0 |\n",
       "| 13 | 1 | 0 | 0 | 0 | 0 | 0 | 0 | 0 | 0 | 0 | ... | 0.4048429 | 0.24257140 |   3.20 | 77.48714 |  97.55 | 36.0 | 20.5 | 104.2 | 1 | 0 |\n",
       "| 14 | 1 | 0 | 0 | 0 | 0 | 0 | 0 | 0 | 0 | 0 | ... | 0.2257143 | 0.18278570 |   2.60 | 71.46286 |  95.89 | 34.0 | 20.5 |  57.9 | 1 | 0 |\n",
       "| 15 | 1 | 0 | 0 | 0 | 0 | 0 | 0 | 0 | 0 | 0 | ... | 0.2775000 | 0.25505000 |  16.60 | 82.37143 |  46.22 | 34.0 | 20.0 |  63.0 | 1 | 0 |\n",
       "| 16 | 1 | 0 | 0 | 0 | 0 | 0 | 0 | 0 | 0 | 0 | ... | 0.3498000 | 0.10091670 |  21.90 | 81.52286 |  31.10 | 34.0 | 21.0 |   3.0 | 1 | 0 |\n",
       "| 17 | 1 | 0 | 0 | 0 | 0 | 0 | 0 | 0 | 0 | 0 | ... | 0.3739429 | 0.27947140 |   9.90 | 75.54000 |  25.21 | 36.0 | 21.0 |  45.2 | 1 | 0 |\n",
       "| 18 | 1 | 0 | 0 | 0 | 0 | 0 | 0 | 0 | 0 | 0 | ... | 0.4553800 | 0.32580000 |  23.30 | 76.94143 |  49.25 | 34.6 | 20.0 |  57.9 | 1 | 0 |\n",
       "| 19 | 1 | 0 | 0 | 0 | 0 | 0 | 0 | 0 | 0 | 0 | ... | 0.3044000 | 0.27961670 |  20.20 | 79.42857 |  67.64 | 35.5 | 21.1 |   7.1 | 1 | 0 |\n",
       "| 20 | 1 | 0 | 0 | 0 | 0 | 0 | 0 | 0 | 0 | 0 | ... | 0.3472500 | 0.23186670 |  19.20 | 74.80286 |  51.83 | 35.2 | 21.5 |  13.5 | 1 | 0 |\n",
       "| 21 | 1 | 0 | 0 | 0 | 0 | 0 | 0 | 0 | 0 | 0 | ... | 0.1954857 | 0.06418333 |   3.60 | 67.18571 |  39.25 | 36.4 | 21.7 |   0.0 | 1 | 0 |\n",
       "| 22 | 1 | 0 | 0 | 0 | 0 | 0 | 0 | 0 | 0 | 0 | ... | 0.3009833 | 0.17091670 |  11.20 | 66.04286 |  55.91 | 36.5 | 21.5 |  19.0 | 1 | 0 |\n",
       "| 23 | 1 | 0 | 0 | 0 | 0 | 0 | 0 | 0 | 0 | 0 | ... | 0.3235143 | 0.31910000 |  14.50 | 78.88571 |  20.65 | 34.2 | 21.0 |  19.0 | 1 | 0 |\n",
       "| 24 | 1 | 0 | 0 | 0 | 0 | 0 | 0 | 0 | 0 | 0 | ... | 0.2545667 | 0.18625000 |   1.70 | 68.55714 |  24.53 | 34.0 | 22.0 |   0.8 | 1 | 0 |\n",
       "| 25 | 1 | 0 | 0 | 0 | 0 | 0 | 0 | 0 | 0 | 0 | ... | 0.3503429 | 0.29770000 |  48.76 | 80.40857 | 111.06 | 33.8 | 21.0 |  67.2 | 1 | 0 |\n",
       "| 26 | 1 | 0 | 0 | 0 | 0 | 0 | 0 | 0 | 0 | 0 | ... | 0.2348667 | 0.30224290 |   5.70 | 60.64143 |   3.90 | 35.0 | 21.0 |   0.0 | 1 | 0 |\n",
       "| 27 | 1 | 0 | 0 | 0 | 0 | 0 | 0 | 0 | 0 | 0 | ... | 0.2505857 | 0.28700000 |  64.60 | 94.95571 |  59.11 | 33.3 | 21.8 |  38.9 | 1 | 0 |\n",
       "| 28 | 1 | 0 | 0 | 0 | 0 | 0 | 0 | 0 | 0 | 0 | ... | 0.2068714 | 0.20632860 |  83.89 | 94.09286 | 118.07 | 33.3 | 20.0 |  87.1 | 1 | 0 |\n",
       "| 29 | 1 | 0 | 0 | 0 | 0 | 0 | 0 | 0 | 0 | 0 | ... | 0.2063571 | 0.20412860 | 195.20 | 94.09429 |  74.34 | 34.2 | 20.0 |  39.9 | 1 | 0 |\n",
       "| 30 | 1 | 0 | 0 | 0 | 0 | 0 | 0 | 0 | 0 | 0 | ... | 0.1635429 | 0.28414290 |  32.60 | 82.80143 |  90.35 | 34.1 | 20.0 |  70.8 | 1 | 0 |\n",
       "| ... | ... | ... | ... | ... | ... | ... | ... | ... | ... | ... | <!----> | ... | ... | ... | ... | ... | ... | ... | ... | ... | ... |\n",
       "| 1427 | 1 | 1 | 0 | 0 | 0 | 0 | 0 | 0 | 0 | 0 | ... | 0.205171400 | 0.17288330 | 10.30 | 75.35000 | 15.25 | 32.2 | 22.8 |   4.1 | 1 | 0 |\n",
       "| 1428 | 1 | 1 | 0 | 0 | 0 | 0 | 0 | 0 | 0 | 0 | ... | 0.205742900 | 0.20254290 | 21.40 | 77.48143 | 42.00 | 31.1 | 22.8 |  65.7 | 1 | 0 |\n",
       "| 1429 | 1 | 1 | 0 | 0 | 0 | 0 | 0 | 0 | 0 | 0 | ... | 0.204485700 | 0.15628570 | 43.40 | 78.52571 | 73.37 | 31.1 | 22.8 |  40.4 | 1 | 0 |\n",
       "| 1430 | 1 | 1 | 0 | 0 | 0 | 0 | 0 | 0 | 0 | 0 | ... | 0.090916670 | 0.12908570 |  9.78 | 70.72714 | 15.95 | 28.9 | 22.2 |  36.4 | 1 | 0 |\n",
       "| 1431 | 1 | 1 | 0 | 0 | 0 | 0 | 0 | 0 | 0 | 0 | ... | 0.095600000 | 0.08900000 | 68.00 | 75.36857 | 17.85 | 29.4 | 22.8 |  34.5 | 1 | 0 |\n",
       "| 1432 | 1 | 1 | 0 | 0 | 0 | 1 | 0 | 0 | 0 | 0 | ... | 0.104685700 | 0.13954290 |  0.00 | 72.76000 |  0.00 | 30.6 | 20.6 |   0.0 | 1 | 0 |\n",
       "| 1433 | 1 | 1 | 0 | 0 | 0 | 0 | 0 | 0 | 0 | 0 | ... | 0.151440000 | 0.14317140 | 66.72 | 78.01571 | 31.30 | 28.9 | 22.2 |  30.2 | 1 | 0 |\n",
       "| 1434 | 1 | 1 | 0 | 0 | 0 | 0 | 0 | 0 | 0 | 0 | ... | 0.173416700 | 0.15017140 | 50.53 | 80.17857 | 62.11 | 28.9 | 21.7 | 108.2 | 1 | 0 |\n",
       "| 1435 | 1 | 1 | 0 | 0 | 0 | 0 | 0 | 0 | 0 | 0 | ... | 0.207266700 | 0.14457780 |  2.36 | 75.44857 |  0.00 | 28.3 | 21.1 |  16.8 | 1 | 0 |\n",
       "| 1436 | 1 | 1 | 0 | 0 | 0 | 0 | 1 | 0 | 0 | 0 | ... | 0.204842900 | 0.23470000 |  0.60 | 74.80000 |  0.00 | 30.0 | 21.1 |   3.3 | 1 | 0 |\n",
       "| 1437 | 1 | 1 | 0 | 0 | 0 | 0 | 0 | 1 | 0 | 0 | ... | 0.243942900 | 0.19231430 |  1.20 | 75.75429 |  0.00 | 32.2 | 21.1 |   0.3 | 1 | 0 |\n",
       "| 1438 | 1 | 1 | 0 | 0 | 0 | 0 | 0 | 0 | 1 | 0 | ... | 0.190142900 | 0.15678570 |  6.73 | 73.93286 |  0.00 | 31.1 | 21.7 |   1.5 | 1 | 0 |\n",
       "| 1439 | 1 | 1 | 0 | 0 | 0 | 0 | 0 | 0 | 0 | 1 | ... | 0.006183333 | 0.05438333 | 23.12 | 78.12571 |  0.00 | 31.7 | 21.1 |  22.9 | 1 | 0 |\n",
       "| 1440 | 1 | 1 | 0 | 0 | 0 | 0 | 0 | 0 | 0 | 0 | ... | 0.239814300 | 0.19555710 | 27.99 | 76.14857 |  0.00 | 29.4 | 22.2 |  55.5 | 1 | 0 |\n",
       "| 1441 | 1 | 1 | 0 | 0 | 0 | 0 | 0 | 0 | 0 | 0 | ... | 0.223242900 | 0.15418570 |  6.50 | 74.68143 |  0.00 | 29.4 | 21.1 |  13.0 | 1 | 0 |\n",
       "| 1442 | 1 | 1 | 0 | 0 | 0 | 0 | 0 | 0 | 0 | 0 | ... | 0.110642900 | 0.14101430 |  9.38 | 71.93429 |  0.00 | 28.9 | 22.2 |   4.4 | 1 | 0 |\n",
       "| 1443 | 1 | 1 | 0 | 0 | 0 | 0 | 0 | 0 | 0 | 0 | ... | 0.101628600 | 0.08800000 |  0.90 | 72.91571 |  0.00 | 30.0 | 20.6 |   0.5 | 1 | 0 |\n",
       "| 1444 | 1 | 1 | 0 | 0 | 0 | 0 | 0 | 0 | 0 | 0 | ... | 0.310471400 | 0.29624290 |  7.55 | 74.24714 | 27.19 | 30.0 | 21.1 |   1.8 | 1 | 0 |\n",
       "| 1445 | 1 | 1 | 0 | 0 | 0 | 0 | 0 | 0 | 0 | 0 | ... | 0.119371400 | 0.06638571 |  3.67 | 74.60000 |  3.82 | 30.6 | 22.2 |   0.5 | 1 | 0 |\n",
       "| 1446 | 1 | 1 | 0 | 0 | 0 | 0 | 0 | 0 | 0 | 0 | ... | 0.137757100 | 0.14121430 | 35.00 | 75.02714 | 16.96 | 29.4 | 21.7 |  30.7 | 1 | 0 |\n",
       "| 1447 | 1 | 1 | 0 | 0 | 0 | 0 | 0 | 0 | 0 | 0 | ... | 0.203900000 | 0.20984290 |  4.82 | 72.28571 |  0.00 | 29.4 | 21.7 |  11.2 | 1 | 0 |\n",
       "| 1448 | 1 | 1 | 0 | 0 | 0 | 0 | 0 | 0 | 0 | 0 | ... | 0.077314290 | 0.09058571 |  2.17 | 76.96000 |  0.00 | 31.7 | 23.3 |   0.3 | 1 | 0 |\n",
       "| 1449 | 1 | 1 | 1 | 0 | 0 | 0 | 0 | 0 | 0 | 0 | ... | 0.330485700 | 0.24428570 | 37.66 | 76.13143 | 37.24 | 28.3 | 21.1 |  64.8 | 1 | 0 |\n",
       "| 1450 | 1 | 1 | 0 | 1 | 0 | 0 | 0 | 0 | 0 | 0 | ... | 0.125000000 | 0.10884290 |  4.10 | 75.64286 |  0.00 | 27.8 | 20.6 |   2.5 | 1 | 0 |\n",
       "| 1451 | 1 | 1 | 0 | 0 | 1 | 0 | 0 | 0 | 0 | 0 | ... | 0.112614300 | 0.16021430 | 27.16 | 77.16714 | 81.22 | 27.8 | 21.1 |  83.1 | 1 | 0 |\n",
       "| 1452 | 1 | 1 | 0 | 0 | 0 | 1 | 0 | 0 | 0 | 0 | ... | 0.223300000 | 0.17094290 |  2.70 | 73.56571 |  0.00 | 28.9 | 20.0 |   3.1 | 1 | 0 |\n",
       "| 1453 | 1 | 1 | 0 | 0 | 0 | 0 | 1 | 0 | 0 | 0 | ... | 0.232842900 | 0.27117140 | 19.70 | 70.64286 |  0.00 | 27.2 | 21.1 |  35.9 | 1 | 0 |\n",
       "| 1454 | 1 | 1 | 0 | 0 | 0 | 0 | 0 | 1 | 0 | 0 | ... | 0.150200000 | 0.14927140 | 10.17 | 74.22857 |  0.00 | 28.3 | 21.1 |   6.4 | 1 | 0 |\n",
       "| 1455 | 1 | 1 | 0 | 0 | 0 | 0 | 0 | 0 | 1 | 0 | ... | 0.246057100 | 0.22812860 |  8.30 | 74.78571 |  0.00 | 28.3 | 21.7 |  13.3 | 1 | 0 |\n",
       "| 1456 | 1 | 1 | 0 | 0 | 0 | 0 | 0 | 0 | 0 | 1 | ... | 0.211628600 | 0.11734290 |  6.46 | 72.66000 |  0.00 | 27.8 | 21.1 |  12.9 | 1 | 0 |\n",
       "\n"
      ],
      "text/plain": [
       "     (Intercept) citysj weekofyear2 weekofyear3 weekofyear4 weekofyear5\n",
       "1    1           0      0           0           0           0          \n",
       "2    1           0      0           0           0           0          \n",
       "3    1           0      0           0           0           0          \n",
       "4    1           0      0           0           0           0          \n",
       "5    1           0      0           0           0           0          \n",
       "6    1           0      0           0           0           0          \n",
       "7    1           0      0           0           0           0          \n",
       "8    1           0      0           0           0           0          \n",
       "9    1           0      0           0           0           0          \n",
       "10   1           0      0           0           0           0          \n",
       "11   1           0      0           0           0           0          \n",
       "12   1           0      0           0           0           0          \n",
       "13   1           0      0           0           0           0          \n",
       "14   1           0      0           0           0           0          \n",
       "15   1           0      0           0           0           0          \n",
       "16   1           0      0           0           0           0          \n",
       "17   1           0      0           0           0           0          \n",
       "18   1           0      0           0           0           0          \n",
       "19   1           0      0           0           0           0          \n",
       "20   1           0      0           0           0           0          \n",
       "21   1           0      0           0           0           0          \n",
       "22   1           0      0           0           0           0          \n",
       "23   1           0      0           0           0           0          \n",
       "24   1           0      0           0           0           0          \n",
       "25   1           0      0           0           0           0          \n",
       "26   1           0      0           0           0           0          \n",
       "27   1           0      0           0           0           0          \n",
       "28   1           0      0           0           0           0          \n",
       "29   1           0      0           0           0           0          \n",
       "30   1           0      0           0           0           0          \n",
       "...  ...         ...    ...         ...         ...         ...        \n",
       "1427 1           1      0           0           0           0          \n",
       "1428 1           1      0           0           0           0          \n",
       "1429 1           1      0           0           0           0          \n",
       "1430 1           1      0           0           0           0          \n",
       "1431 1           1      0           0           0           0          \n",
       "1432 1           1      0           0           0           1          \n",
       "1433 1           1      0           0           0           0          \n",
       "1434 1           1      0           0           0           0          \n",
       "1435 1           1      0           0           0           0          \n",
       "1436 1           1      0           0           0           0          \n",
       "1437 1           1      0           0           0           0          \n",
       "1438 1           1      0           0           0           0          \n",
       "1439 1           1      0           0           0           0          \n",
       "1440 1           1      0           0           0           0          \n",
       "1441 1           1      0           0           0           0          \n",
       "1442 1           1      0           0           0           0          \n",
       "1443 1           1      0           0           0           0          \n",
       "1444 1           1      0           0           0           0          \n",
       "1445 1           1      0           0           0           0          \n",
       "1446 1           1      0           0           0           0          \n",
       "1447 1           1      0           0           0           0          \n",
       "1448 1           1      0           0           0           0          \n",
       "1449 1           1      1           0           0           0          \n",
       "1450 1           1      0           1           0           0          \n",
       "1451 1           1      0           0           1           0          \n",
       "1452 1           1      0           0           0           1          \n",
       "1453 1           1      0           0           0           0          \n",
       "1454 1           1      0           0           0           0          \n",
       "1455 1           1      0           0           0           0          \n",
       "1456 1           1      0           0           0           0          \n",
       "     weekofyear6 weekofyear7 weekofyear8 weekofyear9 ... ndvi_se     ndvi_sw   \n",
       "1    0           0           0           0           ... 0.3408857   0.24720000\n",
       "2    0           0           0           0           ... 0.2894571   0.24165710\n",
       "3    0           0           0           0           ... 0.2041143   0.12801430\n",
       "4    0           0           0           0           ... 0.2542000   0.20031430\n",
       "5    0           0           0           0           ... 0.2543714   0.36104290\n",
       "6    0           0           0           0           ... 0.2316714   0.25531430\n",
       "7    0           0           0           0           ... 0.3805857   0.38727140\n",
       "8    0           0           0           0           ... 0.3417800   0.38275000\n",
       "9    0           0           0           0           ... 0.4067143   0.30271430\n",
       "10   0           0           0           0           ... 0.3146143   0.32425710\n",
       "11   0           0           0           0           ... 0.3122143   0.26592860\n",
       "12   0           0           0           0           ... 0.3878833   0.32815710\n",
       "13   0           0           0           0           ... 0.4048429   0.24257140\n",
       "14   0           0           0           0           ... 0.2257143   0.18278570\n",
       "15   0           0           0           0           ... 0.2775000   0.25505000\n",
       "16   0           0           0           0           ... 0.3498000   0.10091670\n",
       "17   0           0           0           0           ... 0.3739429   0.27947140\n",
       "18   0           0           0           0           ... 0.4553800   0.32580000\n",
       "19   0           0           0           0           ... 0.3044000   0.27961670\n",
       "20   0           0           0           0           ... 0.3472500   0.23186670\n",
       "21   0           0           0           0           ... 0.1954857   0.06418333\n",
       "22   0           0           0           0           ... 0.3009833   0.17091670\n",
       "23   0           0           0           0           ... 0.3235143   0.31910000\n",
       "24   0           0           0           0           ... 0.2545667   0.18625000\n",
       "25   0           0           0           0           ... 0.3503429   0.29770000\n",
       "26   0           0           0           0           ... 0.2348667   0.30224290\n",
       "27   0           0           0           0           ... 0.2505857   0.28700000\n",
       "28   0           0           0           0           ... 0.2068714   0.20632860\n",
       "29   0           0           0           0           ... 0.2063571   0.20412860\n",
       "30   0           0           0           0           ... 0.1635429   0.28414290\n",
       "...  ...         ...         ...         ...             ...         ...       \n",
       "1427 0           0           0           0           ... 0.205171400 0.17288330\n",
       "1428 0           0           0           0           ... 0.205742900 0.20254290\n",
       "1429 0           0           0           0           ... 0.204485700 0.15628570\n",
       "1430 0           0           0           0           ... 0.090916670 0.12908570\n",
       "1431 0           0           0           0           ... 0.095600000 0.08900000\n",
       "1432 0           0           0           0           ... 0.104685700 0.13954290\n",
       "1433 0           0           0           0           ... 0.151440000 0.14317140\n",
       "1434 0           0           0           0           ... 0.173416700 0.15017140\n",
       "1435 0           0           0           0           ... 0.207266700 0.14457780\n",
       "1436 1           0           0           0           ... 0.204842900 0.23470000\n",
       "1437 0           1           0           0           ... 0.243942900 0.19231430\n",
       "1438 0           0           1           0           ... 0.190142900 0.15678570\n",
       "1439 0           0           0           1           ... 0.006183333 0.05438333\n",
       "1440 0           0           0           0           ... 0.239814300 0.19555710\n",
       "1441 0           0           0           0           ... 0.223242900 0.15418570\n",
       "1442 0           0           0           0           ... 0.110642900 0.14101430\n",
       "1443 0           0           0           0           ... 0.101628600 0.08800000\n",
       "1444 0           0           0           0           ... 0.310471400 0.29624290\n",
       "1445 0           0           0           0           ... 0.119371400 0.06638571\n",
       "1446 0           0           0           0           ... 0.137757100 0.14121430\n",
       "1447 0           0           0           0           ... 0.203900000 0.20984290\n",
       "1448 0           0           0           0           ... 0.077314290 0.09058571\n",
       "1449 0           0           0           0           ... 0.330485700 0.24428570\n",
       "1450 0           0           0           0           ... 0.125000000 0.10884290\n",
       "1451 0           0           0           0           ... 0.112614300 0.16021430\n",
       "1452 0           0           0           0           ... 0.223300000 0.17094290\n",
       "1453 1           0           0           0           ... 0.232842900 0.27117140\n",
       "1454 0           1           0           0           ... 0.150200000 0.14927140\n",
       "1455 0           0           1           0           ... 0.246057100 0.22812860\n",
       "1456 0           0           0           1           ... 0.211628600 0.11734290\n",
       "     precipitation_kgm2 relative_humidity sat_precipitation max_temperature\n",
       "1     43.19             92.41857           25.41            32.5           \n",
       "2     46.00             93.58143           60.61            34.0           \n",
       "3     64.77             95.84857           55.52            33.0           \n",
       "4     23.96             87.23429            5.60            31.5           \n",
       "5     31.80             88.16143           62.76            33.3           \n",
       "6      1.00             74.72857           16.24            32.0           \n",
       "7     26.68             83.27571           89.37            34.0           \n",
       "8     16.90             82.49000           42.08            33.0           \n",
       "9      5.59             74.74000           49.22            34.0           \n",
       "10    16.07             74.15143           53.65            34.0           \n",
       "11     2.50             57.78714           23.12            35.8           \n",
       "12     4.10             71.66000           34.62            34.5           \n",
       "13     3.20             77.48714           97.55            36.0           \n",
       "14     2.60             71.46286           95.89            34.0           \n",
       "15    16.60             82.37143           46.22            34.0           \n",
       "16    21.90             81.52286           31.10            34.0           \n",
       "17     9.90             75.54000           25.21            36.0           \n",
       "18    23.30             76.94143           49.25            34.6           \n",
       "19    20.20             79.42857           67.64            35.5           \n",
       "20    19.20             74.80286           51.83            35.2           \n",
       "21     3.60             67.18571           39.25            36.4           \n",
       "22    11.20             66.04286           55.91            36.5           \n",
       "23    14.50             78.88571           20.65            34.2           \n",
       "24     1.70             68.55714           24.53            34.0           \n",
       "25    48.76             80.40857          111.06            33.8           \n",
       "26     5.70             60.64143            3.90            35.0           \n",
       "27    64.60             94.95571           59.11            33.3           \n",
       "28    83.89             94.09286          118.07            33.3           \n",
       "29   195.20             94.09429           74.34            34.2           \n",
       "30    32.60             82.80143           90.35            34.1           \n",
       "...  ...                ...               ...               ...            \n",
       "1427 10.30              75.35000          15.25             32.2           \n",
       "1428 21.40              77.48143          42.00             31.1           \n",
       "1429 43.40              78.52571          73.37             31.1           \n",
       "1430  9.78              70.72714          15.95             28.9           \n",
       "1431 68.00              75.36857          17.85             29.4           \n",
       "1432  0.00              72.76000           0.00             30.6           \n",
       "1433 66.72              78.01571          31.30             28.9           \n",
       "1434 50.53              80.17857          62.11             28.9           \n",
       "1435  2.36              75.44857           0.00             28.3           \n",
       "1436  0.60              74.80000           0.00             30.0           \n",
       "1437  1.20              75.75429           0.00             32.2           \n",
       "1438  6.73              73.93286           0.00             31.1           \n",
       "1439 23.12              78.12571           0.00             31.7           \n",
       "1440 27.99              76.14857           0.00             29.4           \n",
       "1441  6.50              74.68143           0.00             29.4           \n",
       "1442  9.38              71.93429           0.00             28.9           \n",
       "1443  0.90              72.91571           0.00             30.0           \n",
       "1444  7.55              74.24714          27.19             30.0           \n",
       "1445  3.67              74.60000           3.82             30.6           \n",
       "1446 35.00              75.02714          16.96             29.4           \n",
       "1447  4.82              72.28571           0.00             29.4           \n",
       "1448  2.17              76.96000           0.00             31.7           \n",
       "1449 37.66              76.13143          37.24             28.3           \n",
       "1450  4.10              75.64286           0.00             27.8           \n",
       "1451 27.16              77.16714          81.22             27.8           \n",
       "1452  2.70              73.56571           0.00             28.9           \n",
       "1453 19.70              70.64286           0.00             27.2           \n",
       "1454 10.17              74.22857           0.00             28.3           \n",
       "1455  8.30              74.78571           0.00             28.3           \n",
       "1456  6.46              72.66000           0.00             27.8           \n",
       "     min_temperature total_precipitation mosquito1 mosquito2\n",
       "1    20.7              3.0               1         0        \n",
       "2    20.8             55.6               1         0        \n",
       "3    20.7             38.1               1         0        \n",
       "4    14.7             30.0               0         1        \n",
       "5    19.1              4.0               0         1        \n",
       "6    17.0             11.5               0         1        \n",
       "7    19.9             72.9               0         1        \n",
       "8    20.5             50.1               1         0        \n",
       "9    19.0             89.2               0         1        \n",
       "10   20.0             78.0               1         0        \n",
       "11   21.7             56.9               1         0        \n",
       "12   20.5             18.9               1         0        \n",
       "13   20.5            104.2               1         0        \n",
       "14   20.5             57.9               1         0        \n",
       "15   20.0             63.0               1         0        \n",
       "16   21.0              3.0               1         0        \n",
       "17   21.0             45.2               1         0        \n",
       "18   20.0             57.9               1         0        \n",
       "19   21.1              7.1               1         0        \n",
       "20   21.5             13.5               1         0        \n",
       "21   21.7              0.0               1         0        \n",
       "22   21.5             19.0               1         0        \n",
       "23   21.0             19.0               1         0        \n",
       "24   22.0              0.8               1         0        \n",
       "25   21.0             67.2               1         0        \n",
       "26   21.0              0.0               1         0        \n",
       "27   21.8             38.9               1         0        \n",
       "28   20.0             87.1               1         0        \n",
       "29   20.0             39.9               1         0        \n",
       "30   20.0             70.8               1         0        \n",
       "...  ...             ...                 ...       ...      \n",
       "1427 22.8              4.1               1         0        \n",
       "1428 22.8             65.7               1         0        \n",
       "1429 22.8             40.4               1         0        \n",
       "1430 22.2             36.4               1         0        \n",
       "1431 22.8             34.5               1         0        \n",
       "1432 20.6              0.0               1         0        \n",
       "1433 22.2             30.2               1         0        \n",
       "1434 21.7            108.2               1         0        \n",
       "1435 21.1             16.8               1         0        \n",
       "1436 21.1              3.3               1         0        \n",
       "1437 21.1              0.3               1         0        \n",
       "1438 21.7              1.5               1         0        \n",
       "1439 21.1             22.9               1         0        \n",
       "1440 22.2             55.5               1         0        \n",
       "1441 21.1             13.0               1         0        \n",
       "1442 22.2              4.4               1         0        \n",
       "1443 20.6              0.5               1         0        \n",
       "1444 21.1              1.8               1         0        \n",
       "1445 22.2              0.5               1         0        \n",
       "1446 21.7             30.7               1         0        \n",
       "1447 21.7             11.2               1         0        \n",
       "1448 23.3              0.3               1         0        \n",
       "1449 21.1             64.8               1         0        \n",
       "1450 20.6              2.5               1         0        \n",
       "1451 21.1             83.1               1         0        \n",
       "1452 20.0              3.1               1         0        \n",
       "1453 21.1             35.9               1         0        \n",
       "1454 21.1              6.4               1         0        \n",
       "1455 21.7             13.3               1         0        \n",
       "1456 21.1             12.9               1         0        "
      ]
     },
     "metadata": {},
     "output_type": "display_data"
    }
   ],
   "source": [
    "X_all"
   ]
  },
  {
   "cell_type": "code",
   "execution_count": null,
   "metadata": {},
   "outputs": [],
   "source": []
  },
  {
   "cell_type": "markdown",
   "metadata": {},
   "source": [
    "# Create ML Models"
   ]
  },
  {
   "cell_type": "markdown",
   "metadata": {},
   "source": [
    "LASSO, RIDGE"
   ]
  },
  {
   "cell_type": "code",
   "execution_count": 37,
   "metadata": {
    "scrolled": true
   },
   "outputs": [
    {
     "name": "stdout",
     "output_type": "stream",
     "text": [
      "\n",
      "Call:  cv.glmnet(x = X_all, y = Y_all, alpha = 1) \n",
      "\n",
      "Measure: Mean-Squared Error \n",
      "\n",
      "      Lambda Measure      SE Nonzero\n",
      "min 0.004042  0.8574 0.02616      58\n",
      "1se 0.019654  0.8811 0.02698      51\n",
      "\n",
      "Call:  cv.glmnet(x = X_all, y = Y_all, alpha = 0) \n",
      "\n",
      "Measure: Mean-Squared Error \n",
      "\n",
      "     Lambda Measure      SE Nonzero\n",
      "min 0.06742  0.8790 0.02140      65\n",
      "1se 0.15575  0.8979 0.02187      65\n"
     ]
    }
   ],
   "source": [
    "fm.lasso <- glmnet(X_all,Y_all,alpha=1)\n",
    "fm.ridge <- glmnet(X_all,Y_all,alpha=0)\n",
    "\n",
    "fm.lasso.cv <- cv.glmnet(X_all,Y_all,alpha= 1)\n",
    "fm.ridge.cv <- cv.glmnet(X_all,Y_all,alpha= 0)\n",
    "\n",
    "print(fm.lasso.cv)\n",
    "print(fm.ridge.cv)"
   ]
  },
  {
   "cell_type": "code",
   "execution_count": 38,
   "metadata": {},
   "outputs": [],
   "source": [
    "lambda_lasso <- fm.lasso.cv$lambda.min\n",
    "lambda_ridge <- fm.ridge.cv$lambda.min"
   ]
  },
  {
   "cell_type": "code",
   "execution_count": 39,
   "metadata": {
    "scrolled": true
   },
   "outputs": [
    {
     "data": {
      "text/plain": [
       "67 x 1 sparse Matrix of class \"dgCMatrix\"\n",
       "                                1\n",
       "(Intercept)         -5.9736181384\n",
       "(Intercept)          .           \n",
       "citysj               1.8883162428\n",
       "weekofyear2          0.3607126031\n",
       "weekofyear3          0.3553350117\n",
       "weekofyear4          0.3198131872\n",
       "weekofyear5          0.2247179641\n",
       "weekofyear6          0.1381433852\n",
       "weekofyear7          .           \n",
       "weekofyear8          0.0222373266\n",
       "weekofyear9          .           \n",
       "weekofyear10        -0.2842685560\n",
       "weekofyear11        -0.3461196512\n",
       "weekofyear12        -0.4090562714\n",
       "weekofyear13        -0.4914127609\n",
       "weekofyear14        -0.7792896398\n",
       "weekofyear15        -0.8212736958\n",
       "weekofyear16        -0.7547265415\n",
       "weekofyear17        -0.9041755995\n",
       "weekofyear18        -0.8374611835\n",
       "weekofyear19        -0.9099848921\n",
       "weekofyear20        -0.9230792169\n",
       "weekofyear21        -1.1015910198\n",
       "weekofyear22        -0.7820781792\n",
       "weekofyear23        -1.0107577381\n",
       "weekofyear24        -0.8835168657\n",
       "weekofyear25        -0.8080503393\n",
       "weekofyear26        -0.7960981066\n",
       "weekofyear27        -0.8614139956\n",
       "weekofyear28        -0.5688162324\n",
       "weekofyear29        -0.5975660577\n",
       "weekofyear30        -0.5255284988\n",
       "weekofyear31        -0.3784459385\n",
       "weekofyear32        -0.2901932268\n",
       "weekofyear33        -0.2220844607\n",
       "weekofyear34        -0.2135975529\n",
       "weekofyear35        -0.1805424261\n",
       "weekofyear36         0.1112464542\n",
       "weekofyear37        -0.0562692478\n",
       "weekofyear38         .           \n",
       "weekofyear39         .           \n",
       "weekofyear40         0.1548917163\n",
       "weekofyear41         0.1592199791\n",
       "weekofyear42         0.2222416784\n",
       "weekofyear43         0.1492458548\n",
       "weekofyear44         0.2327681319\n",
       "weekofyear45         0.3107597053\n",
       "weekofyear46         0.2794237201\n",
       "weekofyear47         0.1978829665\n",
       "weekofyear48         0.1965377986\n",
       "weekofyear49         0.3620050418\n",
       "weekofyear50         0.2535541553\n",
       "weekofyear51         0.0665031841\n",
       "weekofyear52        -0.0055195809\n",
       "weekofyear53         .           \n",
       "ndvi_ne              0.5238276820\n",
       "ndvi_nw              0.4676404970\n",
       "ndvi_se             -1.4357017784\n",
       "ndvi_sw             -0.1052861874\n",
       "precipitation_kgm2  -0.0003100247\n",
       "relative_humidity    0.0433530327\n",
       "sat_precipitation   -0.0003713204\n",
       "max_temperature      0.0569124052\n",
       "min_temperature      0.1258071265\n",
       "total_precipitation  .           \n",
       "mosquito1           -0.5079272416\n",
       "mosquito2            .           "
      ]
     },
     "metadata": {},
     "output_type": "display_data"
    }
   ],
   "source": [
    "coef(fm.lasso.cv,lambda_lasso)"
   ]
  },
  {
   "cell_type": "code",
   "execution_count": 40,
   "metadata": {
    "scrolled": true
   },
   "outputs": [
    {
     "data": {
      "text/plain": [
       "67 x 1 sparse Matrix of class \"dgCMatrix\"\n",
       "                                1\n",
       "(Intercept)         -4.314899e+00\n",
       "(Intercept)          .           \n",
       "citysj               1.467800e+00\n",
       "weekofyear2          4.730379e-01\n",
       "weekofyear3          4.900052e-01\n",
       "weekofyear4          4.446988e-01\n",
       "weekofyear5          3.547824e-01\n",
       "weekofyear6          2.630677e-01\n",
       "weekofyear7          1.483936e-01\n",
       "weekofyear8          1.544979e-01\n",
       "weekofyear9          1.449055e-01\n",
       "weekofyear10        -1.583534e-01\n",
       "weekofyear11        -2.312966e-01\n",
       "weekofyear12        -2.924413e-01\n",
       "weekofyear13        -3.313304e-01\n",
       "weekofyear14        -6.240941e-01\n",
       "weekofyear15        -6.612324e-01\n",
       "weekofyear16        -6.120372e-01\n",
       "weekofyear17        -7.342200e-01\n",
       "weekofyear18        -6.770982e-01\n",
       "weekofyear19        -7.648239e-01\n",
       "weekofyear20        -7.502738e-01\n",
       "weekofyear21        -9.259823e-01\n",
       "weekofyear22        -6.171245e-01\n",
       "weekofyear23        -8.293514e-01\n",
       "weekofyear24        -7.130616e-01\n",
       "weekofyear25        -6.534608e-01\n",
       "weekofyear26        -6.329328e-01\n",
       "weekofyear27        -7.369297e-01\n",
       "weekofyear28        -4.338750e-01\n",
       "weekofyear29        -4.614096e-01\n",
       "weekofyear30        -3.889078e-01\n",
       "weekofyear31        -2.374173e-01\n",
       "weekofyear32        -1.863364e-01\n",
       "weekofyear33        -1.282512e-01\n",
       "weekofyear34        -9.195526e-02\n",
       "weekofyear35        -6.976845e-02\n",
       "weekofyear36         2.432080e-01\n",
       "weekofyear37         5.486105e-02\n",
       "weekofyear38         1.554057e-01\n",
       "weekofyear39         1.505928e-01\n",
       "weekofyear40         3.170978e-01\n",
       "weekofyear41         2.968101e-01\n",
       "weekofyear42         3.686850e-01\n",
       "weekofyear43         3.303170e-01\n",
       "weekofyear44         3.757461e-01\n",
       "weekofyear45         4.628857e-01\n",
       "weekofyear46         4.217410e-01\n",
       "weekofyear47         3.371700e-01\n",
       "weekofyear48         3.476999e-01\n",
       "weekofyear49         4.590176e-01\n",
       "weekofyear50         3.615868e-01\n",
       "weekofyear51         1.826010e-01\n",
       "weekofyear52         7.542632e-02\n",
       "weekofyear53        -2.013332e-02\n",
       "ndvi_ne              3.401260e-01\n",
       "ndvi_nw              3.913105e-01\n",
       "ndvi_se             -1.338870e+00\n",
       "ndvi_sw             -4.345591e-01\n",
       "precipitation_kgm2   7.864937e-05\n",
       "relative_humidity    2.917223e-02\n",
       "sat_precipitation   -3.286672e-04\n",
       "max_temperature      2.296265e-02\n",
       "min_temperature      1.618774e-01\n",
       "total_precipitation -2.177310e-04\n",
       "mosquito1           -4.889590e-01\n",
       "mosquito2           -6.096164e-03"
      ]
     },
     "metadata": {},
     "output_type": "display_data"
    }
   ],
   "source": [
    "coef(fm.ridge.cv,lambda_ridge)"
   ]
  },
  {
   "cell_type": "code",
   "execution_count": 41,
   "metadata": {},
   "outputs": [
    {
     "data": {
      "image/png": "[encoded data removed]",
      "text/plain": [
       "plot without title"
      ]
     },
     "metadata": {
      "image/png": {
       "height": 420,
       "width": 420
      },
      "text/plain": {
       "height": 420,
       "width": 420
      }
     },
     "output_type": "display_data"
    }
   ],
   "source": [
    "plot(fm.lasso,xvar=\"lambda\",label=TRUE)"
   ]
  },
  {
   "cell_type": "code",
   "execution_count": 42,
   "metadata": {},
   "outputs": [
    {
     "data": {
      "image/png": "[encoded data removed]",
      "text/plain": [
       "plot without title"
      ]
     },
     "metadata": {
      "image/png": {
       "height": 420,
       "width": 420
      },
      "text/plain": {
       "height": 420,
       "width": 420
      }
     },
     "output_type": "display_data"
    }
   ],
   "source": [
    "plot(fm.ridge,xvar=\"lambda\",label=TRUE)"
   ]
  },
  {
   "cell_type": "code",
   "execution_count": 43,
   "metadata": {
    "scrolled": true
   },
   "outputs": [
    {
     "data": {
      "image/png": "[encoded data removed]",
      "text/plain": [
       "plot without title"
      ]
     },
     "metadata": {
      "image/png": {
       "height": 420,
       "width": 420
      },
      "text/plain": {
       "height": 420,
       "width": 420
      }
     },
     "output_type": "display_data"
    }
   ],
   "source": [
    "plot(fm.lasso.cv)"
   ]
  },
  {
   "cell_type": "code",
   "execution_count": 44,
   "metadata": {},
   "outputs": [
    {
     "data": {
      "image/png": "[encoded data removed]",
      "text/plain": [
       "plot without title"
      ]
     },
     "metadata": {
      "image/png": {
       "height": 420,
       "width": 420
      },
      "text/plain": {
       "height": 420,
       "width": 420
      }
     },
     "output_type": "display_data"
    }
   ],
   "source": [
    "plot(fm.ridge.cv)"
   ]
  },
  {
   "cell_type": "code",
   "execution_count": 45,
   "metadata": {},
   "outputs": [],
   "source": [
    "validation_lasso = predict(fm.lasso, newx = X_validation, s = lambda_lasso)\n",
    "validation_ridge = predict(fm.ridge, newx = X_validation, s = lambda_ridge)"
   ]
  },
  {
   "cell_type": "code",
   "execution_count": 46,
   "metadata": {},
   "outputs": [],
   "source": [
    "# mae of LASSO"
   ]
  },
  {
   "cell_type": "code",
   "execution_count": 47,
   "metadata": {
    "scrolled": true
   },
   "outputs": [
    {
     "name": "stdout",
     "output_type": "stream",
     "text": [
      "[1] 0.70846\n"
     ]
    }
   ],
   "source": [
    "MAE_lasso <- mean(abs((Y_validation-validation_lasso)))\n",
    "print(MAE_lasso)"
   ]
  },
  {
   "cell_type": "code",
   "execution_count": 48,
   "metadata": {},
   "outputs": [],
   "source": [
    "# mae of RIDGE"
   ]
  },
  {
   "cell_type": "code",
   "execution_count": 49,
   "metadata": {},
   "outputs": [
    {
     "name": "stdout",
     "output_type": "stream",
     "text": [
      "[1] 0.707906\n"
     ]
    }
   ],
   "source": [
    "MAE_ridge <- mean(abs((Y_validation-validation_ridge)))\n",
    "print(MAE_ridge)"
   ]
  },
  {
   "cell_type": "code",
   "execution_count": 68,
   "metadata": {},
   "outputs": [
    {
     "name": "stderr",
     "output_type": "stream",
     "text": [
      "Warning message in roc.default(Y_validation, validation_ridge):\n",
      "\"'response' has more than two levels. Consider setting 'levels' explicitly or using 'multiclass.roc' instead\"\n",
      "Setting levels: control = 0, case = 0.693147180559945\n",
      "\n",
      "Warning message in roc.default(Y_validation, validation_ridge):\n",
      "\"Deprecated use a matrix as predictor. Unexpected results may be produced, please pass a numeric vector.\"\n",
      "Setting direction: controls < cases\n",
      "\n"
     ]
    },
    {
     "name": "stdout",
     "output_type": "stream",
     "text": [
      "\n",
      "Call:\n",
      "roc.default(response = Y_validation, predictor = validation_ridge)\n",
      "\n",
      "Data: validation_ridge in 27 controls (Y_validation 0) < 12 cases (Y_validation 0.693147180559945).\n",
      "Area under the curve: 0.6512\n"
     ]
    },
    {
     "data": {
      "image/png": "[encoded data removed]",
      "text/plain": [
       "plot without title"
      ]
     },
     "metadata": {
      "image/png": {
       "height": 420,
       "width": 420
      },
      "text/plain": {
       "height": 420,
       "width": 420
      }
     },
     "output_type": "display_data"
    }
   ],
   "source": [
    "pROC_obj <- roc(Y_validation,validation_ridge)\n",
    "print(pROC_obj)\n",
    "plot(pROC_obj)"
   ]
  },
  {
   "cell_type": "markdown",
   "metadata": {},
   "source": [
    "RANDOM FOREST"
   ]
  },
  {
   "cell_type": "code",
   "execution_count": 51,
   "metadata": {},
   "outputs": [
    {
     "name": "stdout",
     "output_type": "stream",
     "text": [
      "     |      Out-of-bag   |\n",
      "Tree |      MSE  %Var(y) |\n",
      "  10 |    1.167    75.96 |\n",
      "  20 |    1.011    65.77 |\n",
      "  30 |   0.9585    62.37 |\n",
      "  40 |   0.9406    61.20 |\n",
      "  50 |   0.9354    60.86 |\n",
      "  60 |   0.9331    60.71 |\n",
      "  70 |   0.9296    60.48 |\n",
      "  80 |   0.9213    59.94 |\n",
      "  90 |   0.9173    59.68 |\n",
      " 100 |   0.9175    59.70 |\n",
      " 110 |   0.9166    59.64 |\n",
      " 120 |   0.9149    59.53 |\n",
      " 130 |   0.9109    59.27 |\n",
      " 140 |    0.909    59.14 |\n",
      " 150 |   0.9086    59.12 |\n",
      " 160 |   0.9078    59.07 |\n",
      " 170 |   0.9086    59.12 |\n",
      " 180 |   0.9076    59.06 |\n",
      " 190 |   0.9067    59.00 |\n",
      " 200 |   0.9067    59.00 |\n"
     ]
    }
   ],
   "source": [
    "fit.rf <- randomForest(x=X_all,y=Y_all,do.trace=10, mtry=13, ntree=200,na.action=na.omit)\n",
    "pred.rf  <- predict(fit.rf, newdata=X_validation)"
   ]
  },
  {
   "cell_type": "code",
   "execution_count": 52,
   "metadata": {},
   "outputs": [],
   "source": [
    "# mae of Random Forest"
   ]
  },
  {
   "cell_type": "code",
   "execution_count": 66,
   "metadata": {},
   "outputs": [
    {
     "data": {
      "text/html": [
       "0.332845848487475"
      ],
      "text/latex": [
       "0.332845848487475"
      ],
      "text/markdown": [
       "0.332845848487475"
      ],
      "text/plain": [
       "[1] 0.3328458"
      ]
     },
     "metadata": {},
     "output_type": "display_data"
    }
   ],
   "source": [
    "mean(abs(pred.rf-Y_validation))"
   ]
  },
  {
   "cell_type": "code",
   "execution_count": 67,
   "metadata": {},
   "outputs": [
    {
     "name": "stderr",
     "output_type": "stream",
     "text": [
      "Warning message in roc.default(Y_validation, pred.rf):\n",
      "\"'response' has more than two levels. Consider setting 'levels' explicitly or using 'multiclass.roc' instead\"\n",
      "Setting levels: control = 0, case = 0.693147180559945\n",
      "\n",
      "Setting direction: controls < cases\n",
      "\n"
     ]
    },
    {
     "name": "stdout",
     "output_type": "stream",
     "text": [
      "\n",
      "Call:\n",
      "roc.default(response = Y_validation, predictor = pred.rf)\n",
      "\n",
      "Data: pred.rf in 27 controls (Y_validation 0) < 12 cases (Y_validation 0.693147180559945).\n",
      "Area under the curve: 0.9846\n"
     ]
    },
    {
     "data": {
      "image/png": "[encoded data removed]",
      "text/plain": [
       "plot without title"
      ]
     },
     "metadata": {
      "image/png": {
       "height": 420,
       "width": 420
      },
      "text/plain": {
       "height": 420,
       "width": 420
      }
     },
     "output_type": "display_data"
    }
   ],
   "source": [
    "pROC_obj <- roc(Y_validation,pred.rf)\n",
    "print(pROC_obj)\n",
    "plot(pROC_obj)"
   ]
  },
  {
   "cell_type": "code",
   "execution_count": 54,
   "metadata": {},
   "outputs": [
    {
     "data": {
      "image/png": "[encoded data removed]",
      "text/plain": [
       "Plot with title \"fit.rf\""
      ]
     },
     "metadata": {
      "image/png": {
       "height": 420,
       "width": 420
      },
      "text/plain": {
       "height": 420,
       "width": 420
      }
     },
     "output_type": "display_data"
    }
   ],
   "source": [
    "varImpPlot(fit.rf)"
   ]
  },
  {
   "cell_type": "code",
   "execution_count": 55,
   "metadata": {
    "scrolled": true
   },
   "outputs": [
    {
     "data": {
      "text/html": [
       "<table>\n",
       "<caption>A data.frame: 997 × 6</caption>\n",
       "<thead>\n",
       "\t<tr><th></th><th scope=col>left daughter</th><th scope=col>right daughter</th><th scope=col>split var</th><th scope=col>split point</th><th scope=col>status</th><th scope=col>prediction</th></tr>\n",
       "\t<tr><th></th><th scope=col>&lt;dbl&gt;</th><th scope=col>&lt;dbl&gt;</th><th scope=col>&lt;fct&gt;</th><th scope=col>&lt;dbl&gt;</th><th scope=col>&lt;dbl&gt;</th><th scope=col>&lt;dbl&gt;</th></tr>\n",
       "</thead>\n",
       "<tbody>\n",
       "\t<tr><th scope=row>1</th><td> 2</td><td> 3</td><td>ndvi_ne           </td><td> 0.12917145</td><td>-3</td><td>2.4973608</td></tr>\n",
       "\t<tr><th scope=row>2</th><td> 4</td><td> 5</td><td>citysj            </td><td> 0.50000000</td><td>-3</td><td>2.8975865</td></tr>\n",
       "\t<tr><th scope=row>3</th><td> 6</td><td> 7</td><td>ndvi_ne           </td><td> 0.24523930</td><td>-3</td><td>1.9840416</td></tr>\n",
       "\t<tr><th scope=row>4</th><td> 8</td><td> 9</td><td>weekofyear9       </td><td> 0.50000000</td><td>-3</td><td>1.3738649</td></tr>\n",
       "\t<tr><th scope=row>5</th><td>10</td><td>11</td><td>ndvi_nw           </td><td>-0.06931667</td><td>-3</td><td>2.9476709</td></tr>\n",
       "\t<tr><th scope=row>6</th><td>12</td><td>13</td><td>citysj            </td><td> 0.50000000</td><td>-3</td><td>2.3025854</td></tr>\n",
       "\t<tr><th scope=row>7</th><td>14</td><td>15</td><td>weekofyear34      </td><td> 0.50000000</td><td>-3</td><td>1.6394729</td></tr>\n",
       "\t<tr><th scope=row>8</th><td>16</td><td>17</td><td>max_temperature   </td><td>34.50000000</td><td>-3</td><td>1.2948374</td></tr>\n",
       "\t<tr><th scope=row>9</th><td> 0</td><td> 0</td><td>NA                </td><td> 0.00000000</td><td>-1</td><td>2.3221954</td></tr>\n",
       "\t<tr><th scope=row>10</th><td>18</td><td>19</td><td>max_temperature   </td><td>29.15000000</td><td>-3</td><td>2.3704101</td></tr>\n",
       "\t<tr><th scope=row>11</th><td>20</td><td>21</td><td>min_temperature   </td><td>23.60000000</td><td>-3</td><td>3.0081381</td></tr>\n",
       "\t<tr><th scope=row>12</th><td>22</td><td>23</td><td>precipitation_kgm2</td><td>47.20000000</td><td>-3</td><td>1.6514260</td></tr>\n",
       "\t<tr><th scope=row>13</th><td>24</td><td>25</td><td>ndvi_nw           </td><td> 0.05466666</td><td>-3</td><td>3.2842575</td></tr>\n",
       "\t<tr><th scope=row>14</th><td>26</td><td>27</td><td>weekofyear4       </td><td> 0.50000000</td><td>-3</td><td>1.6702916</td></tr>\n",
       "\t<tr><th scope=row>15</th><td> 0</td><td> 0</td><td>NA                </td><td> 0.00000000</td><td>-1</td><td>0.7272398</td></tr>\n",
       "\t<tr><th scope=row>16</th><td>28</td><td>29</td><td>max_temperature   </td><td>33.35000000</td><td>-3</td><td>1.4844901</td></tr>\n",
       "\t<tr><th scope=row>17</th><td> 0</td><td> 0</td><td>NA                </td><td> 0.00000000</td><td>-1</td><td>0.3465736</td></tr>\n",
       "\t<tr><th scope=row>18</th><td>30</td><td>31</td><td>min_temperature   </td><td>21.95000000</td><td>-3</td><td>3.0007748</td></tr>\n",
       "\t<tr><th scope=row>19</th><td>32</td><td>33</td><td>max_temperature   </td><td>33.60000000</td><td>-3</td><td>2.1856480</td></tr>\n",
       "\t<tr><th scope=row>20</th><td>34</td><td>35</td><td>ndvi_nw           </td><td> 0.12302500</td><td>-3</td><td>2.8734794</td></tr>\n",
       "\t<tr><th scope=row>21</th><td>36</td><td>37</td><td>ndvi_ne           </td><td> 0.00105000</td><td>-3</td><td>3.3157529</td></tr>\n",
       "\t<tr><th scope=row>22</th><td>38</td><td>39</td><td>min_temperature   </td><td>21.35000000</td><td>-3</td><td>1.3186063</td></tr>\n",
       "\t<tr><th scope=row>23</th><td>40</td><td>41</td><td>min_temperature   </td><td>20.45000000</td><td>-3</td><td>2.0085138</td></tr>\n",
       "\t<tr><th scope=row>24</th><td>42</td><td>43</td><td>ndvi_ne           </td><td> 0.20847500</td><td>-3</td><td>5.1710658</td></tr>\n",
       "\t<tr><th scope=row>25</th><td>44</td><td>45</td><td>weekofyear23      </td><td> 0.50000000</td><td>-3</td><td>2.8214555</td></tr>\n",
       "\t<tr><th scope=row>26</th><td>46</td><td>47</td><td>ndvi_sw           </td><td> 0.21255710</td><td>-3</td><td>1.6360066</td></tr>\n",
       "\t<tr><th scope=row>27</th><td>48</td><td>49</td><td>ndvi_ne           </td><td> 0.34783335</td><td>-3</td><td>3.3273992</td></tr>\n",
       "\t<tr><th scope=row>28</th><td>50</td><td>51</td><td>min_temperature   </td><td>20.30000000</td><td>-3</td><td>1.2164074</td></tr>\n",
       "\t<tr><th scope=row>29</th><td>52</td><td>53</td><td>min_temperature   </td><td>22.05000000</td><td>-3</td><td>2.1100166</td></tr>\n",
       "\t<tr><th scope=row>30</th><td>54</td><td>55</td><td>mosquito2         </td><td> 0.50000000</td><td>-3</td><td>2.6721831</td></tr>\n",
       "\t<tr><th scope=row>...</th><td>...</td><td>...</td><td>...</td><td>...</td><td>...</td><td>...</td></tr>\n",
       "\t<tr><th scope=row>968</th><td>972</td><td>973</td><td>weekofyear4       </td><td> 0.5000000</td><td>-3</td><td>2.903678</td></tr>\n",
       "\t<tr><th scope=row>969</th><td>  0</td><td>  0</td><td>NA                </td><td> 0.0000000</td><td>-1</td><td>1.386294</td></tr>\n",
       "\t<tr><th scope=row>970</th><td>974</td><td>975</td><td>min_temperature   </td><td>22.5000000</td><td>-3</td><td>3.485984</td></tr>\n",
       "\t<tr><th scope=row>971</th><td>976</td><td>977</td><td>ndvi_se           </td><td> 0.2079357</td><td>-3</td><td>3.107137</td></tr>\n",
       "\t<tr><th scope=row>972</th><td>978</td><td>979</td><td>weekofyear20      </td><td> 0.5000000</td><td>-3</td><td>2.880616</td></tr>\n",
       "\t<tr><th scope=row>973</th><td>  0</td><td>  0</td><td>NA                </td><td> 0.0000000</td><td>-1</td><td>3.526361</td></tr>\n",
       "\t<tr><th scope=row>974</th><td>980</td><td>981</td><td>min_temperature   </td><td>21.9500000</td><td>-3</td><td>3.596067</td></tr>\n",
       "\t<tr><th scope=row>975</th><td>  0</td><td>  0</td><td>NA                </td><td> 0.0000000</td><td>-1</td><td>3.045655</td></tr>\n",
       "\t<tr><th scope=row>976</th><td>  0</td><td>  0</td><td>NA                </td><td> 0.0000000</td><td>-1</td><td>3.006381</td></tr>\n",
       "\t<tr><th scope=row>977</th><td>  0</td><td>  0</td><td>NA                </td><td> 0.0000000</td><td>-1</td><td>3.610918</td></tr>\n",
       "\t<tr><th scope=row>978</th><td>982</td><td>983</td><td>relative_humidity </td><td>78.6757143</td><td>-3</td><td>2.847398</td></tr>\n",
       "\t<tr><th scope=row>979</th><td>  0</td><td>  0</td><td>NA                </td><td> 0.0000000</td><td>-1</td><td>3.295837</td></tr>\n",
       "\t<tr><th scope=row>980</th><td>984</td><td>985</td><td>mosquito1         </td><td> 0.5000000</td><td>-3</td><td>3.507004</td></tr>\n",
       "\t<tr><th scope=row>981</th><td>  0</td><td>  0</td><td>NA                </td><td> 0.0000000</td><td>-1</td><td>4.219508</td></tr>\n",
       "\t<tr><th scope=row>982</th><td>986</td><td>987</td><td>sat_precipitation </td><td>60.9100000</td><td>-3</td><td>2.992902</td></tr>\n",
       "\t<tr><th scope=row>983</th><td>988</td><td>989</td><td>relative_humidity </td><td>79.7092857</td><td>-3</td><td>2.662213</td></tr>\n",
       "\t<tr><th scope=row>984</th><td>  0</td><td>  0</td><td>NA                </td><td> 0.0000000</td><td>-1</td><td>3.583519</td></tr>\n",
       "\t<tr><th scope=row>985</th><td>  0</td><td>  0</td><td>NA                </td><td> 0.0000000</td><td>-1</td><td>3.449617</td></tr>\n",
       "\t<tr><th scope=row>986</th><td>990</td><td>991</td><td>precipitation_kgm2</td><td>20.7100000</td><td>-3</td><td>2.889991</td></tr>\n",
       "\t<tr><th scope=row>987</th><td>  0</td><td>  0</td><td>NA                </td><td> 0.0000000</td><td>-1</td><td>4.330733</td></tr>\n",
       "\t<tr><th scope=row>988</th><td>992</td><td>993</td><td>ndvi_sw           </td><td> 0.1517500</td><td>-3</td><td>2.386942</td></tr>\n",
       "\t<tr><th scope=row>989</th><td>  0</td><td>  0</td><td>NA                </td><td> 0.0000000</td><td>-1</td><td>2.992537</td></tr>\n",
       "\t<tr><th scope=row>990</th><td>994</td><td>995</td><td>min_temperature   </td><td>23.0500000</td><td>-3</td><td>2.814343</td></tr>\n",
       "\t<tr><th scope=row>991</th><td>996</td><td>997</td><td>ndvi_ne           </td><td>-0.0013650</td><td>-3</td><td>2.978248</td></tr>\n",
       "\t<tr><th scope=row>992</th><td>  0</td><td>  0</td><td>NA                </td><td> 0.0000000</td><td>-1</td><td>2.153823</td></tr>\n",
       "\t<tr><th scope=row>993</th><td>  0</td><td>  0</td><td>NA                </td><td> 0.0000000</td><td>-1</td><td>2.620062</td></tr>\n",
       "\t<tr><th scope=row>994</th><td>  0</td><td>  0</td><td>NA                </td><td> 0.0000000</td><td>-1</td><td>2.783931</td></tr>\n",
       "\t<tr><th scope=row>995</th><td>  0</td><td>  0</td><td>NA                </td><td> 0.0000000</td><td>-1</td><td>2.890372</td></tr>\n",
       "\t<tr><th scope=row>996</th><td>  0</td><td>  0</td><td>NA                </td><td> 0.0000000</td><td>-1</td><td>3.610918</td></tr>\n",
       "\t<tr><th scope=row>997</th><td>  0</td><td>  0</td><td>NA                </td><td> 0.0000000</td><td>-1</td><td>2.851714</td></tr>\n",
       "</tbody>\n",
       "</table>\n"
      ],
      "text/latex": [
       "A data.frame: 997 × 6\n",
       "\\begin{tabular}{r|llllll}\n",
       "  & left daughter & right daughter & split var & split point & status & prediction\\\\\n",
       "  & <dbl> & <dbl> & <fct> & <dbl> & <dbl> & <dbl>\\\\\n",
       "\\hline\n",
       "\t1 &  2 &  3 & ndvi\\_ne            &  0.12917145 & -3 & 2.4973608\\\\\n",
       "\t2 &  4 &  5 & citysj             &  0.50000000 & -3 & 2.8975865\\\\\n",
       "\t3 &  6 &  7 & ndvi\\_ne            &  0.24523930 & -3 & 1.9840416\\\\\n",
       "\t4 &  8 &  9 & weekofyear9        &  0.50000000 & -3 & 1.3738649\\\\\n",
       "\t5 & 10 & 11 & ndvi\\_nw            & -0.06931667 & -3 & 2.9476709\\\\\n",
       "\t6 & 12 & 13 & citysj             &  0.50000000 & -3 & 2.3025854\\\\\n",
       "\t7 & 14 & 15 & weekofyear34       &  0.50000000 & -3 & 1.6394729\\\\\n",
       "\t8 & 16 & 17 & max\\_temperature    & 34.50000000 & -3 & 1.2948374\\\\\n",
       "\t9 &  0 &  0 & NA                 &  0.00000000 & -1 & 2.3221954\\\\\n",
       "\t10 & 18 & 19 & max\\_temperature    & 29.15000000 & -3 & 2.3704101\\\\\n",
       "\t11 & 20 & 21 & min\\_temperature    & 23.60000000 & -3 & 3.0081381\\\\\n",
       "\t12 & 22 & 23 & precipitation\\_kgm2 & 47.20000000 & -3 & 1.6514260\\\\\n",
       "\t13 & 24 & 25 & ndvi\\_nw            &  0.05466666 & -3 & 3.2842575\\\\\n",
       "\t14 & 26 & 27 & weekofyear4        &  0.50000000 & -3 & 1.6702916\\\\\n",
       "\t15 &  0 &  0 & NA                 &  0.00000000 & -1 & 0.7272398\\\\\n",
       "\t16 & 28 & 29 & max\\_temperature    & 33.35000000 & -3 & 1.4844901\\\\\n",
       "\t17 &  0 &  0 & NA                 &  0.00000000 & -1 & 0.3465736\\\\\n",
       "\t18 & 30 & 31 & min\\_temperature    & 21.95000000 & -3 & 3.0007748\\\\\n",
       "\t19 & 32 & 33 & max\\_temperature    & 33.60000000 & -3 & 2.1856480\\\\\n",
       "\t20 & 34 & 35 & ndvi\\_nw            &  0.12302500 & -3 & 2.8734794\\\\\n",
       "\t21 & 36 & 37 & ndvi\\_ne            &  0.00105000 & -3 & 3.3157529\\\\\n",
       "\t22 & 38 & 39 & min\\_temperature    & 21.35000000 & -3 & 1.3186063\\\\\n",
       "\t23 & 40 & 41 & min\\_temperature    & 20.45000000 & -3 & 2.0085138\\\\\n",
       "\t24 & 42 & 43 & ndvi\\_ne            &  0.20847500 & -3 & 5.1710658\\\\\n",
       "\t25 & 44 & 45 & weekofyear23       &  0.50000000 & -3 & 2.8214555\\\\\n",
       "\t26 & 46 & 47 & ndvi\\_sw            &  0.21255710 & -3 & 1.6360066\\\\\n",
       "\t27 & 48 & 49 & ndvi\\_ne            &  0.34783335 & -3 & 3.3273992\\\\\n",
       "\t28 & 50 & 51 & min\\_temperature    & 20.30000000 & -3 & 1.2164074\\\\\n",
       "\t29 & 52 & 53 & min\\_temperature    & 22.05000000 & -3 & 2.1100166\\\\\n",
       "\t30 & 54 & 55 & mosquito2          &  0.50000000 & -3 & 2.6721831\\\\\n",
       "\t... & ... & ... & ... & ... & ... & ...\\\\\n",
       "\t968 & 972 & 973 & weekofyear4        &  0.5000000 & -3 & 2.903678\\\\\n",
       "\t969 &   0 &   0 & NA                 &  0.0000000 & -1 & 1.386294\\\\\n",
       "\t970 & 974 & 975 & min\\_temperature    & 22.5000000 & -3 & 3.485984\\\\\n",
       "\t971 & 976 & 977 & ndvi\\_se            &  0.2079357 & -3 & 3.107137\\\\\n",
       "\t972 & 978 & 979 & weekofyear20       &  0.5000000 & -3 & 2.880616\\\\\n",
       "\t973 &   0 &   0 & NA                 &  0.0000000 & -1 & 3.526361\\\\\n",
       "\t974 & 980 & 981 & min\\_temperature    & 21.9500000 & -3 & 3.596067\\\\\n",
       "\t975 &   0 &   0 & NA                 &  0.0000000 & -1 & 3.045655\\\\\n",
       "\t976 &   0 &   0 & NA                 &  0.0000000 & -1 & 3.006381\\\\\n",
       "\t977 &   0 &   0 & NA                 &  0.0000000 & -1 & 3.610918\\\\\n",
       "\t978 & 982 & 983 & relative\\_humidity  & 78.6757143 & -3 & 2.847398\\\\\n",
       "\t979 &   0 &   0 & NA                 &  0.0000000 & -1 & 3.295837\\\\\n",
       "\t980 & 984 & 985 & mosquito1          &  0.5000000 & -3 & 3.507004\\\\\n",
       "\t981 &   0 &   0 & NA                 &  0.0000000 & -1 & 4.219508\\\\\n",
       "\t982 & 986 & 987 & sat\\_precipitation  & 60.9100000 & -3 & 2.992902\\\\\n",
       "\t983 & 988 & 989 & relative\\_humidity  & 79.7092857 & -3 & 2.662213\\\\\n",
       "\t984 &   0 &   0 & NA                 &  0.0000000 & -1 & 3.583519\\\\\n",
       "\t985 &   0 &   0 & NA                 &  0.0000000 & -1 & 3.449617\\\\\n",
       "\t986 & 990 & 991 & precipitation\\_kgm2 & 20.7100000 & -3 & 2.889991\\\\\n",
       "\t987 &   0 &   0 & NA                 &  0.0000000 & -1 & 4.330733\\\\\n",
       "\t988 & 992 & 993 & ndvi\\_sw            &  0.1517500 & -3 & 2.386942\\\\\n",
       "\t989 &   0 &   0 & NA                 &  0.0000000 & -1 & 2.992537\\\\\n",
       "\t990 & 994 & 995 & min\\_temperature    & 23.0500000 & -3 & 2.814343\\\\\n",
       "\t991 & 996 & 997 & ndvi\\_ne            & -0.0013650 & -3 & 2.978248\\\\\n",
       "\t992 &   0 &   0 & NA                 &  0.0000000 & -1 & 2.153823\\\\\n",
       "\t993 &   0 &   0 & NA                 &  0.0000000 & -1 & 2.620062\\\\\n",
       "\t994 &   0 &   0 & NA                 &  0.0000000 & -1 & 2.783931\\\\\n",
       "\t995 &   0 &   0 & NA                 &  0.0000000 & -1 & 2.890372\\\\\n",
       "\t996 &   0 &   0 & NA                 &  0.0000000 & -1 & 3.610918\\\\\n",
       "\t997 &   0 &   0 & NA                 &  0.0000000 & -1 & 2.851714\\\\\n",
       "\\end{tabular}\n"
      ],
      "text/markdown": [
       "\n",
       "A data.frame: 997 × 6\n",
       "\n",
       "| <!--/--> | left daughter &lt;dbl&gt; | right daughter &lt;dbl&gt; | split var &lt;fct&gt; | split point &lt;dbl&gt; | status &lt;dbl&gt; | prediction &lt;dbl&gt; |\n",
       "|---|---|---|---|---|---|---|\n",
       "| 1 |  2 |  3 | ndvi_ne            |  0.12917145 | -3 | 2.4973608 |\n",
       "| 2 |  4 |  5 | citysj             |  0.50000000 | -3 | 2.8975865 |\n",
       "| 3 |  6 |  7 | ndvi_ne            |  0.24523930 | -3 | 1.9840416 |\n",
       "| 4 |  8 |  9 | weekofyear9        |  0.50000000 | -3 | 1.3738649 |\n",
       "| 5 | 10 | 11 | ndvi_nw            | -0.06931667 | -3 | 2.9476709 |\n",
       "| 6 | 12 | 13 | citysj             |  0.50000000 | -3 | 2.3025854 |\n",
       "| 7 | 14 | 15 | weekofyear34       |  0.50000000 | -3 | 1.6394729 |\n",
       "| 8 | 16 | 17 | max_temperature    | 34.50000000 | -3 | 1.2948374 |\n",
       "| 9 |  0 |  0 | NA                 |  0.00000000 | -1 | 2.3221954 |\n",
       "| 10 | 18 | 19 | max_temperature    | 29.15000000 | -3 | 2.3704101 |\n",
       "| 11 | 20 | 21 | min_temperature    | 23.60000000 | -3 | 3.0081381 |\n",
       "| 12 | 22 | 23 | precipitation_kgm2 | 47.20000000 | -3 | 1.6514260 |\n",
       "| 13 | 24 | 25 | ndvi_nw            |  0.05466666 | -3 | 3.2842575 |\n",
       "| 14 | 26 | 27 | weekofyear4        |  0.50000000 | -3 | 1.6702916 |\n",
       "| 15 |  0 |  0 | NA                 |  0.00000000 | -1 | 0.7272398 |\n",
       "| 16 | 28 | 29 | max_temperature    | 33.35000000 | -3 | 1.4844901 |\n",
       "| 17 |  0 |  0 | NA                 |  0.00000000 | -1 | 0.3465736 |\n",
       "| 18 | 30 | 31 | min_temperature    | 21.95000000 | -3 | 3.0007748 |\n",
       "| 19 | 32 | 33 | max_temperature    | 33.60000000 | -3 | 2.1856480 |\n",
       "| 20 | 34 | 35 | ndvi_nw            |  0.12302500 | -3 | 2.8734794 |\n",
       "| 21 | 36 | 37 | ndvi_ne            |  0.00105000 | -3 | 3.3157529 |\n",
       "| 22 | 38 | 39 | min_temperature    | 21.35000000 | -3 | 1.3186063 |\n",
       "| 23 | 40 | 41 | min_temperature    | 20.45000000 | -3 | 2.0085138 |\n",
       "| 24 | 42 | 43 | ndvi_ne            |  0.20847500 | -3 | 5.1710658 |\n",
       "| 25 | 44 | 45 | weekofyear23       |  0.50000000 | -3 | 2.8214555 |\n",
       "| 26 | 46 | 47 | ndvi_sw            |  0.21255710 | -3 | 1.6360066 |\n",
       "| 27 | 48 | 49 | ndvi_ne            |  0.34783335 | -3 | 3.3273992 |\n",
       "| 28 | 50 | 51 | min_temperature    | 20.30000000 | -3 | 1.2164074 |\n",
       "| 29 | 52 | 53 | min_temperature    | 22.05000000 | -3 | 2.1100166 |\n",
       "| 30 | 54 | 55 | mosquito2          |  0.50000000 | -3 | 2.6721831 |\n",
       "| ... | ... | ... | ... | ... | ... | ... |\n",
       "| 968 | 972 | 973 | weekofyear4        |  0.5000000 | -3 | 2.903678 |\n",
       "| 969 |   0 |   0 | NA                 |  0.0000000 | -1 | 1.386294 |\n",
       "| 970 | 974 | 975 | min_temperature    | 22.5000000 | -3 | 3.485984 |\n",
       "| 971 | 976 | 977 | ndvi_se            |  0.2079357 | -3 | 3.107137 |\n",
       "| 972 | 978 | 979 | weekofyear20       |  0.5000000 | -3 | 2.880616 |\n",
       "| 973 |   0 |   0 | NA                 |  0.0000000 | -1 | 3.526361 |\n",
       "| 974 | 980 | 981 | min_temperature    | 21.9500000 | -3 | 3.596067 |\n",
       "| 975 |   0 |   0 | NA                 |  0.0000000 | -1 | 3.045655 |\n",
       "| 976 |   0 |   0 | NA                 |  0.0000000 | -1 | 3.006381 |\n",
       "| 977 |   0 |   0 | NA                 |  0.0000000 | -1 | 3.610918 |\n",
       "| 978 | 982 | 983 | relative_humidity  | 78.6757143 | -3 | 2.847398 |\n",
       "| 979 |   0 |   0 | NA                 |  0.0000000 | -1 | 3.295837 |\n",
       "| 980 | 984 | 985 | mosquito1          |  0.5000000 | -3 | 3.507004 |\n",
       "| 981 |   0 |   0 | NA                 |  0.0000000 | -1 | 4.219508 |\n",
       "| 982 | 986 | 987 | sat_precipitation  | 60.9100000 | -3 | 2.992902 |\n",
       "| 983 | 988 | 989 | relative_humidity  | 79.7092857 | -3 | 2.662213 |\n",
       "| 984 |   0 |   0 | NA                 |  0.0000000 | -1 | 3.583519 |\n",
       "| 985 |   0 |   0 | NA                 |  0.0000000 | -1 | 3.449617 |\n",
       "| 986 | 990 | 991 | precipitation_kgm2 | 20.7100000 | -3 | 2.889991 |\n",
       "| 987 |   0 |   0 | NA                 |  0.0000000 | -1 | 4.330733 |\n",
       "| 988 | 992 | 993 | ndvi_sw            |  0.1517500 | -3 | 2.386942 |\n",
       "| 989 |   0 |   0 | NA                 |  0.0000000 | -1 | 2.992537 |\n",
       "| 990 | 994 | 995 | min_temperature    | 23.0500000 | -3 | 2.814343 |\n",
       "| 991 | 996 | 997 | ndvi_ne            | -0.0013650 | -3 | 2.978248 |\n",
       "| 992 |   0 |   0 | NA                 |  0.0000000 | -1 | 2.153823 |\n",
       "| 993 |   0 |   0 | NA                 |  0.0000000 | -1 | 2.620062 |\n",
       "| 994 |   0 |   0 | NA                 |  0.0000000 | -1 | 2.783931 |\n",
       "| 995 |   0 |   0 | NA                 |  0.0000000 | -1 | 2.890372 |\n",
       "| 996 |   0 |   0 | NA                 |  0.0000000 | -1 | 3.610918 |\n",
       "| 997 |   0 |   0 | NA                 |  0.0000000 | -1 | 2.851714 |\n",
       "\n"
      ],
      "text/plain": [
       "    left daughter right daughter split var          split point status\n",
       "1    2             3             ndvi_ne             0.12917145 -3    \n",
       "2    4             5             citysj              0.50000000 -3    \n",
       "3    6             7             ndvi_ne             0.24523930 -3    \n",
       "4    8             9             weekofyear9         0.50000000 -3    \n",
       "5   10            11             ndvi_nw            -0.06931667 -3    \n",
       "6   12            13             citysj              0.50000000 -3    \n",
       "7   14            15             weekofyear34        0.50000000 -3    \n",
       "8   16            17             max_temperature    34.50000000 -3    \n",
       "9    0             0             NA                  0.00000000 -1    \n",
       "10  18            19             max_temperature    29.15000000 -3    \n",
       "11  20            21             min_temperature    23.60000000 -3    \n",
       "12  22            23             precipitation_kgm2 47.20000000 -3    \n",
       "13  24            25             ndvi_nw             0.05466666 -3    \n",
       "14  26            27             weekofyear4         0.50000000 -3    \n",
       "15   0             0             NA                  0.00000000 -1    \n",
       "16  28            29             max_temperature    33.35000000 -3    \n",
       "17   0             0             NA                  0.00000000 -1    \n",
       "18  30            31             min_temperature    21.95000000 -3    \n",
       "19  32            33             max_temperature    33.60000000 -3    \n",
       "20  34            35             ndvi_nw             0.12302500 -3    \n",
       "21  36            37             ndvi_ne             0.00105000 -3    \n",
       "22  38            39             min_temperature    21.35000000 -3    \n",
       "23  40            41             min_temperature    20.45000000 -3    \n",
       "24  42            43             ndvi_ne             0.20847500 -3    \n",
       "25  44            45             weekofyear23        0.50000000 -3    \n",
       "26  46            47             ndvi_sw             0.21255710 -3    \n",
       "27  48            49             ndvi_ne             0.34783335 -3    \n",
       "28  50            51             min_temperature    20.30000000 -3    \n",
       "29  52            53             min_temperature    22.05000000 -3    \n",
       "30  54            55             mosquito2           0.50000000 -3    \n",
       "... ...           ...            ...                ...         ...   \n",
       "968 972           973            weekofyear4         0.5000000  -3    \n",
       "969   0             0            NA                  0.0000000  -1    \n",
       "970 974           975            min_temperature    22.5000000  -3    \n",
       "971 976           977            ndvi_se             0.2079357  -3    \n",
       "972 978           979            weekofyear20        0.5000000  -3    \n",
       "973   0             0            NA                  0.0000000  -1    \n",
       "974 980           981            min_temperature    21.9500000  -3    \n",
       "975   0             0            NA                  0.0000000  -1    \n",
       "976   0             0            NA                  0.0000000  -1    \n",
       "977   0             0            NA                  0.0000000  -1    \n",
       "978 982           983            relative_humidity  78.6757143  -3    \n",
       "979   0             0            NA                  0.0000000  -1    \n",
       "980 984           985            mosquito1           0.5000000  -3    \n",
       "981   0             0            NA                  0.0000000  -1    \n",
       "982 986           987            sat_precipitation  60.9100000  -3    \n",
       "983 988           989            relative_humidity  79.7092857  -3    \n",
       "984   0             0            NA                  0.0000000  -1    \n",
       "985   0             0            NA                  0.0000000  -1    \n",
       "986 990           991            precipitation_kgm2 20.7100000  -3    \n",
       "987   0             0            NA                  0.0000000  -1    \n",
       "988 992           993            ndvi_sw             0.1517500  -3    \n",
       "989   0             0            NA                  0.0000000  -1    \n",
       "990 994           995            min_temperature    23.0500000  -3    \n",
       "991 996           997            ndvi_ne            -0.0013650  -3    \n",
       "992   0             0            NA                  0.0000000  -1    \n",
       "993   0             0            NA                  0.0000000  -1    \n",
       "994   0             0            NA                  0.0000000  -1    \n",
       "995   0             0            NA                  0.0000000  -1    \n",
       "996   0             0            NA                  0.0000000  -1    \n",
       "997   0             0            NA                  0.0000000  -1    \n",
       "    prediction\n",
       "1   2.4973608 \n",
       "2   2.8975865 \n",
       "3   1.9840416 \n",
       "4   1.3738649 \n",
       "5   2.9476709 \n",
       "6   2.3025854 \n",
       "7   1.6394729 \n",
       "8   1.2948374 \n",
       "9   2.3221954 \n",
       "10  2.3704101 \n",
       "11  3.0081381 \n",
       "12  1.6514260 \n",
       "13  3.2842575 \n",
       "14  1.6702916 \n",
       "15  0.7272398 \n",
       "16  1.4844901 \n",
       "17  0.3465736 \n",
       "18  3.0007748 \n",
       "19  2.1856480 \n",
       "20  2.8734794 \n",
       "21  3.3157529 \n",
       "22  1.3186063 \n",
       "23  2.0085138 \n",
       "24  5.1710658 \n",
       "25  2.8214555 \n",
       "26  1.6360066 \n",
       "27  3.3273992 \n",
       "28  1.2164074 \n",
       "29  2.1100166 \n",
       "30  2.6721831 \n",
       "... ...       \n",
       "968 2.903678  \n",
       "969 1.386294  \n",
       "970 3.485984  \n",
       "971 3.107137  \n",
       "972 2.880616  \n",
       "973 3.526361  \n",
       "974 3.596067  \n",
       "975 3.045655  \n",
       "976 3.006381  \n",
       "977 3.610918  \n",
       "978 2.847398  \n",
       "979 3.295837  \n",
       "980 3.507004  \n",
       "981 4.219508  \n",
       "982 2.992902  \n",
       "983 2.662213  \n",
       "984 3.583519  \n",
       "985 3.449617  \n",
       "986 2.889991  \n",
       "987 4.330733  \n",
       "988 2.386942  \n",
       "989 2.992537  \n",
       "990 2.814343  \n",
       "991 2.978248  \n",
       "992 2.153823  \n",
       "993 2.620062  \n",
       "994 2.783931  \n",
       "995 2.890372  \n",
       "996 3.610918  \n",
       "997 2.851714  "
      ]
     },
     "metadata": {},
     "output_type": "display_data"
    }
   ],
   "source": [
    "getTree(fit.rf,labelVar = TRUE)"
   ]
  },
  {
   "cell_type": "markdown",
   "metadata": {},
   "source": [
    "Decision tree"
   ]
  },
  {
   "cell_type": "code",
   "execution_count": 56,
   "metadata": {},
   "outputs": [],
   "source": [
    "fm.rpart <- rpart(Y_all~X_all)"
   ]
  },
  {
   "cell_type": "code",
   "execution_count": 57,
   "metadata": {},
   "outputs": [
    {
     "name": "stdout",
     "output_type": "stream",
     "text": [
      "n= 1454 \n",
      "\n",
      "node), split, n, deviance, yval\n",
      "      * denotes terminal node\n",
      "\n",
      " 1) root 1454 2234.60400 2.500030  \n",
      "   2) X_allcitysj< 0.5 519  576.76420 1.595089  \n",
      "     4) X_allprecipitation_kgm2< 24.03 130  119.39140 1.101955 *\n",
      "     5) X_allprecipitation_kgm2>=24.03 389  415.19430 1.759889  \n",
      "      10) X_allmin_temperature< 21.05 137  151.70850 1.420003 *\n",
      "      11) X_allmin_temperature>=21.05 252  239.05510 1.944668 *\n",
      "   3) X_allcitysj>=0.5 935  996.90110 3.002345  \n",
      "     6) X_allmin_temperature< 23.6 647  641.51200 2.859564  \n",
      "      12) X_allrelative_humidity< 79.63 426  370.46680 2.697670 *\n",
      "      13) X_allrelative_humidity>=79.63 221  238.35750 3.171631  \n",
      "        26) X_allndvi_ne< 0.21755 204  183.78180 3.075247 *\n",
      "        27) X_allndvi_ne>=0.21755 17   29.93893 4.328241 *\n",
      "     7) X_allmin_temperature>=23.6 288  312.56700 3.323108 *\n"
     ]
    }
   ],
   "source": [
    "print(fm.rpart)"
   ]
  },
  {
   "cell_type": "code",
   "execution_count": 58,
   "metadata": {},
   "outputs": [
    {
     "name": "stdout",
     "output_type": "stream",
     "text": [
      "\n",
      "Regression tree:\n",
      "rpart(formula = Y_all ~ X_all)\n",
      "\n",
      "Variables actually used in tree construction:\n",
      "[1] X_allcitysj             X_allmin_temperature    X_allndvi_ne           \n",
      "[4] X_allprecipitation_kgm2 X_allrelative_humidity \n",
      "\n",
      "Root node error: 2234.6/1454 = 1.5369\n",
      "\n",
      "n= 1454 \n",
      "\n",
      "        CP nsplit rel error  xerror     xstd\n",
      "1 0.295774      0   1.00000 1.00140 0.035534\n",
      "2 0.019163      1   0.70423 0.70676 0.024828\n",
      "3 0.018875      2   0.68506 0.71286 0.025540\n",
      "4 0.014628      3   0.66619 0.69674 0.024758\n",
      "5 0.011025      4   0.65156 0.68953 0.024539\n",
      "6 0.010933      5   0.64053 0.68346 0.024356\n",
      "7 0.010000      6   0.62960 0.67862 0.024264\n"
     ]
    }
   ],
   "source": [
    "printcp(fm.rpart)"
   ]
  },
  {
   "cell_type": "code",
   "execution_count": 59,
   "metadata": {
    "scrolled": true
   },
   "outputs": [
    {
     "name": "stdout",
     "output_type": "stream",
     "text": [
      "Call:\n",
      "rpart(formula = Y_all ~ X_all)\n",
      "  n= 1454 \n",
      "\n",
      "          CP nsplit rel error    xerror       xstd\n",
      "1 0.29577445      0 1.0000000 1.0014041 0.03553409\n",
      "2 0.01916314      1 0.7042256 0.7067623 0.02482769\n",
      "3 0.01887515      2 0.6850624 0.7128638 0.02554048\n",
      "4 0.01462793      3 0.6661873 0.6967422 0.02475754\n",
      "5 0.01102514      4 0.6515593 0.6895348 0.02453878\n",
      "6 0.01093291      5 0.6405342 0.6834573 0.02435636\n",
      "7 0.01000000      6 0.6296013 0.6786237 0.02426402\n",
      "\n",
      "Variable importance\n",
      "            X_allcitysj  X_allrelative_humidity            X_allndvi_ne \n",
      "                     23                      18                      16 \n",
      "           X_allndvi_nw    X_allmax_temperature            X_allndvi_sw \n",
      "                     14                      11                      10 \n",
      "   X_allmin_temperature X_allprecipitation_kgm2  X_allsat_precipitation \n",
      "                      3                       2                       1 \n",
      "\n",
      "Node number 1: 1454 observations,    complexity param=0.2957744\n",
      "  mean=2.50003, MSE=1.536867 \n",
      "  left son=2 (519 obs) right son=3 (935 obs)\n",
      "  Primary splits:\n",
      "      X_allcitysj          < 0.5        to the left,  improve=0.2957744, (0 missing)\n",
      "      X_allndvi_nw         < 0.1453393  to the right, improve=0.1643518, (0 missing)\n",
      "      X_allndvi_ne         < 0.1411666  to the right, improve=0.1556686, (0 missing)\n",
      "      X_allndvi_sw         < 0.2254     to the right, improve=0.1270451, (0 missing)\n",
      "      X_allmin_temperature < 22.75      to the left,  improve=0.1258541, (0 missing)\n",
      "  Surrogate splits:\n",
      "      X_allrelative_humidity < 84.39429   to the right, agree=0.891, adj=0.694, (0 split)\n",
      "      X_allndvi_ne           < 0.1551822  to the right, agree=0.883, adj=0.672, (0 split)\n",
      "      X_allndvi_nw           < 0.1491928  to the right, agree=0.865, adj=0.622, (0 split)\n",
      "      X_allmax_temperature   < 33.35      to the right, agree=0.814, adj=0.480, (0 split)\n",
      "      X_allndvi_sw           < 0.2539214  to the right, agree=0.804, adj=0.451, (0 split)\n",
      "\n",
      "Node number 2: 519 observations,    complexity param=0.01887515\n",
      "  mean=1.595089, MSE=1.111299 \n",
      "  left son=4 (130 obs) right son=5 (389 obs)\n",
      "  Primary splits:\n",
      "      X_allprecipitation_kgm2  < 24.03      to the left,  improve=0.07312950, (0 missing)\n",
      "      X_allmin_temperature     < 21.05      to the left,  improve=0.06958027, (0 missing)\n",
      "      X_allrelative_humidity   < 84.27857   to the left,  improve=0.05643319, (0 missing)\n",
      "      X_alltotal_precipitation < 96.45      to the left,  improve=0.02125832, (0 missing)\n",
      "      X_allsat_precipitation   < 101.26     to the left,  improve=0.01713386, (0 missing)\n",
      "  Surrogate splits:\n",
      "      X_allrelative_humidity < 82.53071   to the left,  agree=0.875, adj=0.500, (0 split)\n",
      "      X_allsat_precipitation < 32.06      to the left,  agree=0.815, adj=0.262, (0 split)\n",
      "      X_allmin_temperature   < 18.9       to the left,  agree=0.771, adj=0.085, (0 split)\n",
      "      X_allmosquito2         < 0.5        to the right, agree=0.769, adj=0.077, (0 split)\n",
      "      X_allmosquito1         < 0.5        to the left,  agree=0.765, adj=0.062, (0 split)\n",
      "\n",
      "Node number 3: 935 observations,    complexity param=0.01916314\n",
      "  mean=3.002345, MSE=1.066204 \n",
      "  left son=6 (647 obs) right son=7 (288 obs)\n",
      "  Primary splits:\n",
      "      X_allmin_temperature    < 23.6       to the left,  improve=0.04295516, (0 missing)\n",
      "      X_allprecipitation_kgm2 < 11.21      to the left,  improve=0.04189287, (0 missing)\n",
      "      X_allrelative_humidity  < 76.34143   to the left,  improve=0.03136742, (0 missing)\n",
      "      X_allmax_temperature    < 31.4       to the left,  improve=0.02738081, (0 missing)\n",
      "      X_allndvi_ne            < 0.2230625  to the left,  improve=0.02452558, (0 missing)\n",
      "  Surrogate splits:\n",
      "      X_allmax_temperature < 32.5       to the left,  agree=0.736, adj=0.142, (0 split)\n",
      "      X_allweekofyear27    < 0.5        to the left,  agree=0.705, adj=0.042, (0 split)\n",
      "      X_allweekofyear37    < 0.5        to the left,  agree=0.705, adj=0.042, (0 split)\n",
      "      X_allweekofyear38    < 0.5        to the left,  agree=0.705, adj=0.042, (0 split)\n",
      "      X_allweekofyear32    < 0.5        to the left,  agree=0.703, adj=0.035, (0 split)\n",
      "\n",
      "Node number 4: 130 observations\n",
      "  mean=1.101955, MSE=0.9183956 \n",
      "\n",
      "Node number 5: 389 observations,    complexity param=0.01093291\n",
      "  mean=1.759889, MSE=1.067338 \n",
      "  left son=10 (137 obs) right son=11 (252 obs)\n",
      "  Primary splits:\n",
      "      X_allmin_temperature     < 21.05      to the left,  improve=0.05884165, (0 missing)\n",
      "      X_allrelative_humidity   < 84.24357   to the left,  improve=0.01562952, (0 missing)\n",
      "      X_allweekofyear6         < 0.5        to the left,  improve=0.01551039, (0 missing)\n",
      "      X_alltotal_precipitation < 101        to the left,  improve=0.01528326, (0 missing)\n",
      "      X_allprecipitation_kgm2  < 47.595     to the left,  improve=0.01500027, (0 missing)\n",
      "  Surrogate splits:\n",
      "      X_allmosquito1         < 0.5        to the left,  agree=0.717, adj=0.197, (0 split)\n",
      "      X_allmosquito2         < 0.5        to the right, agree=0.710, adj=0.175, (0 split)\n",
      "      X_allrelative_humidity < 80.42929   to the left,  agree=0.666, adj=0.051, (0 split)\n",
      "      X_allweekofyear36      < 0.5        to the right, agree=0.663, adj=0.044, (0 split)\n",
      "      X_allsat_precipitation < 36.85      to the left,  agree=0.663, adj=0.044, (0 split)\n",
      "\n",
      "Node number 6: 647 observations,    complexity param=0.01462793\n",
      "  mean=2.859564, MSE=0.9915178 \n",
      "  left son=12 (426 obs) right son=13 (221 obs)\n",
      "  Primary splits:\n",
      "      X_allrelative_humidity  < 79.63      to the left,  improve=0.05095404, (0 missing)\n",
      "      X_allprecipitation_kgm2 < 43.775     to the left,  improve=0.04380838, (0 missing)\n",
      "      X_allndvi_ne            < 0.2230625  to the left,  improve=0.02786308, (0 missing)\n",
      "      X_allndvi_nw            < 0.02460834 to the left,  improve=0.02708068, (0 missing)\n",
      "      X_allweekofyear46       < 0.5        to the left,  improve=0.02190235, (0 missing)\n",
      "  Surrogate splits:\n",
      "      X_allprecipitation_kgm2  < 33.65      to the left,  agree=0.832, adj=0.507, (0 split)\n",
      "      X_allsat_precipitation   < 45.355     to the left,  agree=0.748, adj=0.262, (0 split)\n",
      "      X_alltotal_precipitation < 40.5       to the left,  agree=0.737, adj=0.231, (0 split)\n",
      "      X_allmin_temperature     < 22.5       to the left,  agree=0.703, adj=0.131, (0 split)\n",
      "      X_allmax_temperature     < 33.05      to the left,  agree=0.680, adj=0.063, (0 split)\n",
      "\n",
      "Node number 7: 288 observations\n",
      "  mean=3.323108, MSE=1.085302 \n",
      "\n",
      "Node number 10: 137 observations\n",
      "  mean=1.420003, MSE=1.107361 \n",
      "\n",
      "Node number 11: 252 observations\n",
      "  mean=1.944668, MSE=0.9486314 \n",
      "\n",
      "Node number 12: 426 observations\n",
      "  mean=2.69767, MSE=0.8696405 \n",
      "\n",
      "Node number 13: 221 observations,    complexity param=0.01102514\n",
      "  mean=3.171631, MSE=1.078541 \n",
      "  left son=26 (204 obs) right son=27 (17 obs)\n",
      "  Primary splits:\n",
      "      X_allndvi_ne            < 0.21755    to the left,  improve=0.10336080, (0 missing)\n",
      "      X_allweekofyear20       < 0.5        to the right, improve=0.05135596, (0 missing)\n",
      "      X_allndvi_se            < 0.1547798  to the left,  improve=0.04347434, (0 missing)\n",
      "      X_allprecipitation_kgm2 < 18.15      to the left,  improve=0.03624650, (0 missing)\n",
      "      X_allrelative_humidity  < 84.60786   to the left,  improve=0.03594562, (0 missing)\n",
      "  Surrogate splits:\n",
      "      X_allndvi_sw < 0.2780072  to the left,  agree=0.932, adj=0.118, (0 split)\n",
      "\n",
      "Node number 26: 204 observations\n",
      "  mean=3.075247, MSE=0.9008911 \n",
      "\n",
      "Node number 27: 17 observations\n",
      "  mean=4.328241, MSE=1.761113 \n",
      "\n"
     ]
    },
    {
     "data": {
      "image/png": "[encoded data removed]",
      "text/plain": [
       "plot without title"
      ]
     },
     "metadata": {
      "image/png": {
       "height": 420,
       "width": 420
      },
      "text/plain": {
       "height": 420,
       "width": 420
      }
     },
     "output_type": "display_data"
    },
    {
     "data": {
      "image/png": "[encoded data removed]",
      "text/plain": [
       "plot without title"
      ]
     },
     "metadata": {
      "image/png": {
       "height": 420,
       "width": 420
      },
      "text/plain": {
       "height": 420,
       "width": 420
      }
     },
     "output_type": "display_data"
    }
   ],
   "source": [
    "summary(fm.rpart)\n",
    "plot(fm.rpart)\n",
    "text(fm.rpart)\n",
    "plotcp(fm.rpart)"
   ]
  },
  {
   "cell_type": "markdown",
   "metadata": {},
   "source": [
    "# Prediction"
   ]
  },
  {
   "cell_type": "code",
   "execution_count": 60,
   "metadata": {},
   "outputs": [],
   "source": [
    "prediction_lasso = predict(fm.lasso, newx = X_test, s = lambda_lasso)\n",
    "prediction_ridge = predict(fm.ridge, newx = X_test, s = lambda_ridge)"
   ]
  },
  {
   "cell_type": "code",
   "execution_count": 61,
   "metadata": {},
   "outputs": [],
   "source": [
    "pred.rf1 <- predict(fit.rf, newdata =X_test)"
   ]
  },
  {
   "cell_type": "markdown",
   "metadata": {},
   "source": [
    "inverse exponential + 1"
   ]
  },
  {
   "cell_type": "code",
   "execution_count": 62,
   "metadata": {},
   "outputs": [],
   "source": [
    "prediction = as.integer(round(exp(pred.rf1)+1))"
   ]
  },
  {
   "cell_type": "code",
   "execution_count": 63,
   "metadata": {
    "scrolled": true
   },
   "outputs": [],
   "source": [
    "final <- data.frame(submission,prediction,row.names = NULL)"
   ]
  },
  {
   "cell_type": "code",
   "execution_count": 64,
   "metadata": {},
   "outputs": [],
   "source": [
    "colnames(final)[4]<-\"total_cases\""
   ]
  },
  {
   "cell_type": "code",
   "execution_count": 65,
   "metadata": {},
   "outputs": [],
   "source": [
    "write.csv(final,\"submission.csv\", row.names = FALSE)"
   ]
  }
 ],
 "metadata": {
  "kernelspec": {
   "display_name": "R",
   "language": "R",
   "name": "ir"
  },
  "language_info": {
   "codemirror_mode": "r",
   "file_extension": ".r",
   "mimetype": "text/x-r-source",
   "name": "R",
   "pygments_lexer": "r",
   "version": "3.6.2"
  }
 },
 "nbformat": 4,
 "nbformat_minor": 2
}
